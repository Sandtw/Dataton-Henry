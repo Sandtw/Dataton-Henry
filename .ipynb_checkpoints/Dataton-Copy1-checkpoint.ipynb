{
 "cells": [
  {
   "cell_type": "markdown",
   "metadata": {},
   "source": [
    "# Programa de bicicletas compartidas (Bicycle share scheme)\n"
   ]
  },
  {
   "cell_type": "markdown",
   "metadata": {},
   "source": [
    "Sistema práctico y al alcance de todos, en donde el usuario puede alquilar fácilmente una bicicleta y/o una bicicleta eléctrica desde cierta posición en particular, los cuales son estacionamientos específicos según la entidad que entrega el servicio, y con la opción de devolverla en otro punto de estacionamiento.\n",
    "\n",
    "Este sistema toma un papel fundamental en la detección de eventualidades y análisis del comportamiento dentro de una ciudad. Esto debido a que, a diferencia de transportes como buses, metro o automóviles, gracias a los sensores incorporados se puede registrar la información exacta del viaje, como por ejemplo la duración, punto de inicio y punto de llegada.\n"
   ]
  },
  {
   "cell_type": "markdown",
   "metadata": {},
   "source": [
    "## Descripción del prolema\n",
    "Poniéndonos en la situación de que somos parte del equipo de la empresa Rent-Cycle en Wachington DC, y nuestro Team Leader nos da la tarea de implementar un modelo que nos permita **predecir la cantidad de bicicletas que se alquilan** según la información contenida en el dataset puesto a disposición.\n",
    "\n",
    "**Tipo de problema**: Regresión, ya que la variable objetivo a predecir es un valor numérico"
   ]
  },
  {
   "cell_type": "markdown",
   "metadata": {},
   "source": [
    "## Procedimiento\n",
    "1. [Librerías](#id1)\n",
    "2. [Importación de archivos](#id2)\n",
    "3. [EDA: Análisis exploratorio de datos](#id3)\n",
    "    <br>3.1. [Búsqueda de valores faltantes](#id3.1)\n",
    "    <br>3.2. [Correlación de variables](#id3.2)\n",
    "    <br>3.3. [Distribuciones](#id3.3)\n",
    "4. [Feature engineering](#id4)\n",
    "5. [Pre-procesamiento](#id5)\n",
    "6. [Modelos de entrenamiento](#id6)\n",
    "    <br>6.1. [Random Forest](#id6.1)\n",
    "    <br>6.2. [XGBoost](#id6.2)\n",
    "    <br>6.3. [Red Neuronal](#id6.3)\n",
    "7. [Pruebas](#id7)\n",
    "    <br>7.1. [Random Forest](#id7.1)\n",
    "    <br>7.2. [XGBoost](#id7.2)\n",
    "    <br>7.3. [Red Neuronal](#id7.3)\n",
    "\n"
   ]
  },
  {
   "cell_type": "markdown",
   "metadata": {},
   "source": [
    "## 1. Librerías\n",
    "<div id='id1'/>\n"
   ]
  },
  {
   "cell_type": "code",
   "execution_count": 1,
   "metadata": {},
   "outputs": [],
   "source": [
    "import math\n",
    "import statsmodels.api as sm\n",
    "from scipy import stats\n",
    "import pandas as pd\n",
    "import numpy as np\n",
    "import matplotlib.pyplot as plt\n",
    "import seaborn as sns\n",
    "from sklearn.compose import ColumnTransformer, make_column_transformer\n",
    "from sklearn.preprocessing import StandardScaler, MinMaxScaler\n",
    "from sklearn.model_selection import train_test_split\n",
    "from sklearn.ensemble import RandomForestRegressor\n",
    "from sklearn.model_selection import GridSearchCV\n",
    "from sklearn.metrics import mean_squared_error\n",
    "import warnings\n",
    "warnings.filterwarnings('ignore')"
   ]
  },
  {
   "cell_type": "markdown",
   "metadata": {},
   "source": [
    "## 2. Importación de archivos\n",
    "<div id='id2'/>"
   ]
  },
  {
   "cell_type": "code",
   "execution_count": 2,
   "metadata": {},
   "outputs": [],
   "source": [
    "train_df = pd.read_excel('Dataset/bike_train.xlsx')\n",
    "test_df = pd.read_excel('Dataset/bike_test_act.xlsx')"
   ]
  },
  {
   "cell_type": "code",
   "execution_count": 3,
   "metadata": {},
   "outputs": [
    {
     "data": {
      "text/html": [
       "<div>\n",
       "<style scoped>\n",
       "    .dataframe tbody tr th:only-of-type {\n",
       "        vertical-align: middle;\n",
       "    }\n",
       "\n",
       "    .dataframe tbody tr th {\n",
       "        vertical-align: top;\n",
       "    }\n",
       "\n",
       "    .dataframe thead th {\n",
       "        text-align: right;\n",
       "    }\n",
       "</style>\n",
       "<table border=\"1\" class=\"dataframe\">\n",
       "  <thead>\n",
       "    <tr style=\"text-align: right;\">\n",
       "      <th></th>\n",
       "      <th>instant</th>\n",
       "      <th>dteday</th>\n",
       "      <th>season</th>\n",
       "      <th>yr</th>\n",
       "      <th>mnth</th>\n",
       "      <th>hr</th>\n",
       "      <th>holiday</th>\n",
       "      <th>weekday</th>\n",
       "      <th>workingday</th>\n",
       "      <th>weathersit</th>\n",
       "      <th>temp</th>\n",
       "      <th>atemp</th>\n",
       "      <th>hum</th>\n",
       "      <th>windspeed</th>\n",
       "      <th>casual</th>\n",
       "      <th>registered</th>\n",
       "      <th>cnt</th>\n",
       "    </tr>\n",
       "  </thead>\n",
       "  <tbody>\n",
       "    <tr>\n",
       "      <th>0</th>\n",
       "      <td>1</td>\n",
       "      <td>2011-01-01</td>\n",
       "      <td>1</td>\n",
       "      <td>0</td>\n",
       "      <td>1</td>\n",
       "      <td>0</td>\n",
       "      <td>0</td>\n",
       "      <td>6</td>\n",
       "      <td>0</td>\n",
       "      <td>1</td>\n",
       "      <td>0.24</td>\n",
       "      <td>0.2879</td>\n",
       "      <td>0.81</td>\n",
       "      <td>0.0</td>\n",
       "      <td>3</td>\n",
       "      <td>13</td>\n",
       "      <td>16</td>\n",
       "    </tr>\n",
       "    <tr>\n",
       "      <th>1</th>\n",
       "      <td>2</td>\n",
       "      <td>2011-01-01</td>\n",
       "      <td>1</td>\n",
       "      <td>0</td>\n",
       "      <td>1</td>\n",
       "      <td>1</td>\n",
       "      <td>0</td>\n",
       "      <td>6</td>\n",
       "      <td>0</td>\n",
       "      <td>1</td>\n",
       "      <td>0.22</td>\n",
       "      <td>0.2727</td>\n",
       "      <td>0.80</td>\n",
       "      <td>0.0</td>\n",
       "      <td>8</td>\n",
       "      <td>32</td>\n",
       "      <td>40</td>\n",
       "    </tr>\n",
       "    <tr>\n",
       "      <th>2</th>\n",
       "      <td>3</td>\n",
       "      <td>2011-01-01</td>\n",
       "      <td>1</td>\n",
       "      <td>0</td>\n",
       "      <td>1</td>\n",
       "      <td>2</td>\n",
       "      <td>0</td>\n",
       "      <td>6</td>\n",
       "      <td>0</td>\n",
       "      <td>1</td>\n",
       "      <td>0.22</td>\n",
       "      <td>0.2727</td>\n",
       "      <td>0.80</td>\n",
       "      <td>0.0</td>\n",
       "      <td>5</td>\n",
       "      <td>27</td>\n",
       "      <td>32</td>\n",
       "    </tr>\n",
       "    <tr>\n",
       "      <th>3</th>\n",
       "      <td>4</td>\n",
       "      <td>2011-01-01</td>\n",
       "      <td>1</td>\n",
       "      <td>0</td>\n",
       "      <td>1</td>\n",
       "      <td>3</td>\n",
       "      <td>0</td>\n",
       "      <td>6</td>\n",
       "      <td>0</td>\n",
       "      <td>1</td>\n",
       "      <td>0.24</td>\n",
       "      <td>0.2879</td>\n",
       "      <td>0.75</td>\n",
       "      <td>0.0</td>\n",
       "      <td>3</td>\n",
       "      <td>10</td>\n",
       "      <td>13</td>\n",
       "    </tr>\n",
       "    <tr>\n",
       "      <th>4</th>\n",
       "      <td>5</td>\n",
       "      <td>2011-01-01</td>\n",
       "      <td>1</td>\n",
       "      <td>0</td>\n",
       "      <td>1</td>\n",
       "      <td>4</td>\n",
       "      <td>0</td>\n",
       "      <td>6</td>\n",
       "      <td>0</td>\n",
       "      <td>1</td>\n",
       "      <td>0.24</td>\n",
       "      <td>0.2879</td>\n",
       "      <td>0.75</td>\n",
       "      <td>0.0</td>\n",
       "      <td>0</td>\n",
       "      <td>1</td>\n",
       "      <td>1</td>\n",
       "    </tr>\n",
       "  </tbody>\n",
       "</table>\n",
       "</div>"
      ],
      "text/plain": [
       "   instant     dteday  season  yr  mnth  hr  holiday  weekday  workingday  \\\n",
       "0        1 2011-01-01       1   0     1   0        0        6           0   \n",
       "1        2 2011-01-01       1   0     1   1        0        6           0   \n",
       "2        3 2011-01-01       1   0     1   2        0        6           0   \n",
       "3        4 2011-01-01       1   0     1   3        0        6           0   \n",
       "4        5 2011-01-01       1   0     1   4        0        6           0   \n",
       "\n",
       "   weathersit  temp   atemp   hum  windspeed  casual  registered  cnt  \n",
       "0           1  0.24  0.2879  0.81        0.0       3          13   16  \n",
       "1           1  0.22  0.2727  0.80        0.0       8          32   40  \n",
       "2           1  0.22  0.2727  0.80        0.0       5          27   32  \n",
       "3           1  0.24  0.2879  0.75        0.0       3          10   13  \n",
       "4           1  0.24  0.2879  0.75        0.0       0           1    1  "
      ]
     },
     "execution_count": 3,
     "metadata": {},
     "output_type": "execute_result"
    }
   ],
   "source": [
    "train_df.head()"
   ]
  },
  {
   "cell_type": "code",
   "execution_count": 4,
   "metadata": {},
   "outputs": [
    {
     "data": {
      "text/html": [
       "<div>\n",
       "<style scoped>\n",
       "    .dataframe tbody tr th:only-of-type {\n",
       "        vertical-align: middle;\n",
       "    }\n",
       "\n",
       "    .dataframe tbody tr th {\n",
       "        vertical-align: top;\n",
       "    }\n",
       "\n",
       "    .dataframe thead th {\n",
       "        text-align: right;\n",
       "    }\n",
       "</style>\n",
       "<table border=\"1\" class=\"dataframe\">\n",
       "  <thead>\n",
       "    <tr style=\"text-align: right;\">\n",
       "      <th></th>\n",
       "      <th>instant</th>\n",
       "      <th>dteday</th>\n",
       "      <th>season</th>\n",
       "      <th>yr</th>\n",
       "      <th>mnth</th>\n",
       "      <th>hr</th>\n",
       "      <th>holiday</th>\n",
       "      <th>weekday</th>\n",
       "      <th>workingday</th>\n",
       "      <th>weathersit</th>\n",
       "      <th>temp</th>\n",
       "      <th>atemp</th>\n",
       "      <th>hum</th>\n",
       "      <th>windspeed</th>\n",
       "    </tr>\n",
       "  </thead>\n",
       "  <tbody>\n",
       "    <tr>\n",
       "      <th>0</th>\n",
       "      <td>12000</td>\n",
       "      <td>2012-05-20</td>\n",
       "      <td>2</td>\n",
       "      <td>1</td>\n",
       "      <td>5</td>\n",
       "      <td>4</td>\n",
       "      <td>0</td>\n",
       "      <td>0</td>\n",
       "      <td>0</td>\n",
       "      <td>1</td>\n",
       "      <td>0.52</td>\n",
       "      <td>0.5000</td>\n",
       "      <td>0.68</td>\n",
       "      <td>0.0896</td>\n",
       "    </tr>\n",
       "    <tr>\n",
       "      <th>1</th>\n",
       "      <td>12001</td>\n",
       "      <td>2012-05-20</td>\n",
       "      <td>2</td>\n",
       "      <td>1</td>\n",
       "      <td>5</td>\n",
       "      <td>5</td>\n",
       "      <td>0</td>\n",
       "      <td>0</td>\n",
       "      <td>0</td>\n",
       "      <td>1</td>\n",
       "      <td>0.50</td>\n",
       "      <td>0.4848</td>\n",
       "      <td>0.72</td>\n",
       "      <td>0.1045</td>\n",
       "    </tr>\n",
       "    <tr>\n",
       "      <th>2</th>\n",
       "      <td>12002</td>\n",
       "      <td>2012-05-20</td>\n",
       "      <td>2</td>\n",
       "      <td>1</td>\n",
       "      <td>5</td>\n",
       "      <td>6</td>\n",
       "      <td>0</td>\n",
       "      <td>0</td>\n",
       "      <td>0</td>\n",
       "      <td>1</td>\n",
       "      <td>0.50</td>\n",
       "      <td>0.4848</td>\n",
       "      <td>0.63</td>\n",
       "      <td>0.1343</td>\n",
       "    </tr>\n",
       "    <tr>\n",
       "      <th>3</th>\n",
       "      <td>12003</td>\n",
       "      <td>2012-05-20</td>\n",
       "      <td>2</td>\n",
       "      <td>1</td>\n",
       "      <td>5</td>\n",
       "      <td>7</td>\n",
       "      <td>0</td>\n",
       "      <td>0</td>\n",
       "      <td>0</td>\n",
       "      <td>1</td>\n",
       "      <td>0.52</td>\n",
       "      <td>0.5000</td>\n",
       "      <td>0.68</td>\n",
       "      <td>0.1940</td>\n",
       "    </tr>\n",
       "    <tr>\n",
       "      <th>4</th>\n",
       "      <td>12004</td>\n",
       "      <td>2012-05-20</td>\n",
       "      <td>2</td>\n",
       "      <td>1</td>\n",
       "      <td>5</td>\n",
       "      <td>8</td>\n",
       "      <td>0</td>\n",
       "      <td>0</td>\n",
       "      <td>0</td>\n",
       "      <td>1</td>\n",
       "      <td>0.56</td>\n",
       "      <td>0.5303</td>\n",
       "      <td>0.56</td>\n",
       "      <td>0.1642</td>\n",
       "    </tr>\n",
       "  </tbody>\n",
       "</table>\n",
       "</div>"
      ],
      "text/plain": [
       "   instant     dteday  season  yr  mnth  hr  holiday  weekday  workingday  \\\n",
       "0    12000 2012-05-20       2   1     5   4        0        0           0   \n",
       "1    12001 2012-05-20       2   1     5   5        0        0           0   \n",
       "2    12002 2012-05-20       2   1     5   6        0        0           0   \n",
       "3    12003 2012-05-20       2   1     5   7        0        0           0   \n",
       "4    12004 2012-05-20       2   1     5   8        0        0           0   \n",
       "\n",
       "   weathersit  temp   atemp   hum  windspeed  \n",
       "0           1  0.52  0.5000  0.68     0.0896  \n",
       "1           1  0.50  0.4848  0.72     0.1045  \n",
       "2           1  0.50  0.4848  0.63     0.1343  \n",
       "3           1  0.52  0.5000  0.68     0.1940  \n",
       "4           1  0.56  0.5303  0.56     0.1642  "
      ]
     },
     "execution_count": 4,
     "metadata": {},
     "output_type": "execute_result"
    }
   ],
   "source": [
    "test_df.head()"
   ]
  },
  {
   "cell_type": "markdown",
   "metadata": {},
   "source": [
    "## 3. EDA: Análisis exploratorio de datos\n",
    "<div id='id3'/>"
   ]
  },
  {
   "cell_type": "markdown",
   "metadata": {},
   "source": [
    "### Búsqueda de valores faltantes\n",
    "<div id='id3.1'/>\n",
    "\n",
    "> No presentan valores faltantes ambos datasets"
   ]
  },
  {
   "cell_type": "code",
   "execution_count": 5,
   "metadata": {},
   "outputs": [
    {
     "data": {
      "text/plain": [
       "instant       0\n",
       "dteday        0\n",
       "season        0\n",
       "yr            0\n",
       "mnth          0\n",
       "hr            0\n",
       "holiday       0\n",
       "weekday       0\n",
       "workingday    0\n",
       "weathersit    0\n",
       "temp          0\n",
       "atemp         0\n",
       "hum           0\n",
       "windspeed     0\n",
       "casual        0\n",
       "registered    0\n",
       "cnt           0\n",
       "dtype: int64"
      ]
     },
     "execution_count": 5,
     "metadata": {},
     "output_type": "execute_result"
    }
   ],
   "source": [
    "train_df.isna().sum()"
   ]
  },
  {
   "cell_type": "code",
   "execution_count": 6,
   "metadata": {},
   "outputs": [
    {
     "data": {
      "text/plain": [
       "instant       0\n",
       "dteday        0\n",
       "season        0\n",
       "yr            0\n",
       "mnth          0\n",
       "hr            0\n",
       "holiday       0\n",
       "weekday       0\n",
       "workingday    0\n",
       "weathersit    0\n",
       "temp          0\n",
       "atemp         0\n",
       "hum           0\n",
       "windspeed     0\n",
       "dtype: int64"
      ]
     },
     "execution_count": 6,
     "metadata": {},
     "output_type": "execute_result"
    }
   ],
   "source": [
    "test_df.isna().sum()"
   ]
  },
  {
   "cell_type": "markdown",
   "metadata": {},
   "source": [
    "### Correlación de variables\n",
    "<div id='id3.2'/>"
   ]
  },
  {
   "cell_type": "markdown",
   "metadata": {},
   "source": [
    "Eliminamos la variable `instant` y `dteday`"
   ]
  },
  {
   "cell_type": "code",
   "execution_count": 7,
   "metadata": {},
   "outputs": [],
   "source": [
    "train_df.drop(labels = ['instant', 'dteday'], axis = 1, inplace = True)"
   ]
  },
  {
   "cell_type": "code",
   "execution_count": 1553,
   "metadata": {},
   "outputs": [],
   "source": [
    "import itertools\n",
    "from sklearn.metrics import confusion_matrix\n",
    "\n",
    "def make_correlation(df, figsize = (20,10), text_size = 8):\n",
    "  \n",
    "  # Creamos matriz de confusion\n",
    "    cm = df.corr().values\n",
    "    n_classes = cm.shape[0]\n",
    "\n",
    "    fig, ax = plt.subplots(figsize = figsize)\n",
    "    cax = ax.matshow(cm, cmap = plt.cm.Blues)\n",
    "\n",
    "    # Establecemos labels para las classes\n",
    "    labels = df.columns\n",
    "\n",
    "    # Label the axes\n",
    "    ax.set(title = \"Correlation Matrix\",\n",
    "            xticks = np.arange(n_classes),\n",
    "            yticks = np.arange(n_classes),\n",
    "            xticklabels = labels, # axes se etiquetarán con nombres de clase (si existen) o enteros\n",
    "            yticklabels = labels)\n",
    "  \n",
    "    # Establecemos x-axis labels to bottom\n",
    "    ax.xaxis.set_label_position(\"bottom\")\n",
    "    ax.xaxis.tick_bottom()\n",
    "\n",
    "    # Ajustas tamaño label\n",
    "    ax.yaxis.label.set_size(text_size)\n",
    "    ax.xaxis.label.set_size(text_size)\n",
    "    ax.title.set_size(text_size)\n",
    "    fig.autofmt_xdate(rotation=70)\n",
    "\n",
    "\n",
    "    # Establecemos threshold para diferentes colores\n",
    "    threshold = (cm.max() + cm.min())/2.\n",
    "\n",
    "    # Dibujamos el texto en cada celda\n",
    "    for i, j in itertools.product(range(cm.shape[0]), range(cm.shape[1])):\n",
    "        plt.text(j, i, f\"{round(cm[i,j], 2)}%\",\n",
    "             horizontalalignment = \"center\",\n",
    "             color = \"white\" if cm[i, j] > threshold else \"black\",\n",
    "             size = text_size)"
   ]
  },
  {
   "cell_type": "code",
   "execution_count": 1554,
   "metadata": {},
   "outputs": [
    {
     "data": {
      "image/png": "[encoded data removed]",
      "text/plain": [
       "<Figure size 1440x720 with 1 Axes>"
      ]
     },
     "metadata": {
      "needs_background": "light"
     },
     "output_type": "display_data"
    }
   ],
   "source": [
    "make_correlation(train_df)"
   ]
  },
  {
   "cell_type": "markdown",
   "metadata": {},
   "source": [
    "<div id='idconc'/>\n",
    "\n",
    "[Regresar a Feature engineering](#idfeat)\n",
    "\n",
    "**Conclusiones**:\n",
    "- Correlación con `cnt`\n",
    "\n",
    ">`casual`(0.7) y `registered`(0.9) / Cabe resaltar que casual + registered componen la variable cnt, dado que el objetivo a predecir es cnt, se podría trata de 2 maneras:\n",
    "\n",
    "     - Eliminar cnt, y realizar 2 regresiones (casual y registeres) y luego sumar ambos resultados para obtener la predicción\n",
    "     \n",
    "     - Eliminar casual y registered para tener una única variable a predecir\n",
    "\n",
    "- Correlación entre `season` y `mnth` (0.87)\n",
    "\n",
    "> Debido a su alta correlación lineal, se decidirá eliminar una de las dos\n",
    "\n",
    "\n",
    "- Correlación entre `temp` y `atemp` (0.99)\n",
    "\n",
    "> Debido a su alta correlación lineal, se decidirá eliminar una de las dos\n",
    "\n",
    "     - Dato a tener en cuenta : En la formula de sensación térmica por frio o calor, atemp recibe como variable independiente a la temperatura\n",
    "     \n",
    "- Correlación casi nula con `cnt`\n",
    "\n",
    "> Se considera un rango entre -0.1 a 0.1\n",
    "\n",
    "      - `mnth`(0.07), `workingday`(0.03), `weekday`(0.02), `holiday` (-0.03), `windspeed` (0.09)   \n"
   ]
  },
  {
   "cell_type": "code",
   "execution_count": 1569,
   "metadata": {},
   "outputs": [
    {
     "data": {
      "text/html": [
       "<div>\n",
       "<style scoped>\n",
       "    .dataframe tbody tr th:only-of-type {\n",
       "        vertical-align: middle;\n",
       "    }\n",
       "\n",
       "    .dataframe tbody tr th {\n",
       "        vertical-align: top;\n",
       "    }\n",
       "\n",
       "    .dataframe thead th {\n",
       "        text-align: right;\n",
       "    }\n",
       "</style>\n",
       "<table border=\"1\" class=\"dataframe\">\n",
       "  <thead>\n",
       "    <tr style=\"text-align: right;\">\n",
       "      <th></th>\n",
       "      <th>count</th>\n",
       "      <th>mean</th>\n",
       "      <th>std</th>\n",
       "      <th>min</th>\n",
       "      <th>25%</th>\n",
       "      <th>50%</th>\n",
       "      <th>75%</th>\n",
       "      <th>max</th>\n",
       "    </tr>\n",
       "  </thead>\n",
       "  <tbody>\n",
       "    <tr>\n",
       "      <th>season</th>\n",
       "      <td>11999.0</td>\n",
       "      <td>2.210684</td>\n",
       "      <td>1.088798</td>\n",
       "      <td>1.00</td>\n",
       "      <td>1.0000</td>\n",
       "      <td>2.0000</td>\n",
       "      <td>3.0000</td>\n",
       "      <td>4.0000</td>\n",
       "    </tr>\n",
       "    <tr>\n",
       "      <th>yr</th>\n",
       "      <td>11999.0</td>\n",
       "      <td>0.279523</td>\n",
       "      <td>0.448784</td>\n",
       "      <td>0.00</td>\n",
       "      <td>0.0000</td>\n",
       "      <td>0.0000</td>\n",
       "      <td>1.0000</td>\n",
       "      <td>1.0000</td>\n",
       "    </tr>\n",
       "    <tr>\n",
       "      <th>mnth</th>\n",
       "      <td>11999.0</td>\n",
       "      <td>5.530294</td>\n",
       "      <td>3.433005</td>\n",
       "      <td>1.00</td>\n",
       "      <td>3.0000</td>\n",
       "      <td>5.0000</td>\n",
       "      <td>8.0000</td>\n",
       "      <td>12.0000</td>\n",
       "    </tr>\n",
       "    <tr>\n",
       "      <th>hr</th>\n",
       "      <td>11999.0</td>\n",
       "      <td>11.556630</td>\n",
       "      <td>6.911891</td>\n",
       "      <td>0.00</td>\n",
       "      <td>6.0000</td>\n",
       "      <td>12.0000</td>\n",
       "      <td>18.0000</td>\n",
       "      <td>23.0000</td>\n",
       "    </tr>\n",
       "    <tr>\n",
       "      <th>holiday</th>\n",
       "      <td>11999.0</td>\n",
       "      <td>0.027752</td>\n",
       "      <td>0.164269</td>\n",
       "      <td>0.00</td>\n",
       "      <td>0.0000</td>\n",
       "      <td>0.0000</td>\n",
       "      <td>0.0000</td>\n",
       "      <td>1.0000</td>\n",
       "    </tr>\n",
       "    <tr>\n",
       "      <th>weekday</th>\n",
       "      <td>11999.0</td>\n",
       "      <td>3.009334</td>\n",
       "      <td>2.005264</td>\n",
       "      <td>0.00</td>\n",
       "      <td>1.0000</td>\n",
       "      <td>3.0000</td>\n",
       "      <td>5.0000</td>\n",
       "      <td>6.0000</td>\n",
       "    </tr>\n",
       "    <tr>\n",
       "      <th>workingday</th>\n",
       "      <td>11999.0</td>\n",
       "      <td>0.684057</td>\n",
       "      <td>0.464910</td>\n",
       "      <td>0.00</td>\n",
       "      <td>0.0000</td>\n",
       "      <td>1.0000</td>\n",
       "      <td>1.0000</td>\n",
       "      <td>1.0000</td>\n",
       "    </tr>\n",
       "    <tr>\n",
       "      <th>weathersit</th>\n",
       "      <td>11999.0</td>\n",
       "      <td>1.435036</td>\n",
       "      <td>0.650894</td>\n",
       "      <td>1.00</td>\n",
       "      <td>1.0000</td>\n",
       "      <td>1.0000</td>\n",
       "      <td>2.0000</td>\n",
       "      <td>4.0000</td>\n",
       "    </tr>\n",
       "    <tr>\n",
       "      <th>temp</th>\n",
       "      <td>11999.0</td>\n",
       "      <td>0.465704</td>\n",
       "      <td>0.188576</td>\n",
       "      <td>0.02</td>\n",
       "      <td>0.3200</td>\n",
       "      <td>0.4600</td>\n",
       "      <td>0.6200</td>\n",
       "      <td>0.9600</td>\n",
       "    </tr>\n",
       "    <tr>\n",
       "      <th>atemp</th>\n",
       "      <td>11999.0</td>\n",
       "      <td>0.448888</td>\n",
       "      <td>0.169633</td>\n",
       "      <td>0.00</td>\n",
       "      <td>0.3030</td>\n",
       "      <td>0.4545</td>\n",
       "      <td>0.5909</td>\n",
       "      <td>1.0000</td>\n",
       "    </tr>\n",
       "    <tr>\n",
       "      <th>hum</th>\n",
       "      <td>11999.0</td>\n",
       "      <td>0.625770</td>\n",
       "      <td>0.200637</td>\n",
       "      <td>0.00</td>\n",
       "      <td>0.4700</td>\n",
       "      <td>0.6200</td>\n",
       "      <td>0.7900</td>\n",
       "      <td>1.0000</td>\n",
       "    </tr>\n",
       "    <tr>\n",
       "      <th>windspeed</th>\n",
       "      <td>11999.0</td>\n",
       "      <td>0.196433</td>\n",
       "      <td>0.125394</td>\n",
       "      <td>0.00</td>\n",
       "      <td>0.1045</td>\n",
       "      <td>0.1940</td>\n",
       "      <td>0.2836</td>\n",
       "      <td>0.8507</td>\n",
       "    </tr>\n",
       "    <tr>\n",
       "      <th>casual</th>\n",
       "      <td>11999.0</td>\n",
       "      <td>30.049837</td>\n",
       "      <td>43.596915</td>\n",
       "      <td>0.00</td>\n",
       "      <td>3.0000</td>\n",
       "      <td>13.0000</td>\n",
       "      <td>39.0000</td>\n",
       "      <td>367.0000</td>\n",
       "    </tr>\n",
       "    <tr>\n",
       "      <th>registered</th>\n",
       "      <td>11999.0</td>\n",
       "      <td>128.545129</td>\n",
       "      <td>124.692750</td>\n",
       "      <td>0.00</td>\n",
       "      <td>29.0000</td>\n",
       "      <td>98.0000</td>\n",
       "      <td>185.0000</td>\n",
       "      <td>770.0000</td>\n",
       "    </tr>\n",
       "    <tr>\n",
       "      <th>cnt</th>\n",
       "      <td>11999.0</td>\n",
       "      <td>158.594966</td>\n",
       "      <td>151.392952</td>\n",
       "      <td>1.00</td>\n",
       "      <td>34.0000</td>\n",
       "      <td>118.0000</td>\n",
       "      <td>232.0000</td>\n",
       "      <td>957.0000</td>\n",
       "    </tr>\n",
       "  </tbody>\n",
       "</table>\n",
       "</div>"
      ],
      "text/plain": [
       "              count        mean         std   min      25%       50%  \\\n",
       "season      11999.0    2.210684    1.088798  1.00   1.0000    2.0000   \n",
       "yr          11999.0    0.279523    0.448784  0.00   0.0000    0.0000   \n",
       "mnth        11999.0    5.530294    3.433005  1.00   3.0000    5.0000   \n",
       "hr          11999.0   11.556630    6.911891  0.00   6.0000   12.0000   \n",
       "holiday     11999.0    0.027752    0.164269  0.00   0.0000    0.0000   \n",
       "weekday     11999.0    3.009334    2.005264  0.00   1.0000    3.0000   \n",
       "workingday  11999.0    0.684057    0.464910  0.00   0.0000    1.0000   \n",
       "weathersit  11999.0    1.435036    0.650894  1.00   1.0000    1.0000   \n",
       "temp        11999.0    0.465704    0.188576  0.02   0.3200    0.4600   \n",
       "atemp       11999.0    0.448888    0.169633  0.00   0.3030    0.4545   \n",
       "hum         11999.0    0.625770    0.200637  0.00   0.4700    0.6200   \n",
       "windspeed   11999.0    0.196433    0.125394  0.00   0.1045    0.1940   \n",
       "casual      11999.0   30.049837   43.596915  0.00   3.0000   13.0000   \n",
       "registered  11999.0  128.545129  124.692750  0.00  29.0000   98.0000   \n",
       "cnt         11999.0  158.594966  151.392952  1.00  34.0000  118.0000   \n",
       "\n",
       "                 75%       max  \n",
       "season        3.0000    4.0000  \n",
       "yr            1.0000    1.0000  \n",
       "mnth          8.0000   12.0000  \n",
       "hr           18.0000   23.0000  \n",
       "holiday       0.0000    1.0000  \n",
       "weekday       5.0000    6.0000  \n",
       "workingday    1.0000    1.0000  \n",
       "weathersit    2.0000    4.0000  \n",
       "temp          0.6200    0.9600  \n",
       "atemp         0.5909    1.0000  \n",
       "hum           0.7900    1.0000  \n",
       "windspeed     0.2836    0.8507  \n",
       "casual       39.0000  367.0000  \n",
       "registered  185.0000  770.0000  \n",
       "cnt         232.0000  957.0000  "
      ]
     },
     "execution_count": 1569,
     "metadata": {},
     "output_type": "execute_result"
    }
   ],
   "source": [
    "train_df.describe().T"
   ]
  },
  {
   "cell_type": "markdown",
   "metadata": {},
   "source": [
    "### Distribuciones\n",
    "<div id='id3.3'/>"
   ]
  },
  {
   "cell_type": "markdown",
   "metadata": {},
   "source": [
    "#### Variable **objetivo**\n",
    "> Por lo analizado, se encuentra un sesgo positivo, así que existe outliers, el cual veremos que tipo de tratamiento podemos darle, de tal manera no influyan mucho en las predicciones"
   ]
  },
  {
   "cell_type": "code",
   "execution_count": 1570,
   "metadata": {},
   "outputs": [],
   "source": [
    "target = train_df['cnt']"
   ]
  },
  {
   "cell_type": "code",
   "execution_count": 1571,
   "metadata": {},
   "outputs": [
    {
     "data": {
      "image/png": "[encoded data removed]",
      "text/plain": [
       "<Figure size 864x432 with 1 Axes>"
      ]
     },
     "metadata": {
      "needs_background": "light"
     },
     "output_type": "display_data"
    }
   ],
   "source": [
    "plt.figure(figsize=(12,6))\n",
    "sns.distplot(train_df['cnt'], rug = True)\n",
    "plt.show(); "
   ]
  },
  {
   "cell_type": "markdown",
   "metadata": {},
   "source": [
    "#### Transformación Log-Scale\n",
    "A menudo se prefiere cuando la variable de respuesta sigue una distribución exponencial o está sesgada a la derecha."
   ]
  },
  {
   "cell_type": "code",
   "execution_count": 1572,
   "metadata": {},
   "outputs": [
    {
     "data": {
      "image/png": "[encoded data removed]",
      "text/plain": [
       "<Figure size 432x288 with 1 Axes>"
      ]
     },
     "metadata": {
      "needs_background": "light"
     },
     "output_type": "display_data"
    }
   ],
   "source": [
    "target_log = np.log1p(target)\n",
    "sns.histplot(target_log, kde=True)\n",
    "plt.show()"
   ]
  },
  {
   "cell_type": "markdown",
   "metadata": {},
   "source": [
    "***Análisis de cuartiles***: Aplicaremos la ley de tukey.\n",
    "\n",
    "outlier:\n",
    "- q > Q1 - 1.5*IQR\n",
    "- q < Q3 + 1.5*IQR"
   ]
  },
  {
   "cell_type": "code",
   "execution_count": 1573,
   "metadata": {},
   "outputs": [
    {
     "data": {
      "text/plain": [
       "<AxesSubplot:ylabel='cnt'>"
      ]
     },
     "execution_count": 1573,
     "metadata": {},
     "output_type": "execute_result"
    },
    {
     "data": {
      "image/png": "[encoded data removed]",
      "text/plain": [
       "<Figure size 432x288 with 1 Axes>"
      ]
     },
     "metadata": {
      "needs_background": "light"
     },
     "output_type": "display_data"
    }
   ],
   "source": [
    "sns.boxplot(y = target_log)"
   ]
  },
  {
   "cell_type": "code",
   "execution_count": 1574,
   "metadata": {},
   "outputs": [],
   "source": [
    "cuartiles = pd.qcut(target_log, q = [0,.25,.50,.75,1], retbins = True)[1]\n",
    "Q1 = cuartiles[1]\n",
    "Q2 = cuartiles[2]\n",
    "Q3 = cuartiles[3]\n",
    "IQR = Q3 - Q1"
   ]
  },
  {
   "cell_type": "code",
   "execution_count": 1575,
   "metadata": {},
   "outputs": [],
   "source": [
    "outl_q = target_log.apply(lambda e: 1 if (e > Q3 + 1.5*IQR)|(e < Q1 - 1.5*IQR) else 0)"
   ]
  },
  {
   "cell_type": "code",
   "execution_count": 1576,
   "metadata": {},
   "outputs": [
    {
     "data": {
      "text/plain": [
       "<AxesSubplot:xlabel='cnt', ylabel='count'>"
      ]
     },
     "execution_count": 1576,
     "metadata": {},
     "output_type": "execute_result"
    },
    {
     "data": {
      "image/png": "[encoded data removed]",
      "text/plain": [
       "<Figure size 432x288 with 1 Axes>"
      ]
     },
     "metadata": {
      "needs_background": "light"
     },
     "output_type": "display_data"
    }
   ],
   "source": [
    "# Cantidad de registros (0: no outliers, 1: outliers)\n",
    "sns.countplot(outl_q)"
   ]
  },
  {
   "cell_type": "code",
   "execution_count": 1577,
   "metadata": {},
   "outputs": [
    {
     "data": {
      "text/plain": [
       "0    11850\n",
       "1      149\n",
       "Name: cnt, dtype: int64"
      ]
     },
     "execution_count": 1577,
     "metadata": {},
     "output_type": "execute_result"
    }
   ],
   "source": [
    "outl_q.value_counts()"
   ]
  },
  {
   "cell_type": "markdown",
   "metadata": {},
   "source": [
    "***Análisis de las 3 sigmas***: \n",
    "- mínimo = Promedio – 3 * Desviación Estándar\n",
    "- máximo = Promedio + 3 * Desviación Estándar\n"
   ]
  },
  {
   "cell_type": "code",
   "execution_count": 1578,
   "metadata": {},
   "outputs": [],
   "source": [
    "std = np.std(target_log)\n",
    "mean = np.mean(target_log)"
   ]
  },
  {
   "cell_type": "code",
   "execution_count": 1579,
   "metadata": {},
   "outputs": [],
   "source": [
    "outl_s = target_log.apply(lambda e: 1 if (e > mean + 3*std)|(e < mean - 3*std) else 0)"
   ]
  },
  {
   "cell_type": "code",
   "execution_count": 1580,
   "metadata": {},
   "outputs": [
    {
     "data": {
      "text/plain": [
       "<AxesSubplot:xlabel='cnt', ylabel='count'>"
      ]
     },
     "execution_count": 1580,
     "metadata": {},
     "output_type": "execute_result"
    },
    {
     "data": {
      "image/png": "[encoded data removed]",
      "text/plain": [
       "<Figure size 432x288 with 1 Axes>"
      ]
     },
     "metadata": {
      "needs_background": "light"
     },
     "output_type": "display_data"
    }
   ],
   "source": [
    "# Cantidad de registros (0: no outliers, 1: outliers)\n",
    "sns.countplot(outl_s)"
   ]
  },
  {
   "cell_type": "code",
   "execution_count": 1581,
   "metadata": {},
   "outputs": [
    {
     "data": {
      "text/plain": [
       "0    11999\n",
       "Name: cnt, dtype: int64"
      ]
     },
     "execution_count": 1581,
     "metadata": {},
     "output_type": "execute_result"
    }
   ],
   "source": [
    "outl_s.value_counts()"
   ]
  },
  {
   "cell_type": "markdown",
   "metadata": {},
   "source": [
    "***Usaremos los resultados del análisis de tukey aplicado a la transformación log-scale***, procedemos a crear la columna que que distingue los outlier encontrados el cual usaremos para un posterior análisis si se incluye o no en el entrenamiento del modelo"
   ]
  },
  {
   "cell_type": "code",
   "execution_count": 1582,
   "metadata": {},
   "outputs": [],
   "source": [
    "train_df['outlier'] = outl_q"
   ]
  },
  {
   "cell_type": "code",
   "execution_count": 1583,
   "metadata": {},
   "outputs": [
    {
     "data": {
      "text/plain": [
       "0    11850\n",
       "1      149\n",
       "Name: outlier, dtype: int64"
      ]
     },
     "execution_count": 1583,
     "metadata": {},
     "output_type": "execute_result"
    }
   ],
   "source": [
    "train_df['outlier'].value_counts()"
   ]
  },
  {
   "cell_type": "markdown",
   "metadata": {
    "tags": []
   },
   "source": [
    "#### Variables **predictoras**"
   ]
  },
  {
   "cell_type": "markdown",
   "metadata": {},
   "source": [
    "> ***Visualización de features categóricos***"
   ]
  },
  {
   "cell_type": "markdown",
   "metadata": {},
   "source": [
    "Asignacion del tipo de dato:\n",
    "\n",
    "- season, workingday, weathersit, holiday, yr, mnth, hr, weekday: `Categóricos`"
   ]
  },
  {
   "cell_type": "code",
   "execution_count": 1561,
   "metadata": {},
   "outputs": [
    {
     "name": "stdout",
     "output_type": "stream",
     "text": [
      "                         \u001b[1mVisualización de features categóricos (train):                         \n"
     ]
    },
    {
     "data": {
      "image/png": "[encoded data removed]",
      "text/plain": [
       "<Figure size 1080x864 with 8 Axes>"
      ]
     },
     "metadata": {
      "needs_background": "light"
     },
     "output_type": "display_data"
    }
   ],
   "source": [
    "print('\\033[1mVisualización de features categóricos (train):'.center(100))\n",
    "cf = [\"yr\",\"mnth\",\"hr\",\"weekday\",\"season\", \"workingday\",\"weathersit\",\"holiday\"]\n",
    "n = 2\n",
    "plt.figure(figsize = [15,3*math.ceil(len(cf)/n)])\n",
    "\n",
    "for i in range(len(cf)):\n",
    "    if train_df[cf[i]].nunique() <= 6: # Cantidad de valores unicos de la serie df[cf[i]]\n",
    "        plt.subplot(math.ceil(len(cf)/n), n, i+1)\n",
    "        sns.countplot(train_df[cf[i]])\n",
    "    else:\n",
    "        plt.subplot(4, 2, i+1)\n",
    "        sns.countplot(train_df[cf[i]])\n",
    "\n",
    "plt.tight_layout()\n",
    "plt.show()"
   ]
  },
  {
   "cell_type": "markdown",
   "metadata": {},
   "source": [
    "**Nota:**  Para el entrenamiento con la columna_valor(weathersit_4) se cuenta con solo 3 valores, así que se procederá a eliminar registros que contengan este valor, y además se logrará visualizar que en el conjunto de prueba este valor no existe"
   ]
  },
  {
   "cell_type": "code",
   "execution_count": 1584,
   "metadata": {},
   "outputs": [
    {
     "data": {
      "text/plain": [
       "1    7843\n",
       "2    3095\n",
       "3    1058\n",
       "4       3\n",
       "Name: weathersit, dtype: int64"
      ]
     },
     "execution_count": 1584,
     "metadata": {},
     "output_type": "execute_result"
    }
   ],
   "source": [
    "train_df.weathersit.value_counts()"
   ]
  },
  {
   "cell_type": "code",
   "execution_count": 1587,
   "metadata": {},
   "outputs": [
    {
     "name": "stdout",
     "output_type": "stream",
     "text": [
      "                         \u001b[1mVisualización de features categóricos (test):                          \n"
     ]
    },
    {
     "data": {
      "image/png": "[encoded data removed]",
      "text/plain": [
       "<Figure size 1080x864 with 8 Axes>"
      ]
     },
     "metadata": {
      "needs_background": "light"
     },
     "output_type": "display_data"
    }
   ],
   "source": [
    "print('\\033[1mVisualización de features categóricos (test):'.center(100))\n",
    "cf = [\"yr\",\"mnth\",\"hr\",\"weekday\",\"season\", \"workingday\",\"weathersit\",\"holiday\"]\n",
    "n = 2\n",
    "plt.figure(figsize = [15,3*math.ceil(len(cf)/n)])\n",
    "\n",
    "for i in range(len(cf)):\n",
    "    if train_df[cf[i]].nunique() <= 6: # Cantidad de valores unicos de la serie df[cf[i]]\n",
    "        plt.subplot(math.ceil(len(cf)/n), n, i+1)\n",
    "        sns.countplot(test_df[cf[i]])\n",
    "    else:\n",
    "        plt.subplot(4, 2, i+1)\n",
    "        sns.countplot(test_df[cf[i]])\n",
    "\n",
    "plt.tight_layout()\n",
    "plt.show()"
   ]
  },
  {
   "cell_type": "markdown",
   "metadata": {},
   "source": [
    "**Nota:** En el conjunto de prueba, se cuenta con los siguientes datos:\n",
    "- mnth: 5-12\n",
    "- wethersit: 1-3\n",
    "\n",
    "Resaltándose la falta de valores de mes del 1 al 4 y de wethersit 4"
   ]
  },
  {
   "cell_type": "markdown",
   "metadata": {},
   "source": [
    "***Visualización de features numéricos***"
   ]
  },
  {
   "cell_type": "code",
   "execution_count": 1588,
   "metadata": {},
   "outputs": [
    {
     "name": "stdout",
     "output_type": "stream",
     "text": [
      "                                          \u001b[1mDistribución de features numéricos (train)                                          \n"
     ]
    },
    {
     "data": {
      "image/png": "[encoded data removed]",
      "text/plain": [
       "<Figure size 1080x864 with 4 Axes>"
      ]
     },
     "metadata": {
      "needs_background": "light"
     },
     "output_type": "display_data"
    },
    {
     "data": {
      "image/png": "[encoded data removed]",
      "text/plain": [
       "<Figure size 1080x432 with 4 Axes>"
      ]
     },
     "metadata": {
      "needs_background": "light"
     },
     "output_type": "display_data"
    }
   ],
   "source": [
    "print('\\033[1mDistribución de features numéricos (train)'.center(130))\n",
    "\n",
    "n = 4\n",
    "nf = ['temp', 'atemp', 'hum', 'windspeed']\n",
    "clr = ['r', 'g', 'b', 'g', 'b', 'r']\n",
    "\n",
    "plt.figure(figsize = [15, 6*math.ceil(len(cf)/n)])\n",
    "for i in range(len(nf)):\n",
    "    plt.subplot(math.ceil(len(nf)/2), n, i+1)\n",
    "    sns.distplot(train_df[nf[i]], hist_kws = dict(edgecolor = 'black', linewidth = 2), \n",
    "               bins = 10, color = list(np.random.randint([255,255,255])/255))\n",
    "\n",
    "plt.figure(figsize = [15, 6*math.ceil(len(nf)/n)])\n",
    "for i in range(len(nf)):\n",
    "    plt.subplot(math.ceil(len(nf)/2), n, i+1)\n",
    "    train_df.boxplot(nf[i])\n",
    "\n",
    "plt.tight_layout()\n",
    "plt.show()"
   ]
  },
  {
   "cell_type": "markdown",
   "metadata": {},
   "source": [
    "**Conclusiones:** \n",
    "- El feature `windspeed` cuenta con outliers, procederemos a realizar el análisis correspondiente"
   ]
  },
  {
   "cell_type": "code",
   "execution_count": 1624,
   "metadata": {},
   "outputs": [
    {
     "data": {
      "text/plain": [
       "11999"
      ]
     },
     "execution_count": 1624,
     "metadata": {},
     "output_type": "execute_result"
    }
   ],
   "source": [
    "train_df.windspeed.count()"
   ]
  },
  {
   "cell_type": "code",
   "execution_count": 1629,
   "metadata": {},
   "outputs": [],
   "source": [
    "cuart = pd.qcut(train_df.windspeed, q = [0,.25,.50,.75,1], retbins = True)[1]\n",
    "Q1 = cuart[1]\n",
    "Q2 = cuart[2]\n",
    "Q3 = cuart[3]\n",
    "IQR = Q3 - Q1\n",
    "wind_q = train_df.windspeed.apply(lambda e: 1 if (e > Q3 + 1.5*IQR)|(e < Q1 - 1.5*IQR) else 0)"
   ]
  },
  {
   "cell_type": "code",
   "execution_count": 1632,
   "metadata": {},
   "outputs": [
    {
     "data": {
      "text/plain": [
       "86"
      ]
     },
     "execution_count": 1632,
     "metadata": {},
     "output_type": "execute_result"
    }
   ],
   "source": [
    "len(wind_q[wind_q == 1]) # 86 registros como outliers, procederemos a eliminar esos registros"
   ]
  },
  {
   "cell_type": "code",
   "execution_count": 1633,
   "metadata": {},
   "outputs": [],
   "source": [
    "train_df['outlier_wind'] = wind_q"
   ]
  },
  {
   "cell_type": "code",
   "execution_count": 1636,
   "metadata": {},
   "outputs": [],
   "source": [
    "train_df = train_df[train_df['outlier_wind'] == 0]"
   ]
  },
  {
   "cell_type": "code",
   "execution_count": 1639,
   "metadata": {},
   "outputs": [],
   "source": [
    "train_df = train_df[train_df['outlier'] == 0]"
   ]
  },
  {
   "cell_type": "code",
   "execution_count": 1641,
   "metadata": {},
   "outputs": [
    {
     "data": {
      "text/plain": [
       "(11766, 17)"
      ]
     },
     "execution_count": 1641,
     "metadata": {},
     "output_type": "execute_result"
    }
   ],
   "source": [
    "train_df.shape"
   ]
  },
  {
   "cell_type": "code",
   "execution_count": 1652,
   "metadata": {},
   "outputs": [
    {
     "data": {
      "image/png": "[encoded data removed]",
      "text/plain": [
       "<Figure size 432x288 with 1 Axes>"
      ]
     },
     "metadata": {
      "needs_background": "light"
     },
     "output_type": "display_data"
    }
   ],
   "source": [
    "sns.histplot(train_df.cnt, kde=True)\n",
    "plt.show()"
   ]
  },
  {
   "cell_type": "code",
   "execution_count": 1653,
   "metadata": {},
   "outputs": [
    {
     "data": {
      "image/png": "[encoded data removed]",
      "text/plain": [
       "<Figure size 432x288 with 1 Axes>"
      ]
     },
     "metadata": {
      "needs_background": "light"
     },
     "output_type": "display_data"
    }
   ],
   "source": [
    "sns.histplot(train_df.windspeed, kde=True)\n",
    "plt.show()"
   ]
  },
  {
   "cell_type": "markdown",
   "metadata": {},
   "source": [
    "- Los features `temp`, `atemp`, `hum`, `windspeed` parecen seguir una distribución normal, lo corroboramos mediante un intervalo de -1 a 1, mediante ciertos estadísticos."
   ]
  },
  {
   "cell_type": "markdown",
   "metadata": {},
   "source": [
    "Los estadísticos de asimetría (Skewness) y curtosis pueden emplearse para detectar desviaciones de la normalidad. Un valor de curtosis y/o coeficiente de asimetría entre -1 y 1, es generalmente considerada una ligera desviación de la normalidad. Entre -2 y 2 hay una evidente desviación de la normal pero no extrema."
   ]
  },
  {
   "cell_type": "code",
   "execution_count": 1642,
   "metadata": {},
   "outputs": [
    {
     "name": "stdout",
     "output_type": "stream",
     "text": [
      "Kursotis: -0.7605809930212595\n",
      "Skewness: 0.025674344916324972\n"
     ]
    }
   ],
   "source": [
    "print('Kursotis:', stats.kurtosis(train_df['atemp']))\n",
    "print('Skewness:', stats.skew(train_df['atemp']))"
   ]
  },
  {
   "cell_type": "code",
   "execution_count": 1643,
   "metadata": {},
   "outputs": [
    {
     "name": "stdout",
     "output_type": "stream",
     "text": [
      "Kursotis: -0.8497271154180095\n",
      "Skewness: 0.11298915344992352\n"
     ]
    }
   ],
   "source": [
    "print('Kursotis:', stats.kurtosis(train_df['temp']))\n",
    "print('Skewness:', stats.skew(train_df['temp']))"
   ]
  },
  {
   "cell_type": "code",
   "execution_count": 1644,
   "metadata": {},
   "outputs": [
    {
     "name": "stdout",
     "output_type": "stream",
     "text": [
      "Kursotis: -0.8488387202600838\n",
      "Skewness: -0.09306347155555174\n"
     ]
    }
   ],
   "source": [
    "print('Kursotis:', stats.kurtosis(train_df['hum']))\n",
    "print('Skewness:', stats.skew(train_df['hum']))"
   ]
  },
  {
   "cell_type": "code",
   "execution_count": 1645,
   "metadata": {},
   "outputs": [
    {
     "name": "stdout",
     "output_type": "stream",
     "text": [
      "Kursotis: -0.1870066034447473\n",
      "Skewness: 0.3480784979173213\n"
     ]
    }
   ],
   "source": [
    "print('Kursotis:', stats.kurtosis(train_df['windspeed']))\n",
    "print('Skewness:', stats.skew(train_df['windspeed']))"
   ]
  },
  {
   "cell_type": "markdown",
   "metadata": {},
   "source": [
    "## 4. Feature engineering\n",
    "<div id='id4'/>"
   ]
  },
  {
   "cell_type": "markdown",
   "metadata": {},
   "source": [
    "<div id='idfeat'/>\n",
    "\n",
    "Análisis previo de la matrix de correlación -> [link](#idconc)"
   ]
  },
  {
   "cell_type": "markdown",
   "metadata": {},
   "source": [
    "### Selección de features con linear regression"
   ]
  },
  {
   "cell_type": "code",
   "execution_count": 1654,
   "metadata": {},
   "outputs": [],
   "source": [
    "train_prep_1 = train_df.drop(['casual','registered', 'outlier', 'outlier_wind'], axis = 1).copy()"
   ]
  },
  {
   "cell_type": "code",
   "execution_count": 1655,
   "metadata": {},
   "outputs": [
    {
     "data": {
      "text/plain": [
       "Index(['season', 'yr', 'mnth', 'hr', 'holiday', 'weekday', 'workingday',\n",
       "       'weathersit', 'temp', 'atemp', 'hum', 'windspeed', 'cnt'],\n",
       "      dtype='object')"
      ]
     },
     "execution_count": 1655,
     "metadata": {},
     "output_type": "execute_result"
    }
   ],
   "source": [
    "train_prep_1.columns"
   ]
  },
  {
   "cell_type": "code",
   "execution_count": 1657,
   "metadata": {},
   "outputs": [],
   "source": [
    "X_reg = train_prep_1.drop(['cnt'], axis = 1)\n",
    "y_reg = train_prep_1['cnt']"
   ]
  },
  {
   "cell_type": "code",
   "execution_count": 1658,
   "metadata": {},
   "outputs": [
    {
     "data": {
      "text/html": [
       "<table class=\"simpletable\">\n",
       "<caption>OLS Regression Results</caption>\n",
       "<tr>\n",
       "  <th>Dep. Variable:</th>           <td>cnt</td>       <th>  R-squared:         </th> <td>   0.371</td> \n",
       "</tr>\n",
       "<tr>\n",
       "  <th>Model:</th>                   <td>OLS</td>       <th>  Adj. R-squared:    </th> <td>   0.370</td> \n",
       "</tr>\n",
       "<tr>\n",
       "  <th>Method:</th>             <td>Least Squares</td>  <th>  F-statistic:       </th> <td>   577.8</td> \n",
       "</tr>\n",
       "<tr>\n",
       "  <th>Date:</th>             <td>Wed, 14 Sep 2022</td> <th>  Prob (F-statistic):</th>  <td>  0.00</td>  \n",
       "</tr>\n",
       "<tr>\n",
       "  <th>Time:</th>                 <td>12:58:43</td>     <th>  Log-Likelihood:    </th> <td> -73043.</td> \n",
       "</tr>\n",
       "<tr>\n",
       "  <th>No. Observations:</th>      <td> 11766</td>      <th>  AIC:               </th> <td>1.461e+05</td>\n",
       "</tr>\n",
       "<tr>\n",
       "  <th>Df Residuals:</th>          <td> 11753</td>      <th>  BIC:               </th> <td>1.462e+05</td>\n",
       "</tr>\n",
       "<tr>\n",
       "  <th>Df Model:</th>              <td>    12</td>      <th>                     </th>     <td> </td>    \n",
       "</tr>\n",
       "<tr>\n",
       "  <th>Covariance Type:</th>      <td>nonrobust</td>    <th>                     </th>     <td> </td>    \n",
       "</tr>\n",
       "</table>\n",
       "<table class=\"simpletable\">\n",
       "<tr>\n",
       "       <td></td>         <th>coef</th>     <th>std err</th>      <th>t</th>      <th>P>|t|</th>  <th>[0.025</th>    <th>0.975]</th>  \n",
       "</tr>\n",
       "<tr>\n",
       "  <th>const</th>      <td>  -24.4272</td> <td>    7.236</td> <td>   -3.376</td> <td> 0.001</td> <td>  -38.611</td> <td>  -10.244</td>\n",
       "</tr>\n",
       "<tr>\n",
       "  <th>season</th>     <td>   12.9034</td> <td>    2.090</td> <td>    6.172</td> <td> 0.000</td> <td>    8.806</td> <td>   17.001</td>\n",
       "</tr>\n",
       "<tr>\n",
       "  <th>yr</th>         <td>   87.3714</td> <td>    2.869</td> <td>   30.450</td> <td> 0.000</td> <td>   81.747</td> <td>   92.996</td>\n",
       "</tr>\n",
       "<tr>\n",
       "  <th>mnth</th>       <td>    1.6835</td> <td>    0.665</td> <td>    2.532</td> <td> 0.011</td> <td>    0.380</td> <td>    2.987</td>\n",
       "</tr>\n",
       "<tr>\n",
       "  <th>hr</th>         <td>    6.4691</td> <td>    0.169</td> <td>   38.300</td> <td> 0.000</td> <td>    6.138</td> <td>    6.800</td>\n",
       "</tr>\n",
       "<tr>\n",
       "  <th>holiday</th>    <td>  -22.2647</td> <td>    7.005</td> <td>   -3.179</td> <td> 0.001</td> <td>  -35.995</td> <td>   -8.534</td>\n",
       "</tr>\n",
       "<tr>\n",
       "  <th>weekday</th>    <td>    1.6249</td> <td>    0.557</td> <td>    2.918</td> <td> 0.004</td> <td>    0.533</td> <td>    2.717</td>\n",
       "</tr>\n",
       "<tr>\n",
       "  <th>workingday</th> <td>   -0.5539</td> <td>    2.469</td> <td>   -0.224</td> <td> 0.822</td> <td>   -5.393</td> <td>    4.286</td>\n",
       "</tr>\n",
       "<tr>\n",
       "  <th>weathersit</th> <td>   -6.1496</td> <td>    1.943</td> <td>   -3.165</td> <td> 0.002</td> <td>   -9.958</td> <td>   -2.341</td>\n",
       "</tr>\n",
       "<tr>\n",
       "  <th>temp</th>       <td>   37.5108</td> <td>   49.682</td> <td>    0.755</td> <td> 0.450</td> <td>  -59.875</td> <td>  134.897</td>\n",
       "</tr>\n",
       "<tr>\n",
       "  <th>atemp</th>      <td>  270.9382</td> <td>   55.328</td> <td>    4.897</td> <td> 0.000</td> <td>  162.486</td> <td>  379.391</td>\n",
       "</tr>\n",
       "<tr>\n",
       "  <th>hum</th>        <td> -149.9532</td> <td>    6.872</td> <td>  -21.821</td> <td> 0.000</td> <td> -163.423</td> <td> -136.483</td>\n",
       "</tr>\n",
       "<tr>\n",
       "  <th>windspeed</th>  <td>   32.5870</td> <td>   10.323</td> <td>    3.157</td> <td> 0.002</td> <td>   12.352</td> <td>   52.822</td>\n",
       "</tr>\n",
       "</table>\n",
       "<table class=\"simpletable\">\n",
       "<tr>\n",
       "  <th>Omnibus:</th>       <td>2198.122</td> <th>  Durbin-Watson:     </th> <td>   0.560</td>\n",
       "</tr>\n",
       "<tr>\n",
       "  <th>Prob(Omnibus):</th>  <td> 0.000</td>  <th>  Jarque-Bera (JB):  </th> <td>4117.313</td>\n",
       "</tr>\n",
       "<tr>\n",
       "  <th>Skew:</th>           <td> 1.161</td>  <th>  Prob(JB):          </th> <td>    0.00</td>\n",
       "</tr>\n",
       "<tr>\n",
       "  <th>Kurtosis:</th>       <td> 4.735</td>  <th>  Cond. No.          </th> <td>1.00e+03</td>\n",
       "</tr>\n",
       "</table><br/><br/>Notes:<br/>[1] Standard Errors assume that the covariance matrix of the errors is correctly specified.<br/>[2] The condition number is large,  1e+03. This might indicate that there are<br/>strong multicollinearity or other numerical problems."
      ],
      "text/plain": [
       "<class 'statsmodels.iolib.summary.Summary'>\n",
       "\"\"\"\n",
       "                            OLS Regression Results                            \n",
       "==============================================================================\n",
       "Dep. Variable:                    cnt   R-squared:                       0.371\n",
       "Model:                            OLS   Adj. R-squared:                  0.370\n",
       "Method:                 Least Squares   F-statistic:                     577.8\n",
       "Date:                Wed, 14 Sep 2022   Prob (F-statistic):               0.00\n",
       "Time:                        12:58:43   Log-Likelihood:                -73043.\n",
       "No. Observations:               11766   AIC:                         1.461e+05\n",
       "Df Residuals:                   11753   BIC:                         1.462e+05\n",
       "Df Model:                          12                                         \n",
       "Covariance Type:            nonrobust                                         \n",
       "==============================================================================\n",
       "                 coef    std err          t      P>|t|      [0.025      0.975]\n",
       "------------------------------------------------------------------------------\n",
       "const        -24.4272      7.236     -3.376      0.001     -38.611     -10.244\n",
       "season        12.9034      2.090      6.172      0.000       8.806      17.001\n",
       "yr            87.3714      2.869     30.450      0.000      81.747      92.996\n",
       "mnth           1.6835      0.665      2.532      0.011       0.380       2.987\n",
       "hr             6.4691      0.169     38.300      0.000       6.138       6.800\n",
       "holiday      -22.2647      7.005     -3.179      0.001     -35.995      -8.534\n",
       "weekday        1.6249      0.557      2.918      0.004       0.533       2.717\n",
       "workingday    -0.5539      2.469     -0.224      0.822      -5.393       4.286\n",
       "weathersit    -6.1496      1.943     -3.165      0.002      -9.958      -2.341\n",
       "temp          37.5108     49.682      0.755      0.450     -59.875     134.897\n",
       "atemp        270.9382     55.328      4.897      0.000     162.486     379.391\n",
       "hum         -149.9532      6.872    -21.821      0.000    -163.423    -136.483\n",
       "windspeed     32.5870     10.323      3.157      0.002      12.352      52.822\n",
       "==============================================================================\n",
       "Omnibus:                     2198.122   Durbin-Watson:                   0.560\n",
       "Prob(Omnibus):                  0.000   Jarque-Bera (JB):             4117.313\n",
       "Skew:                           1.161   Prob(JB):                         0.00\n",
       "Kurtosis:                       4.735   Cond. No.                     1.00e+03\n",
       "==============================================================================\n",
       "\n",
       "Notes:\n",
       "[1] Standard Errors assume that the covariance matrix of the errors is correctly specified.\n",
       "[2] The condition number is large,  1e+03. This might indicate that there are\n",
       "strong multicollinearity or other numerical problems.\n",
       "\"\"\""
      ]
     },
     "execution_count": 1658,
     "metadata": {},
     "output_type": "execute_result"
    }
   ],
   "source": [
    "import statsmodels.api as sm\n",
    "X_constant = sm.add_constant(X_reg)\n",
    "lin_reg = sm.OLS(y_reg, X_constant).fit()\n",
    "lin_reg.summary()"
   ]
  },
  {
   "cell_type": "markdown",
   "metadata": {},
   "source": [
    "**Conclusiones:**\n",
    "- Las variables no significativas (>0.05) encontradas en el modelo son:\n",
    "  * `workingday`\n",
    "  * `temp`"
   ]
  },
  {
   "cell_type": "markdown",
   "metadata": {},
   "source": [
    "### Selección de features con Recursive Feature Elimination"
   ]
  },
  {
   "cell_type": "code",
   "execution_count": 1659,
   "metadata": {},
   "outputs": [
    {
     "data": {
      "text/plain": [
       "RFECV(cv=4,\n",
       "      estimator=XGBRegressor(base_score=None, booster=None, callbacks=None,\n",
       "                             colsample_bylevel=None, colsample_bynode=None,\n",
       "                             colsample_bytree=None, early_stopping_rounds=None,\n",
       "                             enable_categorical=False, eval_metric=None,\n",
       "                             gamma=None, gpu_id=None, grow_policy=None,\n",
       "                             importance_type=None, interaction_constraints=None,\n",
       "                             learning_rate=None, max_bin=None,\n",
       "                             max_cat_to_onehot=None, max_delta_step=None,\n",
       "                             max_depth=None, max_leaves=None,\n",
       "                             min_child_weight=None, missing=nan,\n",
       "                             monotone_constraints=None, n_estimators=100,\n",
       "                             n_jobs=None, num_parallel_tree=None,\n",
       "                             predictor=None, random_state=None, reg_alpha=None,\n",
       "                             reg_lambda=None, ...),\n",
       "      min_features_to_select=3, step=3)"
      ]
     },
     "execution_count": 1659,
     "metadata": {},
     "output_type": "execute_result"
    }
   ],
   "source": [
    "from sklearn.feature_selection import RFECV\n",
    "from xgboost import XGBRegressor\n",
    "model = XGBRegressor()\n",
    "\n",
    "selector = RFECV(model, step=3, min_features_to_select = 3, cv = 4)\n",
    "selector.fit(X_reg, y_reg)"
   ]
  },
  {
   "cell_type": "code",
   "execution_count": 1660,
   "metadata": {},
   "outputs": [
    {
     "name": "stdout",
     "output_type": "stream",
     "text": [
      "Index(['season', 'yr', 'mnth', 'hr', 'holiday', 'weekday', 'workingday',\n",
      "       'weathersit', 'temp', 'atemp', 'hum', 'windspeed'],\n",
      "      dtype='object')\n",
      "[1 1 2 1 1 1 1 1 1 1 2 2]\n"
     ]
    }
   ],
   "source": [
    "print(X_reg.columns)\n",
    "print(selector.ranking_)"
   ]
  },
  {
   "cell_type": "code",
   "execution_count": 1661,
   "metadata": {},
   "outputs": [
    {
     "data": {
      "text/plain": [
       "0.6340021728946238"
      ]
     },
     "execution_count": 1661,
     "metadata": {},
     "output_type": "execute_result"
    }
   ],
   "source": [
    "selector.grid_scores_.mean() # Promedio de R^2 para CV en 4"
   ]
  },
  {
   "cell_type": "markdown",
   "metadata": {},
   "source": [
    "**Conclusiones:**\n",
    "- Las variables mas importantes son:\n",
    "  * `season`\n",
    "  * `yr`\n",
    "  * `hr`\n",
    "  * `workingday`\n",
    "  * `weathersit`\n",
    "  * `temp`\n",
    "  \n",
    "- Las variables menos importantes son:\n",
    "  * `mnth`\n",
    "  * `hum`\n",
    "  * `windspeed`\n",
    "  "
   ]
  },
  {
   "cell_type": "markdown",
   "metadata": {},
   "source": [
    "## 5. Preprocesamiento de datos\n",
    "<div id='id5'/>"
   ]
  },
  {
   "cell_type": "code",
   "execution_count": 1668,
   "metadata": {},
   "outputs": [
    {
     "data": {
      "text/html": [
       "<div>\n",
       "<style scoped>\n",
       "    .dataframe tbody tr th:only-of-type {\n",
       "        vertical-align: middle;\n",
       "    }\n",
       "\n",
       "    .dataframe tbody tr th {\n",
       "        vertical-align: top;\n",
       "    }\n",
       "\n",
       "    .dataframe thead th {\n",
       "        text-align: right;\n",
       "    }\n",
       "</style>\n",
       "<table border=\"1\" class=\"dataframe\">\n",
       "  <thead>\n",
       "    <tr style=\"text-align: right;\">\n",
       "      <th></th>\n",
       "      <th>season</th>\n",
       "      <th>yr</th>\n",
       "      <th>mnth</th>\n",
       "      <th>hr</th>\n",
       "      <th>holiday</th>\n",
       "      <th>weekday</th>\n",
       "      <th>workingday</th>\n",
       "      <th>weathersit</th>\n",
       "      <th>temp</th>\n",
       "      <th>atemp</th>\n",
       "      <th>hum</th>\n",
       "      <th>windspeed</th>\n",
       "      <th>cnt</th>\n",
       "    </tr>\n",
       "  </thead>\n",
       "  <tbody>\n",
       "    <tr>\n",
       "      <th>0</th>\n",
       "      <td>1</td>\n",
       "      <td>0</td>\n",
       "      <td>1</td>\n",
       "      <td>0</td>\n",
       "      <td>0</td>\n",
       "      <td>6</td>\n",
       "      <td>0</td>\n",
       "      <td>1</td>\n",
       "      <td>0.24</td>\n",
       "      <td>0.2879</td>\n",
       "      <td>0.81</td>\n",
       "      <td>0.0000</td>\n",
       "      <td>16</td>\n",
       "    </tr>\n",
       "    <tr>\n",
       "      <th>1</th>\n",
       "      <td>1</td>\n",
       "      <td>0</td>\n",
       "      <td>1</td>\n",
       "      <td>1</td>\n",
       "      <td>0</td>\n",
       "      <td>6</td>\n",
       "      <td>0</td>\n",
       "      <td>1</td>\n",
       "      <td>0.22</td>\n",
       "      <td>0.2727</td>\n",
       "      <td>0.80</td>\n",
       "      <td>0.0000</td>\n",
       "      <td>40</td>\n",
       "    </tr>\n",
       "    <tr>\n",
       "      <th>2</th>\n",
       "      <td>1</td>\n",
       "      <td>0</td>\n",
       "      <td>1</td>\n",
       "      <td>2</td>\n",
       "      <td>0</td>\n",
       "      <td>6</td>\n",
       "      <td>0</td>\n",
       "      <td>1</td>\n",
       "      <td>0.22</td>\n",
       "      <td>0.2727</td>\n",
       "      <td>0.80</td>\n",
       "      <td>0.0000</td>\n",
       "      <td>32</td>\n",
       "    </tr>\n",
       "    <tr>\n",
       "      <th>3</th>\n",
       "      <td>1</td>\n",
       "      <td>0</td>\n",
       "      <td>1</td>\n",
       "      <td>3</td>\n",
       "      <td>0</td>\n",
       "      <td>6</td>\n",
       "      <td>0</td>\n",
       "      <td>1</td>\n",
       "      <td>0.24</td>\n",
       "      <td>0.2879</td>\n",
       "      <td>0.75</td>\n",
       "      <td>0.0000</td>\n",
       "      <td>13</td>\n",
       "    </tr>\n",
       "    <tr>\n",
       "      <th>6</th>\n",
       "      <td>1</td>\n",
       "      <td>0</td>\n",
       "      <td>1</td>\n",
       "      <td>6</td>\n",
       "      <td>0</td>\n",
       "      <td>6</td>\n",
       "      <td>0</td>\n",
       "      <td>1</td>\n",
       "      <td>0.22</td>\n",
       "      <td>0.2727</td>\n",
       "      <td>0.80</td>\n",
       "      <td>0.0000</td>\n",
       "      <td>2</td>\n",
       "    </tr>\n",
       "    <tr>\n",
       "      <th>...</th>\n",
       "      <td>...</td>\n",
       "      <td>...</td>\n",
       "      <td>...</td>\n",
       "      <td>...</td>\n",
       "      <td>...</td>\n",
       "      <td>...</td>\n",
       "      <td>...</td>\n",
       "      <td>...</td>\n",
       "      <td>...</td>\n",
       "      <td>...</td>\n",
       "      <td>...</td>\n",
       "      <td>...</td>\n",
       "      <td>...</td>\n",
       "    </tr>\n",
       "    <tr>\n",
       "      <th>11994</th>\n",
       "      <td>2</td>\n",
       "      <td>1</td>\n",
       "      <td>5</td>\n",
       "      <td>23</td>\n",
       "      <td>0</td>\n",
       "      <td>6</td>\n",
       "      <td>0</td>\n",
       "      <td>1</td>\n",
       "      <td>0.60</td>\n",
       "      <td>0.6212</td>\n",
       "      <td>0.56</td>\n",
       "      <td>0.1642</td>\n",
       "      <td>239</td>\n",
       "    </tr>\n",
       "    <tr>\n",
       "      <th>11995</th>\n",
       "      <td>2</td>\n",
       "      <td>1</td>\n",
       "      <td>5</td>\n",
       "      <td>0</td>\n",
       "      <td>0</td>\n",
       "      <td>0</td>\n",
       "      <td>0</td>\n",
       "      <td>1</td>\n",
       "      <td>0.58</td>\n",
       "      <td>0.5455</td>\n",
       "      <td>0.53</td>\n",
       "      <td>0.1045</td>\n",
       "      <td>170</td>\n",
       "    </tr>\n",
       "    <tr>\n",
       "      <th>11996</th>\n",
       "      <td>2</td>\n",
       "      <td>1</td>\n",
       "      <td>5</td>\n",
       "      <td>1</td>\n",
       "      <td>0</td>\n",
       "      <td>0</td>\n",
       "      <td>0</td>\n",
       "      <td>1</td>\n",
       "      <td>0.56</td>\n",
       "      <td>0.5303</td>\n",
       "      <td>0.52</td>\n",
       "      <td>0.0000</td>\n",
       "      <td>130</td>\n",
       "    </tr>\n",
       "    <tr>\n",
       "      <th>11997</th>\n",
       "      <td>2</td>\n",
       "      <td>1</td>\n",
       "      <td>5</td>\n",
       "      <td>2</td>\n",
       "      <td>0</td>\n",
       "      <td>0</td>\n",
       "      <td>0</td>\n",
       "      <td>1</td>\n",
       "      <td>0.56</td>\n",
       "      <td>0.5303</td>\n",
       "      <td>0.52</td>\n",
       "      <td>0.0000</td>\n",
       "      <td>98</td>\n",
       "    </tr>\n",
       "    <tr>\n",
       "      <th>11998</th>\n",
       "      <td>2</td>\n",
       "      <td>1</td>\n",
       "      <td>5</td>\n",
       "      <td>3</td>\n",
       "      <td>0</td>\n",
       "      <td>0</td>\n",
       "      <td>0</td>\n",
       "      <td>1</td>\n",
       "      <td>0.54</td>\n",
       "      <td>0.5152</td>\n",
       "      <td>0.56</td>\n",
       "      <td>0.0896</td>\n",
       "      <td>66</td>\n",
       "    </tr>\n",
       "  </tbody>\n",
       "</table>\n",
       "<p>11763 rows × 13 columns</p>\n",
       "</div>"
      ],
      "text/plain": [
       "       season  yr  mnth  hr  holiday  weekday  workingday  weathersit  temp  \\\n",
       "0           1   0     1   0        0        6           0           1  0.24   \n",
       "1           1   0     1   1        0        6           0           1  0.22   \n",
       "2           1   0     1   2        0        6           0           1  0.22   \n",
       "3           1   0     1   3        0        6           0           1  0.24   \n",
       "6           1   0     1   6        0        6           0           1  0.22   \n",
       "...       ...  ..   ...  ..      ...      ...         ...         ...   ...   \n",
       "11994       2   1     5  23        0        6           0           1  0.60   \n",
       "11995       2   1     5   0        0        0           0           1  0.58   \n",
       "11996       2   1     5   1        0        0           0           1  0.56   \n",
       "11997       2   1     5   2        0        0           0           1  0.56   \n",
       "11998       2   1     5   3        0        0           0           1  0.54   \n",
       "\n",
       "        atemp   hum  windspeed  cnt  \n",
       "0      0.2879  0.81     0.0000   16  \n",
       "1      0.2727  0.80     0.0000   40  \n",
       "2      0.2727  0.80     0.0000   32  \n",
       "3      0.2879  0.75     0.0000   13  \n",
       "6      0.2727  0.80     0.0000    2  \n",
       "...       ...   ...        ...  ...  \n",
       "11994  0.6212  0.56     0.1642  239  \n",
       "11995  0.5455  0.53     0.1045  170  \n",
       "11996  0.5303  0.52     0.0000  130  \n",
       "11997  0.5303  0.52     0.0000   98  \n",
       "11998  0.5152  0.56     0.0896   66  \n",
       "\n",
       "[11763 rows x 13 columns]"
      ]
     },
     "execution_count": 1668,
     "metadata": {},
     "output_type": "execute_result"
    }
   ],
   "source": [
    "train_df_prep_1 = train_df.drop(['outlier', 'outlier_wind', 'casual', 'registered'], axis = 1)\n",
    "train_df_prep_1 = train_df_prep_1[ train_df_prep_1['weathersit'] <= 3]\n",
    "train_df_prep_1"
   ]
  },
  {
   "cell_type": "markdown",
   "metadata": {
    "tags": []
   },
   "source": [
    "### 5.1. Usando el 1er método de selección + correlación lineal\n",
    "\n",
    "<div id='idtrainfs1'/>\n",
    "\n",
    "[Prep Prueba](#idpruebafs1)\n",
    "\n",
    "Eliminamos `temp`,`workingday` y `mnth`"
   ]
  },
  {
   "cell_type": "code",
   "execution_count": 1802,
   "metadata": {},
   "outputs": [],
   "source": [
    "train_prep_fs_1 = train_df_prep_1.drop(['temp','workingday','mnth'],axis = 1)"
   ]
  },
  {
   "cell_type": "code",
   "execution_count": 1803,
   "metadata": {},
   "outputs": [
    {
     "data": {
      "text/plain": [
       "Index(['season', 'yr', 'hr', 'holiday', 'weekday', 'weathersit', 'atemp',\n",
       "       'hum', 'windspeed', 'cnt'],\n",
       "      dtype='object')"
      ]
     },
     "execution_count": 1803,
     "metadata": {},
     "output_type": "execute_result"
    }
   ],
   "source": [
    "train_prep_fs_1.columns"
   ]
  },
  {
   "cell_type": "markdown",
   "metadata": {
    "jp-MarkdownHeadingCollapsed": true,
    "tags": []
   },
   "source": [
    "#### Variables dummies\n",
    "Variables categoricas nominales: [season, weathersit, 'holiday', 'weekday', yr, hr]\n",
    "\n",
    "No es necesario `holiday`,`yr` ya que se encuentran en valores 0 y 1"
   ]
  },
  {
   "cell_type": "code",
   "execution_count": 1751,
   "metadata": {},
   "outputs": [
    {
     "data": {
      "text/html": [
       "<div>\n",
       "<style scoped>\n",
       "    .dataframe tbody tr th:only-of-type {\n",
       "        vertical-align: middle;\n",
       "    }\n",
       "\n",
       "    .dataframe tbody tr th {\n",
       "        vertical-align: top;\n",
       "    }\n",
       "\n",
       "    .dataframe thead th {\n",
       "        text-align: right;\n",
       "    }\n",
       "</style>\n",
       "<table border=\"1\" class=\"dataframe\">\n",
       "  <thead>\n",
       "    <tr style=\"text-align: right;\">\n",
       "      <th></th>\n",
       "      <th>season</th>\n",
       "      <th>yr</th>\n",
       "      <th>hr</th>\n",
       "      <th>holiday</th>\n",
       "      <th>weekday</th>\n",
       "      <th>weathersit</th>\n",
       "      <th>atemp</th>\n",
       "      <th>hum</th>\n",
       "      <th>windspeed</th>\n",
       "      <th>cnt</th>\n",
       "    </tr>\n",
       "  </thead>\n",
       "  <tbody>\n",
       "    <tr>\n",
       "      <th>0</th>\n",
       "      <td>1</td>\n",
       "      <td>0</td>\n",
       "      <td>0</td>\n",
       "      <td>0</td>\n",
       "      <td>6</td>\n",
       "      <td>1</td>\n",
       "      <td>0.2879</td>\n",
       "      <td>0.81</td>\n",
       "      <td>0.0</td>\n",
       "      <td>16</td>\n",
       "    </tr>\n",
       "    <tr>\n",
       "      <th>1</th>\n",
       "      <td>1</td>\n",
       "      <td>0</td>\n",
       "      <td>1</td>\n",
       "      <td>0</td>\n",
       "      <td>6</td>\n",
       "      <td>1</td>\n",
       "      <td>0.2727</td>\n",
       "      <td>0.80</td>\n",
       "      <td>0.0</td>\n",
       "      <td>40</td>\n",
       "    </tr>\n",
       "    <tr>\n",
       "      <th>2</th>\n",
       "      <td>1</td>\n",
       "      <td>0</td>\n",
       "      <td>2</td>\n",
       "      <td>0</td>\n",
       "      <td>6</td>\n",
       "      <td>1</td>\n",
       "      <td>0.2727</td>\n",
       "      <td>0.80</td>\n",
       "      <td>0.0</td>\n",
       "      <td>32</td>\n",
       "    </tr>\n",
       "    <tr>\n",
       "      <th>3</th>\n",
       "      <td>1</td>\n",
       "      <td>0</td>\n",
       "      <td>3</td>\n",
       "      <td>0</td>\n",
       "      <td>6</td>\n",
       "      <td>1</td>\n",
       "      <td>0.2879</td>\n",
       "      <td>0.75</td>\n",
       "      <td>0.0</td>\n",
       "      <td>13</td>\n",
       "    </tr>\n",
       "    <tr>\n",
       "      <th>6</th>\n",
       "      <td>1</td>\n",
       "      <td>0</td>\n",
       "      <td>6</td>\n",
       "      <td>0</td>\n",
       "      <td>6</td>\n",
       "      <td>1</td>\n",
       "      <td>0.2727</td>\n",
       "      <td>0.80</td>\n",
       "      <td>0.0</td>\n",
       "      <td>2</td>\n",
       "    </tr>\n",
       "  </tbody>\n",
       "</table>\n",
       "</div>"
      ],
      "text/plain": [
       "   season  yr  hr  holiday  weekday  weathersit   atemp   hum  windspeed  cnt\n",
       "0       1   0   0        0        6           1  0.2879  0.81        0.0   16\n",
       "1       1   0   1        0        6           1  0.2727  0.80        0.0   40\n",
       "2       1   0   2        0        6           1  0.2727  0.80        0.0   32\n",
       "3       1   0   3        0        6           1  0.2879  0.75        0.0   13\n",
       "6       1   0   6        0        6           1  0.2727  0.80        0.0    2"
      ]
     },
     "execution_count": 1751,
     "metadata": {},
     "output_type": "execute_result"
    }
   ],
   "source": [
    "train_prep_fs_1_2 = train_prep_fs_1.copy()\n",
    "# train_prep_fs_1_2 = pd.get_dummies(train_prep_fs_1, columns=['season', 'hr', 'weathersit', 'weekday'])\n",
    "train_prep_fs_1_2.head()"
   ]
  },
  {
   "cell_type": "code",
   "execution_count": 1530,
   "metadata": {},
   "outputs": [],
   "source": [
    "train_df_prep_2['cnt'] = np.log1p(train_df_prep_2['cnt'])"
   ]
  },
  {
   "cell_type": "markdown",
   "metadata": {
    "tags": []
   },
   "source": [
    "##### Escalado de las variables\n",
    "Manejaremos un escalado StandardScaler para la variable objetivo"
   ]
  },
  {
   "cell_type": "code",
   "execution_count": 1752,
   "metadata": {},
   "outputs": [],
   "source": [
    "train_prep_fs_1_3 = train_prep_fs_1_2.copy()"
   ]
  },
  {
   "cell_type": "code",
   "execution_count": 1679,
   "metadata": {},
   "outputs": [],
   "source": [
    "# st_output = MinMaxScaler()\n",
    "# train_prep_fs_1_3.loc[:,['cnt']] = st_output.fit_transform(train_prep_fs_1_3.loc[:,['cnt']])"
   ]
  },
  {
   "cell_type": "code",
   "execution_count": 1753,
   "metadata": {},
   "outputs": [
    {
     "data": {
      "text/html": [
       "<div>\n",
       "<style scoped>\n",
       "    .dataframe tbody tr th:only-of-type {\n",
       "        vertical-align: middle;\n",
       "    }\n",
       "\n",
       "    .dataframe tbody tr th {\n",
       "        vertical-align: top;\n",
       "    }\n",
       "\n",
       "    .dataframe thead th {\n",
       "        text-align: right;\n",
       "    }\n",
       "</style>\n",
       "<table border=\"1\" class=\"dataframe\">\n",
       "  <thead>\n",
       "    <tr style=\"text-align: right;\">\n",
       "      <th></th>\n",
       "      <th>count</th>\n",
       "      <th>mean</th>\n",
       "      <th>std</th>\n",
       "      <th>min</th>\n",
       "      <th>25%</th>\n",
       "      <th>50%</th>\n",
       "      <th>75%</th>\n",
       "      <th>max</th>\n",
       "    </tr>\n",
       "  </thead>\n",
       "  <tbody>\n",
       "    <tr>\n",
       "      <th>season</th>\n",
       "      <td>11763.0</td>\n",
       "      <td>2.225028</td>\n",
       "      <td>1.088084</td>\n",
       "      <td>1.0</td>\n",
       "      <td>1.0000</td>\n",
       "      <td>2.0000</td>\n",
       "      <td>3.0000</td>\n",
       "      <td>4.0000</td>\n",
       "    </tr>\n",
       "    <tr>\n",
       "      <th>yr</th>\n",
       "      <td>11763.0</td>\n",
       "      <td>0.278670</td>\n",
       "      <td>0.448364</td>\n",
       "      <td>0.0</td>\n",
       "      <td>0.0000</td>\n",
       "      <td>0.0000</td>\n",
       "      <td>1.0000</td>\n",
       "      <td>1.0000</td>\n",
       "    </tr>\n",
       "    <tr>\n",
       "      <th>hr</th>\n",
       "      <td>11763.0</td>\n",
       "      <td>11.634107</td>\n",
       "      <td>6.903735</td>\n",
       "      <td>0.0</td>\n",
       "      <td>6.0000</td>\n",
       "      <td>12.0000</td>\n",
       "      <td>18.0000</td>\n",
       "      <td>23.0000</td>\n",
       "    </tr>\n",
       "    <tr>\n",
       "      <th>holiday</th>\n",
       "      <td>11763.0</td>\n",
       "      <td>0.027969</td>\n",
       "      <td>0.164891</td>\n",
       "      <td>0.0</td>\n",
       "      <td>0.0000</td>\n",
       "      <td>0.0000</td>\n",
       "      <td>0.0000</td>\n",
       "      <td>1.0000</td>\n",
       "    </tr>\n",
       "    <tr>\n",
       "      <th>weekday</th>\n",
       "      <td>11763.0</td>\n",
       "      <td>3.009181</td>\n",
       "      <td>2.005455</td>\n",
       "      <td>0.0</td>\n",
       "      <td>1.0000</td>\n",
       "      <td>3.0000</td>\n",
       "      <td>5.0000</td>\n",
       "      <td>6.0000</td>\n",
       "    </tr>\n",
       "    <tr>\n",
       "      <th>weathersit</th>\n",
       "      <td>11763.0</td>\n",
       "      <td>1.431778</td>\n",
       "      <td>0.646495</td>\n",
       "      <td>1.0</td>\n",
       "      <td>1.0000</td>\n",
       "      <td>1.0000</td>\n",
       "      <td>2.0000</td>\n",
       "      <td>3.0000</td>\n",
       "    </tr>\n",
       "    <tr>\n",
       "      <th>atemp</th>\n",
       "      <td>11763.0</td>\n",
       "      <td>0.451582</td>\n",
       "      <td>0.168838</td>\n",
       "      <td>0.0</td>\n",
       "      <td>0.3182</td>\n",
       "      <td>0.4545</td>\n",
       "      <td>0.5909</td>\n",
       "      <td>1.0000</td>\n",
       "    </tr>\n",
       "    <tr>\n",
       "      <th>hum</th>\n",
       "      <td>11763.0</td>\n",
       "      <td>0.626227</td>\n",
       "      <td>0.200008</td>\n",
       "      <td>0.0</td>\n",
       "      <td>0.4700</td>\n",
       "      <td>0.6200</td>\n",
       "      <td>0.7900</td>\n",
       "      <td>1.0000</td>\n",
       "    </tr>\n",
       "    <tr>\n",
       "      <th>windspeed</th>\n",
       "      <td>11763.0</td>\n",
       "      <td>0.193259</td>\n",
       "      <td>0.120032</td>\n",
       "      <td>0.0</td>\n",
       "      <td>0.1045</td>\n",
       "      <td>0.1940</td>\n",
       "      <td>0.2836</td>\n",
       "      <td>0.5522</td>\n",
       "    </tr>\n",
       "    <tr>\n",
       "      <th>cnt</th>\n",
       "      <td>11763.0</td>\n",
       "      <td>160.670492</td>\n",
       "      <td>151.561271</td>\n",
       "      <td>2.0</td>\n",
       "      <td>36.0000</td>\n",
       "      <td>121.0000</td>\n",
       "      <td>234.0000</td>\n",
       "      <td>957.0000</td>\n",
       "    </tr>\n",
       "  </tbody>\n",
       "</table>\n",
       "</div>"
      ],
      "text/plain": [
       "              count        mean         std  min      25%       50%       75%  \\\n",
       "season      11763.0    2.225028    1.088084  1.0   1.0000    2.0000    3.0000   \n",
       "yr          11763.0    0.278670    0.448364  0.0   0.0000    0.0000    1.0000   \n",
       "hr          11763.0   11.634107    6.903735  0.0   6.0000   12.0000   18.0000   \n",
       "holiday     11763.0    0.027969    0.164891  0.0   0.0000    0.0000    0.0000   \n",
       "weekday     11763.0    3.009181    2.005455  0.0   1.0000    3.0000    5.0000   \n",
       "weathersit  11763.0    1.431778    0.646495  1.0   1.0000    1.0000    2.0000   \n",
       "atemp       11763.0    0.451582    0.168838  0.0   0.3182    0.4545    0.5909   \n",
       "hum         11763.0    0.626227    0.200008  0.0   0.4700    0.6200    0.7900   \n",
       "windspeed   11763.0    0.193259    0.120032  0.0   0.1045    0.1940    0.2836   \n",
       "cnt         11763.0  160.670492  151.561271  2.0  36.0000  121.0000  234.0000   \n",
       "\n",
       "                 max  \n",
       "season        4.0000  \n",
       "yr            1.0000  \n",
       "hr           23.0000  \n",
       "holiday       1.0000  \n",
       "weekday       6.0000  \n",
       "weathersit    3.0000  \n",
       "atemp         1.0000  \n",
       "hum           1.0000  \n",
       "windspeed     0.5522  \n",
       "cnt         957.0000  "
      ]
     },
     "execution_count": 1753,
     "metadata": {},
     "output_type": "execute_result"
    }
   ],
   "source": [
    "train_prep_fs_1_3.describe().T"
   ]
  },
  {
   "cell_type": "markdown",
   "metadata": {},
   "source": [
    "#### Otra manera"
   ]
  },
  {
   "cell_type": "markdown",
   "metadata": {},
   "source": [
    "#### División del conjuntos de datos, en train y validation"
   ]
  },
  {
   "cell_type": "code",
   "execution_count": 1804,
   "metadata": {},
   "outputs": [
    {
     "data": {
      "text/html": [
       "<div>\n",
       "<style scoped>\n",
       "    .dataframe tbody tr th:only-of-type {\n",
       "        vertical-align: middle;\n",
       "    }\n",
       "\n",
       "    .dataframe tbody tr th {\n",
       "        vertical-align: top;\n",
       "    }\n",
       "\n",
       "    .dataframe thead th {\n",
       "        text-align: right;\n",
       "    }\n",
       "</style>\n",
       "<table border=\"1\" class=\"dataframe\">\n",
       "  <thead>\n",
       "    <tr style=\"text-align: right;\">\n",
       "      <th></th>\n",
       "      <th>season</th>\n",
       "      <th>yr</th>\n",
       "      <th>hr</th>\n",
       "      <th>holiday</th>\n",
       "      <th>weekday</th>\n",
       "      <th>weathersit</th>\n",
       "      <th>atemp</th>\n",
       "      <th>hum</th>\n",
       "      <th>windspeed</th>\n",
       "      <th>cnt</th>\n",
       "    </tr>\n",
       "  </thead>\n",
       "  <tbody>\n",
       "    <tr>\n",
       "      <th>0</th>\n",
       "      <td>1</td>\n",
       "      <td>0</td>\n",
       "      <td>0</td>\n",
       "      <td>0</td>\n",
       "      <td>6</td>\n",
       "      <td>1</td>\n",
       "      <td>0.2879</td>\n",
       "      <td>0.81</td>\n",
       "      <td>0.0</td>\n",
       "      <td>16</td>\n",
       "    </tr>\n",
       "    <tr>\n",
       "      <th>1</th>\n",
       "      <td>1</td>\n",
       "      <td>0</td>\n",
       "      <td>1</td>\n",
       "      <td>0</td>\n",
       "      <td>6</td>\n",
       "      <td>1</td>\n",
       "      <td>0.2727</td>\n",
       "      <td>0.80</td>\n",
       "      <td>0.0</td>\n",
       "      <td>40</td>\n",
       "    </tr>\n",
       "    <tr>\n",
       "      <th>2</th>\n",
       "      <td>1</td>\n",
       "      <td>0</td>\n",
       "      <td>2</td>\n",
       "      <td>0</td>\n",
       "      <td>6</td>\n",
       "      <td>1</td>\n",
       "      <td>0.2727</td>\n",
       "      <td>0.80</td>\n",
       "      <td>0.0</td>\n",
       "      <td>32</td>\n",
       "    </tr>\n",
       "    <tr>\n",
       "      <th>3</th>\n",
       "      <td>1</td>\n",
       "      <td>0</td>\n",
       "      <td>3</td>\n",
       "      <td>0</td>\n",
       "      <td>6</td>\n",
       "      <td>1</td>\n",
       "      <td>0.2879</td>\n",
       "      <td>0.75</td>\n",
       "      <td>0.0</td>\n",
       "      <td>13</td>\n",
       "    </tr>\n",
       "    <tr>\n",
       "      <th>6</th>\n",
       "      <td>1</td>\n",
       "      <td>0</td>\n",
       "      <td>6</td>\n",
       "      <td>0</td>\n",
       "      <td>6</td>\n",
       "      <td>1</td>\n",
       "      <td>0.2727</td>\n",
       "      <td>0.80</td>\n",
       "      <td>0.0</td>\n",
       "      <td>2</td>\n",
       "    </tr>\n",
       "  </tbody>\n",
       "</table>\n",
       "</div>"
      ],
      "text/plain": [
       "   season  yr  hr  holiday  weekday  weathersit   atemp   hum  windspeed  cnt\n",
       "0       1   0   0        0        6           1  0.2879  0.81        0.0   16\n",
       "1       1   0   1        0        6           1  0.2727  0.80        0.0   40\n",
       "2       1   0   2        0        6           1  0.2727  0.80        0.0   32\n",
       "3       1   0   3        0        6           1  0.2879  0.75        0.0   13\n",
       "6       1   0   6        0        6           1  0.2727  0.80        0.0    2"
      ]
     },
     "execution_count": 1804,
     "metadata": {},
     "output_type": "execute_result"
    }
   ],
   "source": [
    "train_prep_fs_1.head()"
   ]
  },
  {
   "cell_type": "code",
   "execution_count": 1806,
   "metadata": {},
   "outputs": [
    {
     "data": {
      "text/plain": [
       "(11763, 10)"
      ]
     },
     "execution_count": 1806,
     "metadata": {},
     "output_type": "execute_result"
    }
   ],
   "source": [
    "# (nro. filas, nro. columnas)\n",
    "train_prep_fs_1.shape"
   ]
  },
  {
   "cell_type": "markdown",
   "metadata": {},
   "source": [
    "Se probará 85%(train) y 15%(test)"
   ]
  },
  {
   "cell_type": "code",
   "execution_count": 1960,
   "metadata": {},
   "outputs": [],
   "source": [
    "X_1 = train_prep_fs_1.drop(['cnt'], axis = 1)\n",
    "y_1 = train_prep_fs_1['cnt']"
   ]
  },
  {
   "cell_type": "code",
   "execution_count": 1961,
   "metadata": {},
   "outputs": [],
   "source": [
    "train_X_1, val_X_1, train_y_1, val_y_1 = train_test_split(X_1, y_1, test_size=0.15, random_state = 2208)"
   ]
  },
  {
   "cell_type": "markdown",
   "metadata": {
    "tags": []
   },
   "source": [
    "### 5.2. Usando el 2do método de selección + correlación lineal\n",
    "\n",
    "<div id='idtrainfs2'/>\n",
    "\n",
    "[Prep Prueba](#idpruebafs2)\n",
    "\n",
    "Eliminamos `windspeed`, `season`, `hum`, `temp`"
   ]
  },
  {
   "cell_type": "code",
   "execution_count": 1802,
   "metadata": {},
   "outputs": [],
   "source": [
    "train_prep_fs_2 = train_df_prep_1.drop(['windspeed','temp','season','hum'],axis = 1)"
   ]
  },
  {
   "cell_type": "code",
   "execution_count": 1803,
   "metadata": {},
   "outputs": [
    {
     "data": {
      "text/plain": [
       "Index(['season', 'yr', 'hr', 'holiday', 'weekday', 'weathersit', 'atemp',\n",
       "       'hum', 'windspeed', 'cnt'],\n",
       "      dtype='object')"
      ]
     },
     "execution_count": 1803,
     "metadata": {},
     "output_type": "execute_result"
    }
   ],
   "source": [
    "train_prep_fs_2.columns"
   ]
  },
  {
   "cell_type": "code",
   "execution_count": 1751,
   "metadata": {},
   "outputs": [
    {
     "data": {
      "text/html": [
       "<div>\n",
       "<style scoped>\n",
       "    .dataframe tbody tr th:only-of-type {\n",
       "        vertical-align: middle;\n",
       "    }\n",
       "\n",
       "    .dataframe tbody tr th {\n",
       "        vertical-align: top;\n",
       "    }\n",
       "\n",
       "    .dataframe thead th {\n",
       "        text-align: right;\n",
       "    }\n",
       "</style>\n",
       "<table border=\"1\" class=\"dataframe\">\n",
       "  <thead>\n",
       "    <tr style=\"text-align: right;\">\n",
       "      <th></th>\n",
       "      <th>season</th>\n",
       "      <th>yr</th>\n",
       "      <th>hr</th>\n",
       "      <th>holiday</th>\n",
       "      <th>weekday</th>\n",
       "      <th>weathersit</th>\n",
       "      <th>atemp</th>\n",
       "      <th>hum</th>\n",
       "      <th>windspeed</th>\n",
       "      <th>cnt</th>\n",
       "    </tr>\n",
       "  </thead>\n",
       "  <tbody>\n",
       "    <tr>\n",
       "      <th>0</th>\n",
       "      <td>1</td>\n",
       "      <td>0</td>\n",
       "      <td>0</td>\n",
       "      <td>0</td>\n",
       "      <td>6</td>\n",
       "      <td>1</td>\n",
       "      <td>0.2879</td>\n",
       "      <td>0.81</td>\n",
       "      <td>0.0</td>\n",
       "      <td>16</td>\n",
       "    </tr>\n",
       "    <tr>\n",
       "      <th>1</th>\n",
       "      <td>1</td>\n",
       "      <td>0</td>\n",
       "      <td>1</td>\n",
       "      <td>0</td>\n",
       "      <td>6</td>\n",
       "      <td>1</td>\n",
       "      <td>0.2727</td>\n",
       "      <td>0.80</td>\n",
       "      <td>0.0</td>\n",
       "      <td>40</td>\n",
       "    </tr>\n",
       "    <tr>\n",
       "      <th>2</th>\n",
       "      <td>1</td>\n",
       "      <td>0</td>\n",
       "      <td>2</td>\n",
       "      <td>0</td>\n",
       "      <td>6</td>\n",
       "      <td>1</td>\n",
       "      <td>0.2727</td>\n",
       "      <td>0.80</td>\n",
       "      <td>0.0</td>\n",
       "      <td>32</td>\n",
       "    </tr>\n",
       "    <tr>\n",
       "      <th>3</th>\n",
       "      <td>1</td>\n",
       "      <td>0</td>\n",
       "      <td>3</td>\n",
       "      <td>0</td>\n",
       "      <td>6</td>\n",
       "      <td>1</td>\n",
       "      <td>0.2879</td>\n",
       "      <td>0.75</td>\n",
       "      <td>0.0</td>\n",
       "      <td>13</td>\n",
       "    </tr>\n",
       "    <tr>\n",
       "      <th>6</th>\n",
       "      <td>1</td>\n",
       "      <td>0</td>\n",
       "      <td>6</td>\n",
       "      <td>0</td>\n",
       "      <td>6</td>\n",
       "      <td>1</td>\n",
       "      <td>0.2727</td>\n",
       "      <td>0.80</td>\n",
       "      <td>0.0</td>\n",
       "      <td>2</td>\n",
       "    </tr>\n",
       "  </tbody>\n",
       "</table>\n",
       "</div>"
      ],
      "text/plain": [
       "   season  yr  hr  holiday  weekday  weathersit   atemp   hum  windspeed  cnt\n",
       "0       1   0   0        0        6           1  0.2879  0.81        0.0   16\n",
       "1       1   0   1        0        6           1  0.2727  0.80        0.0   40\n",
       "2       1   0   2        0        6           1  0.2727  0.80        0.0   32\n",
       "3       1   0   3        0        6           1  0.2879  0.75        0.0   13\n",
       "6       1   0   6        0        6           1  0.2727  0.80        0.0    2"
      ]
     },
     "execution_count": 1751,
     "metadata": {},
     "output_type": "execute_result"
    }
   ],
   "source": [
    "train_prep_fs_1_2 = train_prep_fs_1.copy()\n",
    "# train_prep_fs_1_2 = pd.get_dummies(train_prep_fs_1, columns=['season', 'hr', 'weathersit', 'weekday'])\n",
    "train_prep_fs_1_2.head()"
   ]
  },
  {
   "cell_type": "code",
   "execution_count": 1530,
   "metadata": {},
   "outputs": [],
   "source": [
    "train_df_prep_2['cnt'] = np.log1p(train_df_prep_2['cnt'])"
   ]
  },
  {
   "cell_type": "markdown",
   "metadata": {
    "tags": []
   },
   "source": [
    "##### Escalado de las variables\n",
    "Manejaremos un escalado StandardScaler para la variable objetivo"
   ]
  },
  {
   "cell_type": "code",
   "execution_count": 1752,
   "metadata": {},
   "outputs": [],
   "source": [
    "train_prep_fs_1_3 = train_prep_fs_1_2.copy()"
   ]
  },
  {
   "cell_type": "code",
   "execution_count": 1679,
   "metadata": {},
   "outputs": [],
   "source": [
    "# st_output = MinMaxScaler()\n",
    "# train_prep_fs_1_3.loc[:,['cnt']] = st_output.fit_transform(train_prep_fs_1_3.loc[:,['cnt']])"
   ]
  },
  {
   "cell_type": "code",
   "execution_count": 1753,
   "metadata": {},
   "outputs": [
    {
     "data": {
      "text/html": [
       "<div>\n",
       "<style scoped>\n",
       "    .dataframe tbody tr th:only-of-type {\n",
       "        vertical-align: middle;\n",
       "    }\n",
       "\n",
       "    .dataframe tbody tr th {\n",
       "        vertical-align: top;\n",
       "    }\n",
       "\n",
       "    .dataframe thead th {\n",
       "        text-align: right;\n",
       "    }\n",
       "</style>\n",
       "<table border=\"1\" class=\"dataframe\">\n",
       "  <thead>\n",
       "    <tr style=\"text-align: right;\">\n",
       "      <th></th>\n",
       "      <th>count</th>\n",
       "      <th>mean</th>\n",
       "      <th>std</th>\n",
       "      <th>min</th>\n",
       "      <th>25%</th>\n",
       "      <th>50%</th>\n",
       "      <th>75%</th>\n",
       "      <th>max</th>\n",
       "    </tr>\n",
       "  </thead>\n",
       "  <tbody>\n",
       "    <tr>\n",
       "      <th>season</th>\n",
       "      <td>11763.0</td>\n",
       "      <td>2.225028</td>\n",
       "      <td>1.088084</td>\n",
       "      <td>1.0</td>\n",
       "      <td>1.0000</td>\n",
       "      <td>2.0000</td>\n",
       "      <td>3.0000</td>\n",
       "      <td>4.0000</td>\n",
       "    </tr>\n",
       "    <tr>\n",
       "      <th>yr</th>\n",
       "      <td>11763.0</td>\n",
       "      <td>0.278670</td>\n",
       "      <td>0.448364</td>\n",
       "      <td>0.0</td>\n",
       "      <td>0.0000</td>\n",
       "      <td>0.0000</td>\n",
       "      <td>1.0000</td>\n",
       "      <td>1.0000</td>\n",
       "    </tr>\n",
       "    <tr>\n",
       "      <th>hr</th>\n",
       "      <td>11763.0</td>\n",
       "      <td>11.634107</td>\n",
       "      <td>6.903735</td>\n",
       "      <td>0.0</td>\n",
       "      <td>6.0000</td>\n",
       "      <td>12.0000</td>\n",
       "      <td>18.0000</td>\n",
       "      <td>23.0000</td>\n",
       "    </tr>\n",
       "    <tr>\n",
       "      <th>holiday</th>\n",
       "      <td>11763.0</td>\n",
       "      <td>0.027969</td>\n",
       "      <td>0.164891</td>\n",
       "      <td>0.0</td>\n",
       "      <td>0.0000</td>\n",
       "      <td>0.0000</td>\n",
       "      <td>0.0000</td>\n",
       "      <td>1.0000</td>\n",
       "    </tr>\n",
       "    <tr>\n",
       "      <th>weekday</th>\n",
       "      <td>11763.0</td>\n",
       "      <td>3.009181</td>\n",
       "      <td>2.005455</td>\n",
       "      <td>0.0</td>\n",
       "      <td>1.0000</td>\n",
       "      <td>3.0000</td>\n",
       "      <td>5.0000</td>\n",
       "      <td>6.0000</td>\n",
       "    </tr>\n",
       "    <tr>\n",
       "      <th>weathersit</th>\n",
       "      <td>11763.0</td>\n",
       "      <td>1.431778</td>\n",
       "      <td>0.646495</td>\n",
       "      <td>1.0</td>\n",
       "      <td>1.0000</td>\n",
       "      <td>1.0000</td>\n",
       "      <td>2.0000</td>\n",
       "      <td>3.0000</td>\n",
       "    </tr>\n",
       "    <tr>\n",
       "      <th>atemp</th>\n",
       "      <td>11763.0</td>\n",
       "      <td>0.451582</td>\n",
       "      <td>0.168838</td>\n",
       "      <td>0.0</td>\n",
       "      <td>0.3182</td>\n",
       "      <td>0.4545</td>\n",
       "      <td>0.5909</td>\n",
       "      <td>1.0000</td>\n",
       "    </tr>\n",
       "    <tr>\n",
       "      <th>hum</th>\n",
       "      <td>11763.0</td>\n",
       "      <td>0.626227</td>\n",
       "      <td>0.200008</td>\n",
       "      <td>0.0</td>\n",
       "      <td>0.4700</td>\n",
       "      <td>0.6200</td>\n",
       "      <td>0.7900</td>\n",
       "      <td>1.0000</td>\n",
       "    </tr>\n",
       "    <tr>\n",
       "      <th>windspeed</th>\n",
       "      <td>11763.0</td>\n",
       "      <td>0.193259</td>\n",
       "      <td>0.120032</td>\n",
       "      <td>0.0</td>\n",
       "      <td>0.1045</td>\n",
       "      <td>0.1940</td>\n",
       "      <td>0.2836</td>\n",
       "      <td>0.5522</td>\n",
       "    </tr>\n",
       "    <tr>\n",
       "      <th>cnt</th>\n",
       "      <td>11763.0</td>\n",
       "      <td>160.670492</td>\n",
       "      <td>151.561271</td>\n",
       "      <td>2.0</td>\n",
       "      <td>36.0000</td>\n",
       "      <td>121.0000</td>\n",
       "      <td>234.0000</td>\n",
       "      <td>957.0000</td>\n",
       "    </tr>\n",
       "  </tbody>\n",
       "</table>\n",
       "</div>"
      ],
      "text/plain": [
       "              count        mean         std  min      25%       50%       75%  \\\n",
       "season      11763.0    2.225028    1.088084  1.0   1.0000    2.0000    3.0000   \n",
       "yr          11763.0    0.278670    0.448364  0.0   0.0000    0.0000    1.0000   \n",
       "hr          11763.0   11.634107    6.903735  0.0   6.0000   12.0000   18.0000   \n",
       "holiday     11763.0    0.027969    0.164891  0.0   0.0000    0.0000    0.0000   \n",
       "weekday     11763.0    3.009181    2.005455  0.0   1.0000    3.0000    5.0000   \n",
       "weathersit  11763.0    1.431778    0.646495  1.0   1.0000    1.0000    2.0000   \n",
       "atemp       11763.0    0.451582    0.168838  0.0   0.3182    0.4545    0.5909   \n",
       "hum         11763.0    0.626227    0.200008  0.0   0.4700    0.6200    0.7900   \n",
       "windspeed   11763.0    0.193259    0.120032  0.0   0.1045    0.1940    0.2836   \n",
       "cnt         11763.0  160.670492  151.561271  2.0  36.0000  121.0000  234.0000   \n",
       "\n",
       "                 max  \n",
       "season        4.0000  \n",
       "yr            1.0000  \n",
       "hr           23.0000  \n",
       "holiday       1.0000  \n",
       "weekday       6.0000  \n",
       "weathersit    3.0000  \n",
       "atemp         1.0000  \n",
       "hum           1.0000  \n",
       "windspeed     0.5522  \n",
       "cnt         957.0000  "
      ]
     },
     "execution_count": 1753,
     "metadata": {},
     "output_type": "execute_result"
    }
   ],
   "source": [
    "train_prep_fs_1_3.describe().T"
   ]
  },
  {
   "cell_type": "markdown",
   "metadata": {},
   "source": [
    "#### División del conjuntos de datos, en train y validation"
   ]
  },
  {
   "cell_type": "code",
   "execution_count": 1804,
   "metadata": {},
   "outputs": [
    {
     "data": {
      "text/html": [
       "<div>\n",
       "<style scoped>\n",
       "    .dataframe tbody tr th:only-of-type {\n",
       "        vertical-align: middle;\n",
       "    }\n",
       "\n",
       "    .dataframe tbody tr th {\n",
       "        vertical-align: top;\n",
       "    }\n",
       "\n",
       "    .dataframe thead th {\n",
       "        text-align: right;\n",
       "    }\n",
       "</style>\n",
       "<table border=\"1\" class=\"dataframe\">\n",
       "  <thead>\n",
       "    <tr style=\"text-align: right;\">\n",
       "      <th></th>\n",
       "      <th>season</th>\n",
       "      <th>yr</th>\n",
       "      <th>hr</th>\n",
       "      <th>holiday</th>\n",
       "      <th>weekday</th>\n",
       "      <th>weathersit</th>\n",
       "      <th>atemp</th>\n",
       "      <th>hum</th>\n",
       "      <th>windspeed</th>\n",
       "      <th>cnt</th>\n",
       "    </tr>\n",
       "  </thead>\n",
       "  <tbody>\n",
       "    <tr>\n",
       "      <th>0</th>\n",
       "      <td>1</td>\n",
       "      <td>0</td>\n",
       "      <td>0</td>\n",
       "      <td>0</td>\n",
       "      <td>6</td>\n",
       "      <td>1</td>\n",
       "      <td>0.2879</td>\n",
       "      <td>0.81</td>\n",
       "      <td>0.0</td>\n",
       "      <td>16</td>\n",
       "    </tr>\n",
       "    <tr>\n",
       "      <th>1</th>\n",
       "      <td>1</td>\n",
       "      <td>0</td>\n",
       "      <td>1</td>\n",
       "      <td>0</td>\n",
       "      <td>6</td>\n",
       "      <td>1</td>\n",
       "      <td>0.2727</td>\n",
       "      <td>0.80</td>\n",
       "      <td>0.0</td>\n",
       "      <td>40</td>\n",
       "    </tr>\n",
       "    <tr>\n",
       "      <th>2</th>\n",
       "      <td>1</td>\n",
       "      <td>0</td>\n",
       "      <td>2</td>\n",
       "      <td>0</td>\n",
       "      <td>6</td>\n",
       "      <td>1</td>\n",
       "      <td>0.2727</td>\n",
       "      <td>0.80</td>\n",
       "      <td>0.0</td>\n",
       "      <td>32</td>\n",
       "    </tr>\n",
       "    <tr>\n",
       "      <th>3</th>\n",
       "      <td>1</td>\n",
       "      <td>0</td>\n",
       "      <td>3</td>\n",
       "      <td>0</td>\n",
       "      <td>6</td>\n",
       "      <td>1</td>\n",
       "      <td>0.2879</td>\n",
       "      <td>0.75</td>\n",
       "      <td>0.0</td>\n",
       "      <td>13</td>\n",
       "    </tr>\n",
       "    <tr>\n",
       "      <th>6</th>\n",
       "      <td>1</td>\n",
       "      <td>0</td>\n",
       "      <td>6</td>\n",
       "      <td>0</td>\n",
       "      <td>6</td>\n",
       "      <td>1</td>\n",
       "      <td>0.2727</td>\n",
       "      <td>0.80</td>\n",
       "      <td>0.0</td>\n",
       "      <td>2</td>\n",
       "    </tr>\n",
       "  </tbody>\n",
       "</table>\n",
       "</div>"
      ],
      "text/plain": [
       "   season  yr  hr  holiday  weekday  weathersit   atemp   hum  windspeed  cnt\n",
       "0       1   0   0        0        6           1  0.2879  0.81        0.0   16\n",
       "1       1   0   1        0        6           1  0.2727  0.80        0.0   40\n",
       "2       1   0   2        0        6           1  0.2727  0.80        0.0   32\n",
       "3       1   0   3        0        6           1  0.2879  0.75        0.0   13\n",
       "6       1   0   6        0        6           1  0.2727  0.80        0.0    2"
      ]
     },
     "execution_count": 1804,
     "metadata": {},
     "output_type": "execute_result"
    }
   ],
   "source": [
    "train_prep_fs_2.head()"
   ]
  },
  {
   "cell_type": "code",
   "execution_count": 1806,
   "metadata": {},
   "outputs": [
    {
     "data": {
      "text/plain": [
       "(11763, 10)"
      ]
     },
     "execution_count": 1806,
     "metadata": {},
     "output_type": "execute_result"
    }
   ],
   "source": [
    "# (nro. filas, nro. columnas)\n",
    "train_prep_fs_2.shape"
   ]
  },
  {
   "cell_type": "markdown",
   "metadata": {},
   "source": [
    "Se probará 80% (train) y 20% (validación)"
   ]
  },
  {
   "cell_type": "code",
   "execution_count": 1807,
   "metadata": {},
   "outputs": [],
   "source": [
    "X_2 = train_prep_fs_2.drop(['cnt'], axis = 1)\n",
    "y_2 = train_prep_fs_2['cnt']"
   ]
  },
  {
   "cell_type": "code",
   "execution_count": 1808,
   "metadata": {},
   "outputs": [],
   "source": [
    "train_X_2, val_X_2, train_y_2, val_y_2 = train_test_split(X_2, y_2, test_size=0.15, random_state = 2208)"
   ]
  },
  {
   "cell_type": "code",
   "execution_count": null,
   "metadata": {},
   "outputs": [],
   "source": []
  },
  {
   "cell_type": "markdown",
   "metadata": {},
   "source": [
    "## 6. Modelos de entrenamiento\n",
    "<div id='id6'/>\n",
    "Se probará Modelos de Bosques aleatorios, XGboost y Redes neuronales"
   ]
  },
  {
   "cell_type": "markdown",
   "metadata": {
    "tags": []
   },
   "source": [
    "### Random Forest\n",
    "<div id='id6.1'/>"
   ]
  },
  {
   "cell_type": "markdown",
   "metadata": {},
   "source": [
    "#### 1ro"
   ]
  },
  {
   "cell_type": "code",
   "execution_count": 1999,
   "metadata": {},
   "outputs": [],
   "source": [
    "my_param_grid = {'n_estimators':[100, 250, 500], 'max_features':['sqrt', 'log2'], 'max_depth':[10, 20]}"
   ]
  },
  {
   "cell_type": "code",
   "execution_count": 2000,
   "metadata": {},
   "outputs": [],
   "source": [
    "rf_1 = GridSearchCV(estimator = RandomForestRegressor(), param_grid = my_param_grid, refit = True, verbose = 2, cv = 5, scoring = 'neg_root_mean_squared_error')"
   ]
  },
  {
   "cell_type": "code",
   "execution_count": null,
   "metadata": {},
   "outputs": [
    {
     "name": "stdout",
     "output_type": "stream",
     "text": [
      "Fitting 5 folds for each of 12 candidates, totalling 60 fits\n",
      "[CV] END ..max_depth=10, max_features=sqrt, n_estimators=100; total time=   1.4s\n",
      "[CV] END ..max_depth=10, max_features=sqrt, n_estimators=100; total time=   1.2s\n",
      "[CV] END ..max_depth=10, max_features=sqrt, n_estimators=100; total time=   1.5s\n",
      "[CV] END ..max_depth=10, max_features=sqrt, n_estimators=100; total time=   1.8s\n",
      "[CV] END ..max_depth=10, max_features=sqrt, n_estimators=100; total time=   4.6s\n",
      "[CV] END ..max_depth=10, max_features=sqrt, n_estimators=250; total time=   8.5s\n",
      "[CV] END ..max_depth=10, max_features=sqrt, n_estimators=250; total time=   6.6s\n",
      "[CV] END ..max_depth=10, max_features=sqrt, n_estimators=250; total time=   3.3s\n",
      "[CV] END ..max_depth=10, max_features=sqrt, n_estimators=250; total time=   4.2s\n",
      "[CV] END ..max_depth=10, max_features=sqrt, n_estimators=250; total time=   5.2s\n",
      "[CV] END ..max_depth=10, max_features=sqrt, n_estimators=500; total time=  16.7s\n",
      "[CV] END ..max_depth=10, max_features=sqrt, n_estimators=500; total time=  13.7s\n",
      "[CV] END ..max_depth=10, max_features=sqrt, n_estimators=500; total time=  14.2s\n",
      "[CV] END ..max_depth=10, max_features=sqrt, n_estimators=500; total time=  13.0s\n",
      "[CV] END ..max_depth=10, max_features=sqrt, n_estimators=500; total time=  14.1s\n",
      "[CV] END ..max_depth=10, max_features=log2, n_estimators=100; total time=   2.5s\n",
      "[CV] END ..max_depth=10, max_features=log2, n_estimators=100; total time=   2.9s\n",
      "[CV] END ..max_depth=10, max_features=log2, n_estimators=100; total time=   2.4s\n",
      "[CV] END ..max_depth=10, max_features=log2, n_estimators=100; total time=   2.4s\n",
      "[CV] END ..max_depth=10, max_features=log2, n_estimators=100; total time=   2.2s\n",
      "[CV] END ..max_depth=10, max_features=log2, n_estimators=250; total time=   6.3s\n",
      "[CV] END ..max_depth=10, max_features=log2, n_estimators=250; total time=   6.2s\n",
      "[CV] END ..max_depth=10, max_features=log2, n_estimators=250; total time=   7.1s\n",
      "[CV] END ..max_depth=10, max_features=log2, n_estimators=250; total time=   7.5s\n",
      "[CV] END ..max_depth=10, max_features=log2, n_estimators=250; total time=   9.9s\n",
      "[CV] END ..max_depth=10, max_features=log2, n_estimators=500; total time=  15.6s\n",
      "[CV] END ..max_depth=10, max_features=log2, n_estimators=500; total time=  18.9s\n",
      "[CV] END ..max_depth=10, max_features=log2, n_estimators=500; total time=  20.2s\n"
     ]
    }
   ],
   "source": [
    "rf_1.fit(train_X_1, train_y_1)"
   ]
  },
  {
   "cell_type": "code",
   "execution_count": 1965,
   "metadata": {},
   "outputs": [
    {
     "data": {
      "text/plain": [
       "RandomForestRegressor(max_depth=20, max_features='sqrt', n_estimators=250)"
      ]
     },
     "execution_count": 1965,
     "metadata": {},
     "output_type": "execute_result"
    }
   ],
   "source": [
    "rf_1.best_estimator_"
   ]
  },
  {
   "cell_type": "code",
   "execution_count": 1966,
   "metadata": {},
   "outputs": [
    {
     "data": {
      "text/plain": [
       "53.61479702000902"
      ]
     },
     "execution_count": 1966,
     "metadata": {},
     "output_type": "execute_result"
    }
   ],
   "source": [
    "# Este es\n",
    "rf_1.best_score_*(-1)"
   ]
  },
  {
   "cell_type": "code",
   "execution_count": 1967,
   "metadata": {},
   "outputs": [
    {
     "data": {
      "text/plain": [
       "array([  9.28001781, 117.26909524,  14.462     , ..., 319.14203361,\n",
       "        20.05829717, 331.17064444])"
      ]
     },
     "execution_count": 1967,
     "metadata": {},
     "output_type": "execute_result"
    }
   ],
   "source": [
    "# Este es\n",
    "y_hat_1 = grid.predict(val_X_1)\n",
    "y_hat_1"
   ]
  },
  {
   "cell_type": "code",
   "execution_count": 1986,
   "metadata": {},
   "outputs": [
    {
     "data": {
      "text/plain": [
       "RandomForestRegressor(max_depth=20, max_features='sqrt', n_estimators=500)"
      ]
     },
     "execution_count": 1986,
     "metadata": {},
     "output_type": "execute_result"
    }
   ],
   "source": [
    "rf_1 = RandomForestRegressor(max_depth= 20, max_features = 'sqrt', n_estimators= 500)\n",
    "rf_1.fit(train_X_1, train_y_1)"
   ]
  },
  {
   "cell_type": "code",
   "execution_count": 1992,
   "metadata": {},
   "outputs": [
    {
     "data": {
      "text/plain": [
       "array([  8.87814824, 119.58717878,  15.17760303, ..., 324.14156353,\n",
       "        22.67924554, 334.17296899])"
      ]
     },
     "execution_count": 1992,
     "metadata": {},
     "output_type": "execute_result"
    }
   ],
   "source": [
    "rf_pred_1 = rf_1.predict(val_X_1)\n",
    "rf_pred_1"
   ]
  },
  {
   "cell_type": "markdown",
   "metadata": {},
   "source": [
    "Visualizando la métrica a minimizar\n",
    "\n",
    "---"
   ]
  },
  {
   "cell_type": "code",
   "execution_count": 1993,
   "metadata": {},
   "outputs": [],
   "source": [
    "predicns = pd.DataFrame(val_y_1.values.reshape(-1,1), columns=['true_val'])"
   ]
  },
  {
   "cell_type": "code",
   "execution_count": 1994,
   "metadata": {},
   "outputs": [],
   "source": [
    "predicns['predict_val'] = rf_pred_1.reshape(-1,1)"
   ]
  },
  {
   "cell_type": "code",
   "execution_count": 1995,
   "metadata": {},
   "outputs": [
    {
     "data": {
      "text/html": [
       "<div>\n",
       "<style scoped>\n",
       "    .dataframe tbody tr th:only-of-type {\n",
       "        vertical-align: middle;\n",
       "    }\n",
       "\n",
       "    .dataframe tbody tr th {\n",
       "        vertical-align: top;\n",
       "    }\n",
       "\n",
       "    .dataframe thead th {\n",
       "        text-align: right;\n",
       "    }\n",
       "</style>\n",
       "<table border=\"1\" class=\"dataframe\">\n",
       "  <thead>\n",
       "    <tr style=\"text-align: right;\">\n",
       "      <th></th>\n",
       "      <th>true_val</th>\n",
       "      <th>predict_val</th>\n",
       "    </tr>\n",
       "  </thead>\n",
       "  <tbody>\n",
       "    <tr>\n",
       "      <th>0</th>\n",
       "      <td>3</td>\n",
       "      <td>8.878148</td>\n",
       "    </tr>\n",
       "    <tr>\n",
       "      <th>1</th>\n",
       "      <td>119</td>\n",
       "      <td>119.587179</td>\n",
       "    </tr>\n",
       "    <tr>\n",
       "      <th>2</th>\n",
       "      <td>10</td>\n",
       "      <td>15.177603</td>\n",
       "    </tr>\n",
       "    <tr>\n",
       "      <th>3</th>\n",
       "      <td>104</td>\n",
       "      <td>114.467270</td>\n",
       "    </tr>\n",
       "    <tr>\n",
       "      <th>4</th>\n",
       "      <td>10</td>\n",
       "      <td>16.605529</td>\n",
       "    </tr>\n",
       "    <tr>\n",
       "      <th>...</th>\n",
       "      <td>...</td>\n",
       "      <td>...</td>\n",
       "    </tr>\n",
       "    <tr>\n",
       "      <th>1760</th>\n",
       "      <td>102</td>\n",
       "      <td>157.501684</td>\n",
       "    </tr>\n",
       "    <tr>\n",
       "      <th>1761</th>\n",
       "      <td>91</td>\n",
       "      <td>105.413000</td>\n",
       "    </tr>\n",
       "    <tr>\n",
       "      <th>1762</th>\n",
       "      <td>285</td>\n",
       "      <td>324.141564</td>\n",
       "    </tr>\n",
       "    <tr>\n",
       "      <th>1763</th>\n",
       "      <td>5</td>\n",
       "      <td>22.679246</td>\n",
       "    </tr>\n",
       "    <tr>\n",
       "      <th>1764</th>\n",
       "      <td>287</td>\n",
       "      <td>334.172969</td>\n",
       "    </tr>\n",
       "  </tbody>\n",
       "</table>\n",
       "<p>1765 rows × 2 columns</p>\n",
       "</div>"
      ],
      "text/plain": [
       "      true_val  predict_val\n",
       "0            3     8.878148\n",
       "1          119   119.587179\n",
       "2           10    15.177603\n",
       "3          104   114.467270\n",
       "4           10    16.605529\n",
       "...        ...          ...\n",
       "1760       102   157.501684\n",
       "1761        91   105.413000\n",
       "1762       285   324.141564\n",
       "1763         5    22.679246\n",
       "1764       287   334.172969\n",
       "\n",
       "[1765 rows x 2 columns]"
      ]
     },
     "execution_count": 1995,
     "metadata": {},
     "output_type": "execute_result"
    }
   ],
   "source": [
    "predicns"
   ]
  },
  {
   "cell_type": "code",
   "execution_count": 1996,
   "metadata": {},
   "outputs": [
    {
     "data": {
      "text/plain": [
       "49.0112"
      ]
     },
     "execution_count": 1996,
     "metadata": {},
     "output_type": "execute_result"
    }
   ],
   "source": [
    "rmse = round(np.sqrt(mean_squared_error(predicns['true_val'], predicns['predict_val'])),4)\n",
    "rmse"
   ]
  },
  {
   "cell_type": "markdown",
   "metadata": {},
   "source": [
    "---"
   ]
  },
  {
   "cell_type": "code",
   "execution_count": 1970,
   "metadata": {},
   "outputs": [],
   "source": [
    "# Este es\n",
    "predictions = pd.DataFrame(val_y_1.values.reshape(-1,1), columns=['true_val'])"
   ]
  },
  {
   "cell_type": "code",
   "execution_count": 1971,
   "metadata": {},
   "outputs": [],
   "source": [
    "predictions['predict_val'] = y_hat_1.reshape(-1,1)"
   ]
  },
  {
   "cell_type": "code",
   "execution_count": 1972,
   "metadata": {},
   "outputs": [
    {
     "data": {
      "text/html": [
       "<div>\n",
       "<style scoped>\n",
       "    .dataframe tbody tr th:only-of-type {\n",
       "        vertical-align: middle;\n",
       "    }\n",
       "\n",
       "    .dataframe tbody tr th {\n",
       "        vertical-align: top;\n",
       "    }\n",
       "\n",
       "    .dataframe thead th {\n",
       "        text-align: right;\n",
       "    }\n",
       "</style>\n",
       "<table border=\"1\" class=\"dataframe\">\n",
       "  <thead>\n",
       "    <tr style=\"text-align: right;\">\n",
       "      <th></th>\n",
       "      <th>true_val</th>\n",
       "      <th>predict_val</th>\n",
       "    </tr>\n",
       "  </thead>\n",
       "  <tbody>\n",
       "    <tr>\n",
       "      <th>0</th>\n",
       "      <td>3</td>\n",
       "      <td>9.280018</td>\n",
       "    </tr>\n",
       "    <tr>\n",
       "      <th>1</th>\n",
       "      <td>119</td>\n",
       "      <td>117.269095</td>\n",
       "    </tr>\n",
       "    <tr>\n",
       "      <th>2</th>\n",
       "      <td>10</td>\n",
       "      <td>14.462000</td>\n",
       "    </tr>\n",
       "    <tr>\n",
       "      <th>3</th>\n",
       "      <td>104</td>\n",
       "      <td>113.569992</td>\n",
       "    </tr>\n",
       "    <tr>\n",
       "      <th>4</th>\n",
       "      <td>10</td>\n",
       "      <td>16.730160</td>\n",
       "    </tr>\n",
       "    <tr>\n",
       "      <th>...</th>\n",
       "      <td>...</td>\n",
       "      <td>...</td>\n",
       "    </tr>\n",
       "    <tr>\n",
       "      <th>1760</th>\n",
       "      <td>102</td>\n",
       "      <td>166.213745</td>\n",
       "    </tr>\n",
       "    <tr>\n",
       "      <th>1761</th>\n",
       "      <td>91</td>\n",
       "      <td>94.120000</td>\n",
       "    </tr>\n",
       "    <tr>\n",
       "      <th>1762</th>\n",
       "      <td>285</td>\n",
       "      <td>319.142034</td>\n",
       "    </tr>\n",
       "    <tr>\n",
       "      <th>1763</th>\n",
       "      <td>5</td>\n",
       "      <td>20.058297</td>\n",
       "    </tr>\n",
       "    <tr>\n",
       "      <th>1764</th>\n",
       "      <td>287</td>\n",
       "      <td>331.170644</td>\n",
       "    </tr>\n",
       "  </tbody>\n",
       "</table>\n",
       "<p>1765 rows × 2 columns</p>\n",
       "</div>"
      ],
      "text/plain": [
       "      true_val  predict_val\n",
       "0            3     9.280018\n",
       "1          119   117.269095\n",
       "2           10    14.462000\n",
       "3          104   113.569992\n",
       "4           10    16.730160\n",
       "...        ...          ...\n",
       "1760       102   166.213745\n",
       "1761        91    94.120000\n",
       "1762       285   319.142034\n",
       "1763         5    20.058297\n",
       "1764       287   331.170644\n",
       "\n",
       "[1765 rows x 2 columns]"
      ]
     },
     "execution_count": 1972,
     "metadata": {},
     "output_type": "execute_result"
    }
   ],
   "source": [
    "predictions"
   ]
  },
  {
   "cell_type": "code",
   "execution_count": 1973,
   "metadata": {},
   "outputs": [
    {
     "data": {
      "text/plain": [
       "48.5002"
      ]
     },
     "execution_count": 1973,
     "metadata": {},
     "output_type": "execute_result"
    }
   ],
   "source": [
    "rmse = round(np.sqrt(mean_squared_error(predictions['true_val'], predictions['predict_val'])),4)\n",
    "rmse"
   ]
  },
  {
   "cell_type": "markdown",
   "metadata": {},
   "source": [
    "### XGBoost\n",
    "<div id='id6.2'/>"
   ]
  },
  {
   "cell_type": "code",
   "execution_count": 1845,
   "metadata": {},
   "outputs": [],
   "source": [
    "from sklearn import metrics"
   ]
  },
  {
   "cell_type": "code",
   "execution_count": 1846,
   "metadata": {},
   "outputs": [],
   "source": [
    "def rmse(y_true, y_prediction):\n",
    "    return np.sqrt(mean_squared_error(y_true, y_prediction))\n",
    "rmse_scorer = metrics.make_scorer(rmse, greater_is_better = False)"
   ]
  },
  {
   "cell_type": "code",
   "execution_count": 1881,
   "metadata": {},
   "outputs": [
    {
     "name": "stdout",
     "output_type": "stream",
     "text": [
      "Fitting 5 folds for each of 12 candidates, totalling 60 fits\n",
      "[CV] END .learning_rate=0.08, max_depth=10, n_estimators=100; total time=   4.8s\n",
      "[CV] END .learning_rate=0.08, max_depth=10, n_estimators=100; total time=   3.1s\n",
      "[CV] END .learning_rate=0.08, max_depth=10, n_estimators=100; total time=   1.8s\n",
      "[CV] END .learning_rate=0.08, max_depth=10, n_estimators=100; total time=   1.8s\n",
      "[CV] END .learning_rate=0.08, max_depth=10, n_estimators=100; total time=   2.1s\n",
      "[CV] END .learning_rate=0.08, max_depth=10, n_estimators=150; total time=   2.7s\n",
      "[CV] END .learning_rate=0.08, max_depth=10, n_estimators=150; total time=   3.4s\n",
      "[CV] END .learning_rate=0.08, max_depth=10, n_estimators=150; total time=   4.3s\n",
      "[CV] END .learning_rate=0.08, max_depth=10, n_estimators=150; total time=   3.4s\n",
      "[CV] END .learning_rate=0.08, max_depth=10, n_estimators=150; total time=   7.7s\n",
      "[CV] END .learning_rate=0.08, max_depth=20, n_estimators=100; total time=  24.9s\n",
      "[CV] END .learning_rate=0.08, max_depth=20, n_estimators=100; total time=  23.5s\n",
      "[CV] END .learning_rate=0.08, max_depth=20, n_estimators=100; total time=  11.4s\n",
      "[CV] END .learning_rate=0.08, max_depth=20, n_estimators=100; total time=  11.5s\n",
      "[CV] END .learning_rate=0.08, max_depth=20, n_estimators=100; total time=  16.6s\n",
      "[CV] END .learning_rate=0.08, max_depth=20, n_estimators=150; total time=  19.9s\n",
      "[CV] END .learning_rate=0.08, max_depth=20, n_estimators=150; total time=  14.5s\n",
      "[CV] END .learning_rate=0.08, max_depth=20, n_estimators=150; total time=  18.3s\n",
      "[CV] END .learning_rate=0.08, max_depth=20, n_estimators=150; total time=  13.3s\n",
      "[CV] END .learning_rate=0.08, max_depth=20, n_estimators=150; total time=  21.8s\n",
      "[CV] END ..learning_rate=0.1, max_depth=10, n_estimators=100; total time=   2.0s\n",
      "[CV] END ..learning_rate=0.1, max_depth=10, n_estimators=100; total time=   2.0s\n",
      "[CV] END ..learning_rate=0.1, max_depth=10, n_estimators=100; total time=   3.0s\n",
      "[CV] END ..learning_rate=0.1, max_depth=10, n_estimators=100; total time=   2.8s\n",
      "[CV] END ..learning_rate=0.1, max_depth=10, n_estimators=100; total time=   2.4s\n",
      "[CV] END ..learning_rate=0.1, max_depth=10, n_estimators=150; total time=   4.2s\n",
      "[CV] END ..learning_rate=0.1, max_depth=10, n_estimators=150; total time=  13.6s\n",
      "[CV] END ..learning_rate=0.1, max_depth=10, n_estimators=150; total time=   3.7s\n",
      "[CV] END ..learning_rate=0.1, max_depth=10, n_estimators=150; total time=   3.0s\n",
      "[CV] END ..learning_rate=0.1, max_depth=10, n_estimators=150; total time=   3.9s\n",
      "[CV] END ..learning_rate=0.1, max_depth=20, n_estimators=100; total time=  10.8s\n",
      "[CV] END ..learning_rate=0.1, max_depth=20, n_estimators=100; total time=   9.3s\n",
      "[CV] END ..learning_rate=0.1, max_depth=20, n_estimators=100; total time=   9.3s\n",
      "[CV] END ..learning_rate=0.1, max_depth=20, n_estimators=100; total time=  12.1s\n",
      "[CV] END ..learning_rate=0.1, max_depth=20, n_estimators=100; total time=  15.0s\n",
      "[CV] END ..learning_rate=0.1, max_depth=20, n_estimators=150; total time=  15.4s\n",
      "[CV] END ..learning_rate=0.1, max_depth=20, n_estimators=150; total time=  14.3s\n",
      "[CV] END ..learning_rate=0.1, max_depth=20, n_estimators=150; total time=  14.6s\n",
      "[CV] END ..learning_rate=0.1, max_depth=20, n_estimators=150; total time=  18.6s\n",
      "[CV] END ..learning_rate=0.1, max_depth=20, n_estimators=150; total time=  20.5s\n",
      "[CV] END .learning_rate=0.15, max_depth=10, n_estimators=100; total time=   3.0s\n",
      "[CV] END .learning_rate=0.15, max_depth=10, n_estimators=100; total time=   1.5s\n",
      "[CV] END .learning_rate=0.15, max_depth=10, n_estimators=100; total time=   1.7s\n",
      "[CV] END .learning_rate=0.15, max_depth=10, n_estimators=100; total time=   1.6s\n",
      "[CV] END .learning_rate=0.15, max_depth=10, n_estimators=100; total time=   1.6s\n",
      "[CV] END .learning_rate=0.15, max_depth=10, n_estimators=150; total time=   3.6s\n",
      "[CV] END .learning_rate=0.15, max_depth=10, n_estimators=150; total time=   2.3s\n",
      "[CV] END .learning_rate=0.15, max_depth=10, n_estimators=150; total time=   2.7s\n",
      "[CV] END .learning_rate=0.15, max_depth=10, n_estimators=150; total time=   2.2s\n",
      "[CV] END .learning_rate=0.15, max_depth=10, n_estimators=150; total time=   2.2s\n",
      "[CV] END .learning_rate=0.15, max_depth=20, n_estimators=100; total time=  10.9s\n",
      "[CV] END .learning_rate=0.15, max_depth=20, n_estimators=100; total time=  12.7s\n",
      "[CV] END .learning_rate=0.15, max_depth=20, n_estimators=100; total time=  12.2s\n",
      "[CV] END .learning_rate=0.15, max_depth=20, n_estimators=100; total time=  10.8s\n",
      "[CV] END .learning_rate=0.15, max_depth=20, n_estimators=100; total time=  12.5s\n",
      "[CV] END .learning_rate=0.15, max_depth=20, n_estimators=150; total time=  12.7s\n",
      "[CV] END .learning_rate=0.15, max_depth=20, n_estimators=150; total time=  12.7s\n",
      "[CV] END .learning_rate=0.15, max_depth=20, n_estimators=150; total time=  13.6s\n",
      "[CV] END .learning_rate=0.15, max_depth=20, n_estimators=150; total time=  16.7s\n",
      "[CV] END .learning_rate=0.15, max_depth=20, n_estimators=150; total time=  22.0s\n"
     ]
    },
    {
     "data": {
      "text/plain": [
       "GridSearchCV(cv=5,\n",
       "             estimator=XGBRegressor(base_score=None, booster=None,\n",
       "                                    callbacks=None, colsample_bylevel=None,\n",
       "                                    colsample_bynode=None,\n",
       "                                    colsample_bytree=None,\n",
       "                                    early_stopping_rounds=None,\n",
       "                                    enable_categorical=False, eval_metric=None,\n",
       "                                    gamma=None, gpu_id=None, grow_policy=None,\n",
       "                                    importance_type=None,\n",
       "                                    interaction_constraints=None,\n",
       "                                    learning_rate=None, max_bin=None,\n",
       "                                    max_cat...\n",
       "                                    max_depth=None, max_leaves=None,\n",
       "                                    min_child_weight=None, missing=nan,\n",
       "                                    monotone_constraints=None, n_estimators=100,\n",
       "                                    n_jobs=None, num_parallel_tree=None,\n",
       "                                    predictor=None, random_state=None,\n",
       "                                    reg_alpha=None, reg_lambda=None, ...),\n",
       "             param_grid={'learning_rate': [0.08, 0.1, 0.15],\n",
       "                         'max_depth': [10, 20], 'n_estimators': [100, 150]},\n",
       "             scoring='neg_root_mean_squared_error', verbose=2)"
      ]
     },
     "execution_count": 1881,
     "metadata": {},
     "output_type": "execute_result"
    }
   ],
   "source": [
    "# model\n",
    "model = xgb.XGBRegressor()\n",
    "parameters = {'n_estimators': [100, 150], 'max_depth': [10,20], 'learning_rate': [0.08, 0.1, 0.15]}\n",
    "gridsearch_model = GridSearchCV(estimator = model, param_grid = parameters, scoring = 'neg_root_mean_squared_error', cv = 5, verbose = 2)\n",
    "gridsearch_model.fit(X, y)"
   ]
  },
  {
   "cell_type": "code",
   "execution_count": 1884,
   "metadata": {},
   "outputs": [
    {
     "name": "stdout",
     "output_type": "stream",
     "text": [
      "Mejor modelo:  {'learning_rate': 0.08, 'max_depth': 10, 'n_estimators': 150}\n"
     ]
    }
   ],
   "source": [
    "print('Mejor modelo: ', gridsearch_model.best_params_)"
   ]
  },
  {
   "cell_type": "code",
   "execution_count": 1885,
   "metadata": {},
   "outputs": [
    {
     "data": {
      "text/plain": [
       "75.23611100249416"
      ]
     },
     "execution_count": 1885,
     "metadata": {},
     "output_type": "execute_result"
    }
   ],
   "source": [
    "grid.best_score_*(-1)"
   ]
  },
  {
   "cell_type": "code",
   "execution_count": null,
   "metadata": {},
   "outputs": [],
   "source": [
    "xg_1 = xgb.XGBRegressor(n_estimators = , max_depth = , learning_rate =)\n",
    "xg_1.fit(X, y)"
   ]
  },
  {
   "cell_type": "code",
   "execution_count": null,
   "metadata": {},
   "outputs": [],
   "source": []
  },
  {
   "cell_type": "code",
   "execution_count": null,
   "metadata": {},
   "outputs": [],
   "source": []
  },
  {
   "cell_type": "markdown",
   "metadata": {},
   "source": [
    "### Red neuronal\n",
    "<div id='id6.3'/>"
   ]
  },
  {
   "cell_type": "code",
   "execution_count": 1174,
   "metadata": {},
   "outputs": [],
   "source": [
    "import tensorflow as tf\n",
    "from tensorflow.keras import layers\n",
    "from tensorflow.keras.initializers import RandomUniform\n",
    "import os\n",
    "from tensorflow.keras.models import Model, load_model"
   ]
  },
  {
   "cell_type": "code",
   "execution_count": 1175,
   "metadata": {},
   "outputs": [],
   "source": [
    "# Creamos una función para implementar una devolución de llamada de ModelCheckpoint con un nombre de archivo específico\n",
    "def create_model_checkpoint(model_name, save_path=\"model_experiments_2\"):\n",
    "    return tf.keras.callbacks.ModelCheckpoint(filepath=os.path.join(save_path, model_name), # create filepath to save model\n",
    "                                            verbose=0, \n",
    "                                            save_best_only=True) "
   ]
  },
  {
   "cell_type": "code",
   "execution_count": 1800,
   "metadata": {},
   "outputs": [],
   "source": [
    "def model_MLANN(train, train_label, test, test_label, name):\n",
    "    \n",
    "    model = tf.keras.Sequential([\n",
    "        layers.Dense(12, activation = 'tanh', input_shape = (9,)),\n",
    "        layers.Dense(1),\n",
    "    ], name = name)\n",
    "    \n",
    "    model.compile(loss = 'mse',\n",
    "                  optimizer = tf.keras.optimizers.Adam(learning_rate=0.08),\n",
    "                  metrics = [tf.keras.metrics.RootMeanSquaredError()])\n",
    "    \n",
    "    history = model.fit(train, train_label, epochs = 150,callbacks = [create_model_checkpoint(model_name=model.name)], validation_data =(test,test_label), verbose = 2)\n",
    "    \n",
    "    return model, history"
   ]
  },
  {
   "cell_type": "code",
   "execution_count": 1801,
   "metadata": {},
   "outputs": [
    {
     "name": "stdout",
     "output_type": "stream",
     "text": [
      "Epoch 1/150\n",
      "276/276 - 1s - loss: 26681.9141 - root_mean_squared_error: 163.3460 - val_loss: 17938.7930 - val_root_mean_squared_error: 133.9358\n",
      "INFO:tensorflow:Assets written to: model_experiments_2\\rn_model\\assets\n",
      "Epoch 2/150\n",
      "276/276 - 1s - loss: 16563.5215 - root_mean_squared_error: 128.6993 - val_loss: 17330.9668 - val_root_mean_squared_error: 131.6471\n",
      "INFO:tensorflow:Assets written to: model_experiments_2\\rn_model\\assets\n",
      "Epoch 3/150\n",
      "276/276 - 0s - loss: 16415.2852 - root_mean_squared_error: 128.1221 - val_loss: 16254.8340 - val_root_mean_squared_error: 127.4944\n",
      "INFO:tensorflow:Assets written to: model_experiments_2\\rn_model\\assets\n",
      "Epoch 4/150\n",
      "276/276 - 1s - loss: 15516.5703 - root_mean_squared_error: 124.5655 - val_loss: 15323.7725 - val_root_mean_squared_error: 123.7892\n",
      "INFO:tensorflow:Assets written to: model_experiments_2\\rn_model\\assets\n",
      "Epoch 5/150\n",
      "276/276 - 0s - loss: 14417.2812 - root_mean_squared_error: 120.0720 - val_loss: 13956.0557 - val_root_mean_squared_error: 118.1357\n",
      "INFO:tensorflow:Assets written to: model_experiments_2\\rn_model\\assets\n",
      "Epoch 6/150\n",
      "276/276 - 0s - loss: 13886.4248 - root_mean_squared_error: 117.8407 - val_loss: 13743.6670 - val_root_mean_squared_error: 117.2334\n",
      "INFO:tensorflow:Assets written to: model_experiments_2\\rn_model\\assets\n",
      "Epoch 7/150\n",
      "276/276 - 1s - loss: 13531.2783 - root_mean_squared_error: 116.3240 - val_loss: 12926.8779 - val_root_mean_squared_error: 113.6964\n",
      "INFO:tensorflow:Assets written to: model_experiments_2\\rn_model\\assets\n",
      "Epoch 8/150\n",
      "276/276 - 0s - loss: 12921.2773 - root_mean_squared_error: 113.6718 - val_loss: 13602.3389 - val_root_mean_squared_error: 116.6291\n",
      "Epoch 9/150\n",
      "276/276 - 1s - loss: 12600.0420 - root_mean_squared_error: 112.2499 - val_loss: 12659.6436 - val_root_mean_squared_error: 112.5151\n",
      "INFO:tensorflow:Assets written to: model_experiments_2\\rn_model\\assets\n",
      "Epoch 10/150\n",
      "276/276 - 0s - loss: 12602.7471 - root_mean_squared_error: 112.2620 - val_loss: 12150.8916 - val_root_mean_squared_error: 110.2311\n",
      "INFO:tensorflow:Assets written to: model_experiments_2\\rn_model\\assets\n",
      "Epoch 11/150\n",
      "276/276 - 1s - loss: 12437.0557 - root_mean_squared_error: 111.5215 - val_loss: 13221.8711 - val_root_mean_squared_error: 114.9864\n",
      "Epoch 12/150\n",
      "276/276 - 1s - loss: 12376.3623 - root_mean_squared_error: 111.2491 - val_loss: 12271.6709 - val_root_mean_squared_error: 110.7776\n",
      "Epoch 13/150\n",
      "276/276 - 0s - loss: 12651.9102 - root_mean_squared_error: 112.4807 - val_loss: 12590.1641 - val_root_mean_squared_error: 112.2059\n",
      "Epoch 14/150\n",
      "276/276 - 0s - loss: 12207.6064 - root_mean_squared_error: 110.4880 - val_loss: 12092.5498 - val_root_mean_squared_error: 109.9661\n",
      "INFO:tensorflow:Assets written to: model_experiments_2\\rn_model\\assets\n",
      "Epoch 15/150\n",
      "276/276 - 0s - loss: 12379.2051 - root_mean_squared_error: 111.2619 - val_loss: 12560.5342 - val_root_mean_squared_error: 112.0738\n",
      "Epoch 16/150\n",
      "276/276 - 0s - loss: 12302.8496 - root_mean_squared_error: 110.9182 - val_loss: 12656.3398 - val_root_mean_squared_error: 112.5004\n",
      "Epoch 17/150\n",
      "276/276 - 0s - loss: 12421.1426 - root_mean_squared_error: 111.4502 - val_loss: 12257.7773 - val_root_mean_squared_error: 110.7148\n",
      "Epoch 18/150\n",
      "276/276 - 1s - loss: 12230.2939 - root_mean_squared_error: 110.5907 - val_loss: 12285.7842 - val_root_mean_squared_error: 110.8413\n",
      "Epoch 19/150\n",
      "276/276 - 1s - loss: 12246.0254 - root_mean_squared_error: 110.6618 - val_loss: 12483.5312 - val_root_mean_squared_error: 111.7297\n",
      "Epoch 20/150\n",
      "276/276 - 0s - loss: 12272.7305 - root_mean_squared_error: 110.7824 - val_loss: 12026.4219 - val_root_mean_squared_error: 109.6650\n",
      "INFO:tensorflow:Assets written to: model_experiments_2\\rn_model\\assets\n",
      "Epoch 21/150\n",
      "276/276 - 0s - loss: 12219.2178 - root_mean_squared_error: 110.5406 - val_loss: 12084.1494 - val_root_mean_squared_error: 109.9279\n",
      "Epoch 22/150\n",
      "276/276 - 0s - loss: 12203.6260 - root_mean_squared_error: 110.4700 - val_loss: 12163.0645 - val_root_mean_squared_error: 110.2863\n",
      "Epoch 23/150\n",
      "276/276 - 0s - loss: 12267.6846 - root_mean_squared_error: 110.7596 - val_loss: 12483.8750 - val_root_mean_squared_error: 111.7313\n",
      "Epoch 24/150\n",
      "276/276 - 1s - loss: 12380.2793 - root_mean_squared_error: 111.2667 - val_loss: 12232.7988 - val_root_mean_squared_error: 110.6020\n",
      "Epoch 25/150\n",
      "276/276 - 1s - loss: 12238.0000 - root_mean_squared_error: 110.6255 - val_loss: 12186.0928 - val_root_mean_squared_error: 110.3906\n",
      "Epoch 26/150\n",
      "276/276 - 1s - loss: 12243.3145 - root_mean_squared_error: 110.6495 - val_loss: 12620.4111 - val_root_mean_squared_error: 112.3406\n",
      "Epoch 27/150\n",
      "276/276 - 0s - loss: 12139.4736 - root_mean_squared_error: 110.1793 - val_loss: 12586.9785 - val_root_mean_squared_error: 112.1917\n",
      "Epoch 28/150\n",
      "276/276 - 0s - loss: 12211.3311 - root_mean_squared_error: 110.5049 - val_loss: 12673.3545 - val_root_mean_squared_error: 112.5760\n",
      "Epoch 29/150\n",
      "276/276 - 1s - loss: 12590.6758 - root_mean_squared_error: 112.2082 - val_loss: 12525.9600 - val_root_mean_squared_error: 111.9194\n",
      "Epoch 30/150\n",
      "276/276 - 1s - loss: 12123.9512 - root_mean_squared_error: 110.1088 - val_loss: 12494.6973 - val_root_mean_squared_error: 111.7797\n",
      "Epoch 31/150\n",
      "276/276 - 1s - loss: 12247.0146 - root_mean_squared_error: 110.6662 - val_loss: 12385.1182 - val_root_mean_squared_error: 111.2884\n",
      "Epoch 32/150\n",
      "276/276 - 1s - loss: 12041.5205 - root_mean_squared_error: 109.7339 - val_loss: 12122.9463 - val_root_mean_squared_error: 110.1043\n",
      "Epoch 33/150\n",
      "276/276 - 1s - loss: 12149.1367 - root_mean_squared_error: 110.2231 - val_loss: 12508.6504 - val_root_mean_squared_error: 111.8421\n",
      "Epoch 34/150\n",
      "276/276 - 1s - loss: 12282.1738 - root_mean_squared_error: 110.8250 - val_loss: 12891.3047 - val_root_mean_squared_error: 113.5399\n",
      "Epoch 35/150\n",
      "276/276 - 1s - loss: 12116.9629 - root_mean_squared_error: 110.0771 - val_loss: 12185.0225 - val_root_mean_squared_error: 110.3858\n",
      "Epoch 36/150\n",
      "276/276 - 1s - loss: 12319.8818 - root_mean_squared_error: 110.9950 - val_loss: 12600.2207 - val_root_mean_squared_error: 112.2507\n",
      "Epoch 37/150\n",
      "276/276 - 1s - loss: 12247.8965 - root_mean_squared_error: 110.6702 - val_loss: 12044.9277 - val_root_mean_squared_error: 109.7494\n",
      "Epoch 38/150\n",
      "276/276 - 1s - loss: 12220.6416 - root_mean_squared_error: 110.5470 - val_loss: 12361.7871 - val_root_mean_squared_error: 111.1836\n",
      "Epoch 39/150\n",
      "276/276 - 1s - loss: 12293.8535 - root_mean_squared_error: 110.8776 - val_loss: 12775.3828 - val_root_mean_squared_error: 113.0282\n",
      "Epoch 40/150\n",
      "276/276 - 1s - loss: 12237.5312 - root_mean_squared_error: 110.6234 - val_loss: 12183.4258 - val_root_mean_squared_error: 110.3786\n",
      "Epoch 41/150\n",
      "276/276 - 1s - loss: 12361.6025 - root_mean_squared_error: 111.1827 - val_loss: 12358.6074 - val_root_mean_squared_error: 111.1693\n",
      "Epoch 42/150\n",
      "276/276 - 1s - loss: 12220.7100 - root_mean_squared_error: 110.5473 - val_loss: 12389.7383 - val_root_mean_squared_error: 111.3092\n",
      "Epoch 43/150\n",
      "276/276 - 0s - loss: 12228.7646 - root_mean_squared_error: 110.5837 - val_loss: 12176.5361 - val_root_mean_squared_error: 110.3473\n",
      "Epoch 44/150\n",
      "276/276 - 0s - loss: 12129.0205 - root_mean_squared_error: 110.1318 - val_loss: 12436.8174 - val_root_mean_squared_error: 111.5205\n",
      "Epoch 45/150\n",
      "276/276 - 0s - loss: 12113.2188 - root_mean_squared_error: 110.0601 - val_loss: 12225.5615 - val_root_mean_squared_error: 110.5693\n",
      "Epoch 46/150\n",
      "276/276 - 0s - loss: 12072.1895 - root_mean_squared_error: 109.8735 - val_loss: 12156.0732 - val_root_mean_squared_error: 110.2546\n",
      "Epoch 47/150\n",
      "276/276 - 0s - loss: 12123.1006 - root_mean_squared_error: 110.1049 - val_loss: 12244.8027 - val_root_mean_squared_error: 110.6562\n",
      "Epoch 48/150\n",
      "276/276 - 0s - loss: 12119.6699 - root_mean_squared_error: 110.0894 - val_loss: 12024.8857 - val_root_mean_squared_error: 109.6580\n",
      "INFO:tensorflow:Assets written to: model_experiments_2\\rn_model\\assets\n",
      "Epoch 49/150\n",
      "276/276 - 0s - loss: 12183.5293 - root_mean_squared_error: 110.3790 - val_loss: 12574.1982 - val_root_mean_squared_error: 112.1347\n",
      "Epoch 50/150\n",
      "276/276 - 0s - loss: 12182.1045 - root_mean_squared_error: 110.3726 - val_loss: 12083.0088 - val_root_mean_squared_error: 109.9227\n",
      "Epoch 51/150\n",
      "276/276 - 0s - loss: 12087.9600 - root_mean_squared_error: 109.9453 - val_loss: 12510.7363 - val_root_mean_squared_error: 111.8514\n",
      "Epoch 52/150\n",
      "276/276 - 0s - loss: 12154.1650 - root_mean_squared_error: 110.2459 - val_loss: 12240.2832 - val_root_mean_squared_error: 110.6358\n",
      "Epoch 53/150\n",
      "276/276 - 1s - loss: 12146.0312 - root_mean_squared_error: 110.2090 - val_loss: 12713.3496 - val_root_mean_squared_error: 112.7535\n",
      "Epoch 54/150\n",
      "276/276 - 1s - loss: 12278.4980 - root_mean_squared_error: 110.8084 - val_loss: 12103.3428 - val_root_mean_squared_error: 110.0152\n",
      "Epoch 55/150\n",
      "276/276 - 0s - loss: 12123.4727 - root_mean_squared_error: 110.1066 - val_loss: 12322.0996 - val_root_mean_squared_error: 111.0050\n",
      "Epoch 56/150\n",
      "276/276 - 1s - loss: 12126.4561 - root_mean_squared_error: 110.1202 - val_loss: 12257.4639 - val_root_mean_squared_error: 110.7134\n",
      "Epoch 57/150\n",
      "276/276 - 1s - loss: 12272.3965 - root_mean_squared_error: 110.7808 - val_loss: 12474.4658 - val_root_mean_squared_error: 111.6891\n",
      "Epoch 58/150\n",
      "276/276 - 1s - loss: 12089.9873 - root_mean_squared_error: 109.9545 - val_loss: 13122.4355 - val_root_mean_squared_error: 114.5532\n",
      "Epoch 59/150\n",
      "276/276 - 0s - loss: 12382.5293 - root_mean_squared_error: 111.2768 - val_loss: 12280.3662 - val_root_mean_squared_error: 110.8168\n",
      "Epoch 60/150\n",
      "276/276 - 0s - loss: 12140.3086 - root_mean_squared_error: 110.1831 - val_loss: 12151.1445 - val_root_mean_squared_error: 110.2322\n",
      "Epoch 61/150\n",
      "276/276 - 0s - loss: 12197.4854 - root_mean_squared_error: 110.4422 - val_loss: 12279.8623 - val_root_mean_squared_error: 110.8145\n",
      "Epoch 62/150\n",
      "276/276 - 0s - loss: 12222.0918 - root_mean_squared_error: 110.5536 - val_loss: 12126.5078 - val_root_mean_squared_error: 110.1204\n",
      "Epoch 63/150\n",
      "276/276 - 0s - loss: 12182.5527 - root_mean_squared_error: 110.3746 - val_loss: 12364.0273 - val_root_mean_squared_error: 111.1936\n",
      "Epoch 64/150\n",
      "276/276 - 1s - loss: 12181.1738 - root_mean_squared_error: 110.3684 - val_loss: 12230.3213 - val_root_mean_squared_error: 110.5908\n",
      "Epoch 65/150\n",
      "276/276 - 1s - loss: 12322.5234 - root_mean_squared_error: 111.0069 - val_loss: 12121.2920 - val_root_mean_squared_error: 110.0967\n",
      "Epoch 66/150\n",
      "276/276 - 1s - loss: 12305.0303 - root_mean_squared_error: 110.9280 - val_loss: 12394.8262 - val_root_mean_squared_error: 111.3321\n",
      "Epoch 67/150\n",
      "276/276 - 1s - loss: 12222.4189 - root_mean_squared_error: 110.5550 - val_loss: 12494.3213 - val_root_mean_squared_error: 111.7780\n",
      "Epoch 68/150\n",
      "276/276 - 0s - loss: 12125.0518 - root_mean_squared_error: 110.1138 - val_loss: 12528.1895 - val_root_mean_squared_error: 111.9294\n",
      "Epoch 69/150\n",
      "276/276 - 0s - loss: 12254.9414 - root_mean_squared_error: 110.7020 - val_loss: 12376.4922 - val_root_mean_squared_error: 111.2497\n",
      "Epoch 70/150\n",
      "276/276 - 0s - loss: 12252.8486 - root_mean_squared_error: 110.6926 - val_loss: 12365.1260 - val_root_mean_squared_error: 111.1986\n",
      "Epoch 71/150\n",
      "276/276 - 0s - loss: 12252.0742 - root_mean_squared_error: 110.6891 - val_loss: 12617.6211 - val_root_mean_squared_error: 112.3282\n",
      "Epoch 72/150\n",
      "276/276 - 0s - loss: 12201.4082 - root_mean_squared_error: 110.4600 - val_loss: 12134.2783 - val_root_mean_squared_error: 110.1557\n",
      "Epoch 73/150\n",
      "276/276 - 0s - loss: 12171.6211 - root_mean_squared_error: 110.3251 - val_loss: 12194.1543 - val_root_mean_squared_error: 110.4271\n",
      "Epoch 74/150\n",
      "276/276 - 0s - loss: 12173.2891 - root_mean_squared_error: 110.3326 - val_loss: 12100.8721 - val_root_mean_squared_error: 110.0040\n",
      "Epoch 75/150\n",
      "276/276 - 0s - loss: 12235.5234 - root_mean_squared_error: 110.6143 - val_loss: 12236.8428 - val_root_mean_squared_error: 110.6203\n",
      "Epoch 76/150\n",
      "276/276 - 0s - loss: 12134.3926 - root_mean_squared_error: 110.1562 - val_loss: 12202.7080 - val_root_mean_squared_error: 110.4659\n",
      "Epoch 77/150\n",
      "276/276 - 0s - loss: 12438.1787 - root_mean_squared_error: 111.5266 - val_loss: 12458.6250 - val_root_mean_squared_error: 111.6182\n",
      "Epoch 78/150\n",
      "276/276 - 0s - loss: 12117.0947 - root_mean_squared_error: 110.0777 - val_loss: 12419.3945 - val_root_mean_squared_error: 111.4423\n",
      "Epoch 79/150\n",
      "276/276 - 1s - loss: 12078.9736 - root_mean_squared_error: 109.9044 - val_loss: 12398.9463 - val_root_mean_squared_error: 111.3506\n",
      "Epoch 80/150\n",
      "276/276 - 1s - loss: 12243.0010 - root_mean_squared_error: 110.6481 - val_loss: 12909.7793 - val_root_mean_squared_error: 113.6212\n",
      "Epoch 81/150\n",
      "276/276 - 0s - loss: 12306.1377 - root_mean_squared_error: 110.9330 - val_loss: 13115.1025 - val_root_mean_squared_error: 114.5212\n",
      "Epoch 82/150\n",
      "276/276 - 0s - loss: 12136.3877 - root_mean_squared_error: 110.1653 - val_loss: 12705.4062 - val_root_mean_squared_error: 112.7183\n",
      "Epoch 83/150\n",
      "276/276 - 0s - loss: 12180.1201 - root_mean_squared_error: 110.3636 - val_loss: 12279.0264 - val_root_mean_squared_error: 110.8108\n",
      "Epoch 84/150\n",
      "276/276 - 0s - loss: 12307.0215 - root_mean_squared_error: 110.9370 - val_loss: 13200.8184 - val_root_mean_squared_error: 114.8948\n",
      "Epoch 85/150\n",
      "276/276 - 1s - loss: 12302.5498 - root_mean_squared_error: 110.9169 - val_loss: 12317.6162 - val_root_mean_squared_error: 110.9848\n",
      "Epoch 86/150\n",
      "276/276 - 0s - loss: 12099.6875 - root_mean_squared_error: 109.9986 - val_loss: 12629.9463 - val_root_mean_squared_error: 112.3830\n",
      "Epoch 87/150\n",
      "276/276 - 0s - loss: 12124.0098 - root_mean_squared_error: 110.1091 - val_loss: 12205.2471 - val_root_mean_squared_error: 110.4774\n",
      "Epoch 88/150\n",
      "276/276 - 0s - loss: 12244.8574 - root_mean_squared_error: 110.6565 - val_loss: 12931.5869 - val_root_mean_squared_error: 113.7171\n",
      "Epoch 89/150\n",
      "276/276 - 0s - loss: 12158.0869 - root_mean_squared_error: 110.2637 - val_loss: 12140.0771 - val_root_mean_squared_error: 110.1820\n",
      "Epoch 90/150\n",
      "276/276 - 0s - loss: 12283.8076 - root_mean_squared_error: 110.8323 - val_loss: 12767.5244 - val_root_mean_squared_error: 112.9935\n",
      "Epoch 91/150\n",
      "276/276 - 0s - loss: 12158.7363 - root_mean_squared_error: 110.2667 - val_loss: 12061.2988 - val_root_mean_squared_error: 109.8239\n",
      "Epoch 92/150\n",
      "276/276 - 1s - loss: 12154.9658 - root_mean_squared_error: 110.2496 - val_loss: 12210.3311 - val_root_mean_squared_error: 110.5004\n",
      "Epoch 93/150\n",
      "276/276 - 0s - loss: 12180.5010 - root_mean_squared_error: 110.3653 - val_loss: 12264.1865 - val_root_mean_squared_error: 110.7438\n",
      "Epoch 94/150\n",
      "276/276 - 0s - loss: 12203.0117 - root_mean_squared_error: 110.4672 - val_loss: 12396.5361 - val_root_mean_squared_error: 111.3397\n",
      "Epoch 95/150\n",
      "276/276 - 0s - loss: 12377.2334 - root_mean_squared_error: 111.2530 - val_loss: 12844.4189 - val_root_mean_squared_error: 113.3332\n",
      "Epoch 96/150\n",
      "276/276 - 0s - loss: 12222.7275 - root_mean_squared_error: 110.5564 - val_loss: 12144.0625 - val_root_mean_squared_error: 110.2001\n",
      "Epoch 97/150\n",
      "276/276 - 0s - loss: 12190.0361 - root_mean_squared_error: 110.4085 - val_loss: 12626.8809 - val_root_mean_squared_error: 112.3694\n",
      "Epoch 98/150\n",
      "276/276 - 0s - loss: 12290.7490 - root_mean_squared_error: 110.8636 - val_loss: 12297.9609 - val_root_mean_squared_error: 110.8962\n",
      "Epoch 99/150\n",
      "276/276 - 0s - loss: 12167.1953 - root_mean_squared_error: 110.3050 - val_loss: 12427.6055 - val_root_mean_squared_error: 111.4792\n",
      "Epoch 100/150\n",
      "276/276 - 0s - loss: 12060.9521 - root_mean_squared_error: 109.8224 - val_loss: 12417.7900 - val_root_mean_squared_error: 111.4351\n",
      "Epoch 101/150\n",
      "276/276 - 0s - loss: 12253.8818 - root_mean_squared_error: 110.6973 - val_loss: 12142.9580 - val_root_mean_squared_error: 110.1951\n",
      "Epoch 102/150\n",
      "276/276 - 0s - loss: 12135.3203 - root_mean_squared_error: 110.1604 - val_loss: 12487.3271 - val_root_mean_squared_error: 111.7467\n",
      "Epoch 103/150\n",
      "276/276 - 0s - loss: 12054.5615 - root_mean_squared_error: 109.7933 - val_loss: 12910.5410 - val_root_mean_squared_error: 113.6246\n",
      "Epoch 104/150\n",
      "276/276 - 1s - loss: 12410.9893 - root_mean_squared_error: 111.4046 - val_loss: 12237.0293 - val_root_mean_squared_error: 110.6211\n",
      "Epoch 105/150\n",
      "276/276 - 1s - loss: 12165.5967 - root_mean_squared_error: 110.2978 - val_loss: 12309.8740 - val_root_mean_squared_error: 110.9499\n",
      "Epoch 106/150\n",
      "276/276 - 1s - loss: 12061.9258 - root_mean_squared_error: 109.8268 - val_loss: 12381.1572 - val_root_mean_squared_error: 111.2706\n",
      "Epoch 107/150\n",
      "276/276 - 0s - loss: 12097.8936 - root_mean_squared_error: 109.9904 - val_loss: 12570.5391 - val_root_mean_squared_error: 112.1184\n",
      "Epoch 108/150\n",
      "276/276 - 0s - loss: 12204.2432 - root_mean_squared_error: 110.4728 - val_loss: 12566.4268 - val_root_mean_squared_error: 112.1001\n",
      "Epoch 109/150\n",
      "276/276 - 0s - loss: 12164.8828 - root_mean_squared_error: 110.2945 - val_loss: 12422.2402 - val_root_mean_squared_error: 111.4551\n",
      "Epoch 110/150\n",
      "276/276 - 0s - loss: 12202.5811 - root_mean_squared_error: 110.4653 - val_loss: 12321.5781 - val_root_mean_squared_error: 111.0026\n",
      "Epoch 111/150\n",
      "276/276 - 0s - loss: 12219.6172 - root_mean_squared_error: 110.5424 - val_loss: 12410.5479 - val_root_mean_squared_error: 111.4026\n",
      "Epoch 112/150\n",
      "276/276 - 1s - loss: 12130.1260 - root_mean_squared_error: 110.1368 - val_loss: 12289.9287 - val_root_mean_squared_error: 110.8599\n",
      "Epoch 113/150\n",
      "276/276 - 0s - loss: 12324.2373 - root_mean_squared_error: 111.0146 - val_loss: 12496.3057 - val_root_mean_squared_error: 111.7869\n",
      "Epoch 114/150\n",
      "276/276 - 1s - loss: 12234.8223 - root_mean_squared_error: 110.6111 - val_loss: 12392.0635 - val_root_mean_squared_error: 111.3196\n",
      "Epoch 115/150\n",
      "276/276 - 1s - loss: 12180.6455 - root_mean_squared_error: 110.3660 - val_loss: 12177.1348 - val_root_mean_squared_error: 110.3501\n",
      "Epoch 116/150\n",
      "276/276 - 0s - loss: 12231.9805 - root_mean_squared_error: 110.5983 - val_loss: 12103.7412 - val_root_mean_squared_error: 110.0170\n",
      "Epoch 117/150\n",
      "276/276 - 0s - loss: 12208.0449 - root_mean_squared_error: 110.4900 - val_loss: 12746.2471 - val_root_mean_squared_error: 112.8993\n",
      "Epoch 118/150\n",
      "276/276 - 0s - loss: 12174.5010 - root_mean_squared_error: 110.3381 - val_loss: 12145.2256 - val_root_mean_squared_error: 110.2054\n",
      "Epoch 119/150\n",
      "276/276 - 0s - loss: 12158.1289 - root_mean_squared_error: 110.2639 - val_loss: 12498.9756 - val_root_mean_squared_error: 111.7988\n",
      "Epoch 120/150\n",
      "276/276 - 0s - loss: 12177.9609 - root_mean_squared_error: 110.3538 - val_loss: 12475.3906 - val_root_mean_squared_error: 111.6933\n",
      "Epoch 121/150\n",
      "276/276 - 0s - loss: 12289.3877 - root_mean_squared_error: 110.8575 - val_loss: 12413.4268 - val_root_mean_squared_error: 111.4156\n",
      "Epoch 122/150\n",
      "276/276 - 0s - loss: 12052.9141 - root_mean_squared_error: 109.7858 - val_loss: 12368.4951 - val_root_mean_squared_error: 111.2137\n",
      "Epoch 123/150\n",
      "276/276 - 0s - loss: 12095.6748 - root_mean_squared_error: 109.9803 - val_loss: 12404.2627 - val_root_mean_squared_error: 111.3744\n",
      "Epoch 124/150\n",
      "276/276 - 0s - loss: 12345.2734 - root_mean_squared_error: 111.1093 - val_loss: 12317.1094 - val_root_mean_squared_error: 110.9825\n",
      "Epoch 125/150\n",
      "276/276 - 1s - loss: 12153.4004 - root_mean_squared_error: 110.2425 - val_loss: 12240.9688 - val_root_mean_squared_error: 110.6389\n",
      "Epoch 126/150\n",
      "276/276 - 1s - loss: 12350.1406 - root_mean_squared_error: 111.1312 - val_loss: 12487.5605 - val_root_mean_squared_error: 111.7478\n",
      "Epoch 127/150\n",
      "276/276 - 0s - loss: 12218.6299 - root_mean_squared_error: 110.5379 - val_loss: 12088.0703 - val_root_mean_squared_error: 109.9458\n",
      "Epoch 128/150\n",
      "276/276 - 0s - loss: 12159.6504 - root_mean_squared_error: 110.2708 - val_loss: 12145.0557 - val_root_mean_squared_error: 110.2046\n",
      "Epoch 129/150\n",
      "276/276 - 0s - loss: 12434.4639 - root_mean_squared_error: 111.5099 - val_loss: 12629.2598 - val_root_mean_squared_error: 112.3800\n",
      "Epoch 130/150\n",
      "276/276 - 0s - loss: 12269.7744 - root_mean_squared_error: 110.7690 - val_loss: 12286.2725 - val_root_mean_squared_error: 110.8435\n",
      "Epoch 131/150\n",
      "276/276 - 0s - loss: 12141.1885 - root_mean_squared_error: 110.1871 - val_loss: 12435.1240 - val_root_mean_squared_error: 111.5129\n",
      "Epoch 132/150\n"
     ]
    },
    {
     "ename": "KeyboardInterrupt",
     "evalue": "",
     "output_type": "error",
     "traceback": [
      "\u001b[1;31m---------------------------------------------------------------------------\u001b[0m",
      "\u001b[1;31mKeyboardInterrupt\u001b[0m                         Traceback (most recent call last)",
      "\u001b[1;32m<ipython-input-1801-10ddace09e4d>\u001b[0m in \u001b[0;36m<module>\u001b[1;34m\u001b[0m\n\u001b[1;32m----> 1\u001b[1;33m \u001b[0mrn_model\u001b[0m\u001b[1;33m,\u001b[0m \u001b[0mhistory\u001b[0m \u001b[1;33m=\u001b[0m \u001b[0mmodel_MLANN\u001b[0m\u001b[1;33m(\u001b[0m\u001b[0mtrain_X\u001b[0m\u001b[1;33m,\u001b[0m \u001b[0mtrain_y\u001b[0m\u001b[1;33m,\u001b[0m \u001b[0mval_X\u001b[0m\u001b[1;33m,\u001b[0m \u001b[0mval_y\u001b[0m\u001b[1;33m,\u001b[0m \u001b[1;34m'rn_model'\u001b[0m\u001b[1;33m)\u001b[0m\u001b[1;33m\u001b[0m\u001b[1;33m\u001b[0m\u001b[0m\n\u001b[0m",
      "\u001b[1;32m<ipython-input-1800-45ecee544467>\u001b[0m in \u001b[0;36mmodel_MLANN\u001b[1;34m(train, train_label, test, test_label, name)\u001b[0m\n\u001b[0;32m     10\u001b[0m                   metrics = [tf.keras.metrics.RootMeanSquaredError()])\n\u001b[0;32m     11\u001b[0m \u001b[1;33m\u001b[0m\u001b[0m\n\u001b[1;32m---> 12\u001b[1;33m     \u001b[0mhistory\u001b[0m \u001b[1;33m=\u001b[0m \u001b[0mmodel\u001b[0m\u001b[1;33m.\u001b[0m\u001b[0mfit\u001b[0m\u001b[1;33m(\u001b[0m\u001b[0mtrain\u001b[0m\u001b[1;33m,\u001b[0m \u001b[0mtrain_label\u001b[0m\u001b[1;33m,\u001b[0m \u001b[0mepochs\u001b[0m \u001b[1;33m=\u001b[0m \u001b[1;36m150\u001b[0m\u001b[1;33m,\u001b[0m\u001b[0mcallbacks\u001b[0m \u001b[1;33m=\u001b[0m \u001b[1;33m[\u001b[0m\u001b[0mcreate_model_checkpoint\u001b[0m\u001b[1;33m(\u001b[0m\u001b[0mmodel_name\u001b[0m\u001b[1;33m=\u001b[0m\u001b[0mmodel\u001b[0m\u001b[1;33m.\u001b[0m\u001b[0mname\u001b[0m\u001b[1;33m)\u001b[0m\u001b[1;33m]\u001b[0m\u001b[1;33m,\u001b[0m \u001b[0mvalidation_data\u001b[0m \u001b[1;33m=\u001b[0m\u001b[1;33m(\u001b[0m\u001b[0mtest\u001b[0m\u001b[1;33m,\u001b[0m\u001b[0mtest_label\u001b[0m\u001b[1;33m)\u001b[0m\u001b[1;33m,\u001b[0m \u001b[0mverbose\u001b[0m \u001b[1;33m=\u001b[0m \u001b[1;36m2\u001b[0m\u001b[1;33m)\u001b[0m\u001b[1;33m\u001b[0m\u001b[1;33m\u001b[0m\u001b[0m\n\u001b[0m\u001b[0;32m     13\u001b[0m \u001b[1;33m\u001b[0m\u001b[0m\n\u001b[0;32m     14\u001b[0m     \u001b[1;32mreturn\u001b[0m \u001b[0mmodel\u001b[0m\u001b[1;33m,\u001b[0m \u001b[0mhistory\u001b[0m\u001b[1;33m\u001b[0m\u001b[1;33m\u001b[0m\u001b[0m\n",
      "\u001b[1;32m~\\Anaconda3\\envs\\tensorflow\\lib\\site-packages\\tensorflow\\python\\keras\\engine\\training.py\u001b[0m in \u001b[0;36mfit\u001b[1;34m(self, x, y, batch_size, epochs, verbose, callbacks, validation_split, validation_data, shuffle, class_weight, sample_weight, initial_epoch, steps_per_epoch, validation_steps, validation_batch_size, validation_freq, max_queue_size, workers, use_multiprocessing)\u001b[0m\n\u001b[0;32m   1098\u001b[0m                 _r=1):\n\u001b[0;32m   1099\u001b[0m               \u001b[0mcallbacks\u001b[0m\u001b[1;33m.\u001b[0m\u001b[0mon_train_batch_begin\u001b[0m\u001b[1;33m(\u001b[0m\u001b[0mstep\u001b[0m\u001b[1;33m)\u001b[0m\u001b[1;33m\u001b[0m\u001b[1;33m\u001b[0m\u001b[0m\n\u001b[1;32m-> 1100\u001b[1;33m               \u001b[0mtmp_logs\u001b[0m \u001b[1;33m=\u001b[0m \u001b[0mself\u001b[0m\u001b[1;33m.\u001b[0m\u001b[0mtrain_function\u001b[0m\u001b[1;33m(\u001b[0m\u001b[0miterator\u001b[0m\u001b[1;33m)\u001b[0m\u001b[1;33m\u001b[0m\u001b[1;33m\u001b[0m\u001b[0m\n\u001b[0m\u001b[0;32m   1101\u001b[0m               \u001b[1;32mif\u001b[0m \u001b[0mdata_handler\u001b[0m\u001b[1;33m.\u001b[0m\u001b[0mshould_sync\u001b[0m\u001b[1;33m:\u001b[0m\u001b[1;33m\u001b[0m\u001b[1;33m\u001b[0m\u001b[0m\n\u001b[0;32m   1102\u001b[0m                 \u001b[0mcontext\u001b[0m\u001b[1;33m.\u001b[0m\u001b[0masync_wait\u001b[0m\u001b[1;33m(\u001b[0m\u001b[1;33m)\u001b[0m\u001b[1;33m\u001b[0m\u001b[1;33m\u001b[0m\u001b[0m\n",
      "\u001b[1;32m~\\Anaconda3\\envs\\tensorflow\\lib\\site-packages\\tensorflow\\python\\eager\\def_function.py\u001b[0m in \u001b[0;36m__call__\u001b[1;34m(self, *args, **kwds)\u001b[0m\n\u001b[0;32m    826\u001b[0m     \u001b[0mtracing_count\u001b[0m \u001b[1;33m=\u001b[0m \u001b[0mself\u001b[0m\u001b[1;33m.\u001b[0m\u001b[0mexperimental_get_tracing_count\u001b[0m\u001b[1;33m(\u001b[0m\u001b[1;33m)\u001b[0m\u001b[1;33m\u001b[0m\u001b[1;33m\u001b[0m\u001b[0m\n\u001b[0;32m    827\u001b[0m     \u001b[1;32mwith\u001b[0m \u001b[0mtrace\u001b[0m\u001b[1;33m.\u001b[0m\u001b[0mTrace\u001b[0m\u001b[1;33m(\u001b[0m\u001b[0mself\u001b[0m\u001b[1;33m.\u001b[0m\u001b[0m_name\u001b[0m\u001b[1;33m)\u001b[0m \u001b[1;32mas\u001b[0m \u001b[0mtm\u001b[0m\u001b[1;33m:\u001b[0m\u001b[1;33m\u001b[0m\u001b[1;33m\u001b[0m\u001b[0m\n\u001b[1;32m--> 828\u001b[1;33m       \u001b[0mresult\u001b[0m \u001b[1;33m=\u001b[0m \u001b[0mself\u001b[0m\u001b[1;33m.\u001b[0m\u001b[0m_call\u001b[0m\u001b[1;33m(\u001b[0m\u001b[1;33m*\u001b[0m\u001b[0margs\u001b[0m\u001b[1;33m,\u001b[0m \u001b[1;33m**\u001b[0m\u001b[0mkwds\u001b[0m\u001b[1;33m)\u001b[0m\u001b[1;33m\u001b[0m\u001b[1;33m\u001b[0m\u001b[0m\n\u001b[0m\u001b[0;32m    829\u001b[0m       \u001b[0mcompiler\u001b[0m \u001b[1;33m=\u001b[0m \u001b[1;34m\"xla\"\u001b[0m \u001b[1;32mif\u001b[0m \u001b[0mself\u001b[0m\u001b[1;33m.\u001b[0m\u001b[0m_experimental_compile\u001b[0m \u001b[1;32melse\u001b[0m \u001b[1;34m\"nonXla\"\u001b[0m\u001b[1;33m\u001b[0m\u001b[1;33m\u001b[0m\u001b[0m\n\u001b[0;32m    830\u001b[0m       \u001b[0mnew_tracing_count\u001b[0m \u001b[1;33m=\u001b[0m \u001b[0mself\u001b[0m\u001b[1;33m.\u001b[0m\u001b[0mexperimental_get_tracing_count\u001b[0m\u001b[1;33m(\u001b[0m\u001b[1;33m)\u001b[0m\u001b[1;33m\u001b[0m\u001b[1;33m\u001b[0m\u001b[0m\n",
      "\u001b[1;32m~\\Anaconda3\\envs\\tensorflow\\lib\\site-packages\\tensorflow\\python\\eager\\def_function.py\u001b[0m in \u001b[0;36m_call\u001b[1;34m(self, *args, **kwds)\u001b[0m\n\u001b[0;32m    853\u001b[0m       \u001b[1;31m# In this case we have created variables on the first call, so we run the\u001b[0m\u001b[1;33m\u001b[0m\u001b[1;33m\u001b[0m\u001b[1;33m\u001b[0m\u001b[0m\n\u001b[0;32m    854\u001b[0m       \u001b[1;31m# defunned version which is guaranteed to never create variables.\u001b[0m\u001b[1;33m\u001b[0m\u001b[1;33m\u001b[0m\u001b[1;33m\u001b[0m\u001b[0m\n\u001b[1;32m--> 855\u001b[1;33m       \u001b[1;32mreturn\u001b[0m \u001b[0mself\u001b[0m\u001b[1;33m.\u001b[0m\u001b[0m_stateless_fn\u001b[0m\u001b[1;33m(\u001b[0m\u001b[1;33m*\u001b[0m\u001b[0margs\u001b[0m\u001b[1;33m,\u001b[0m \u001b[1;33m**\u001b[0m\u001b[0mkwds\u001b[0m\u001b[1;33m)\u001b[0m  \u001b[1;31m# pylint: disable=not-callable\u001b[0m\u001b[1;33m\u001b[0m\u001b[1;33m\u001b[0m\u001b[0m\n\u001b[0m\u001b[0;32m    856\u001b[0m     \u001b[1;32melif\u001b[0m \u001b[0mself\u001b[0m\u001b[1;33m.\u001b[0m\u001b[0m_stateful_fn\u001b[0m \u001b[1;32mis\u001b[0m \u001b[1;32mnot\u001b[0m \u001b[1;32mNone\u001b[0m\u001b[1;33m:\u001b[0m\u001b[1;33m\u001b[0m\u001b[1;33m\u001b[0m\u001b[0m\n\u001b[0;32m    857\u001b[0m       \u001b[1;31m# Release the lock early so that multiple threads can perform the call\u001b[0m\u001b[1;33m\u001b[0m\u001b[1;33m\u001b[0m\u001b[1;33m\u001b[0m\u001b[0m\n",
      "\u001b[1;32m~\\Anaconda3\\envs\\tensorflow\\lib\\site-packages\\tensorflow\\python\\eager\\function.py\u001b[0m in \u001b[0;36m__call__\u001b[1;34m(self, *args, **kwargs)\u001b[0m\n\u001b[0;32m   2940\u001b[0m       (graph_function,\n\u001b[0;32m   2941\u001b[0m        filtered_flat_args) = self._maybe_define_function(args, kwargs)\n\u001b[1;32m-> 2942\u001b[1;33m     return graph_function._call_flat(\n\u001b[0m\u001b[0;32m   2943\u001b[0m         filtered_flat_args, captured_inputs=graph_function.captured_inputs)  # pylint: disable=protected-access\n\u001b[0;32m   2944\u001b[0m \u001b[1;33m\u001b[0m\u001b[0m\n",
      "\u001b[1;32m~\\Anaconda3\\envs\\tensorflow\\lib\\site-packages\\tensorflow\\python\\eager\\function.py\u001b[0m in \u001b[0;36m_call_flat\u001b[1;34m(self, args, captured_inputs, cancellation_manager)\u001b[0m\n\u001b[0;32m   1916\u001b[0m         and executing_eagerly):\n\u001b[0;32m   1917\u001b[0m       \u001b[1;31m# No tape is watching; skip to running the function.\u001b[0m\u001b[1;33m\u001b[0m\u001b[1;33m\u001b[0m\u001b[1;33m\u001b[0m\u001b[0m\n\u001b[1;32m-> 1918\u001b[1;33m       return self._build_call_outputs(self._inference_function.call(\n\u001b[0m\u001b[0;32m   1919\u001b[0m           ctx, args, cancellation_manager=cancellation_manager))\n\u001b[0;32m   1920\u001b[0m     forward_backward = self._select_forward_and_backward_functions(\n",
      "\u001b[1;32m~\\Anaconda3\\envs\\tensorflow\\lib\\site-packages\\tensorflow\\python\\eager\\function.py\u001b[0m in \u001b[0;36mcall\u001b[1;34m(self, ctx, args, cancellation_manager)\u001b[0m\n\u001b[0;32m    553\u001b[0m       \u001b[1;32mwith\u001b[0m \u001b[0m_InterpolateFunctionError\u001b[0m\u001b[1;33m(\u001b[0m\u001b[0mself\u001b[0m\u001b[1;33m)\u001b[0m\u001b[1;33m:\u001b[0m\u001b[1;33m\u001b[0m\u001b[1;33m\u001b[0m\u001b[0m\n\u001b[0;32m    554\u001b[0m         \u001b[1;32mif\u001b[0m \u001b[0mcancellation_manager\u001b[0m \u001b[1;32mis\u001b[0m \u001b[1;32mNone\u001b[0m\u001b[1;33m:\u001b[0m\u001b[1;33m\u001b[0m\u001b[1;33m\u001b[0m\u001b[0m\n\u001b[1;32m--> 555\u001b[1;33m           outputs = execute.execute(\n\u001b[0m\u001b[0;32m    556\u001b[0m               \u001b[0mstr\u001b[0m\u001b[1;33m(\u001b[0m\u001b[0mself\u001b[0m\u001b[1;33m.\u001b[0m\u001b[0msignature\u001b[0m\u001b[1;33m.\u001b[0m\u001b[0mname\u001b[0m\u001b[1;33m)\u001b[0m\u001b[1;33m,\u001b[0m\u001b[1;33m\u001b[0m\u001b[1;33m\u001b[0m\u001b[0m\n\u001b[0;32m    557\u001b[0m               \u001b[0mnum_outputs\u001b[0m\u001b[1;33m=\u001b[0m\u001b[0mself\u001b[0m\u001b[1;33m.\u001b[0m\u001b[0m_num_outputs\u001b[0m\u001b[1;33m,\u001b[0m\u001b[1;33m\u001b[0m\u001b[1;33m\u001b[0m\u001b[0m\n",
      "\u001b[1;32m~\\Anaconda3\\envs\\tensorflow\\lib\\site-packages\\tensorflow\\python\\eager\\execute.py\u001b[0m in \u001b[0;36mquick_execute\u001b[1;34m(op_name, num_outputs, inputs, attrs, ctx, name)\u001b[0m\n\u001b[0;32m     57\u001b[0m   \u001b[1;32mtry\u001b[0m\u001b[1;33m:\u001b[0m\u001b[1;33m\u001b[0m\u001b[1;33m\u001b[0m\u001b[0m\n\u001b[0;32m     58\u001b[0m     \u001b[0mctx\u001b[0m\u001b[1;33m.\u001b[0m\u001b[0mensure_initialized\u001b[0m\u001b[1;33m(\u001b[0m\u001b[1;33m)\u001b[0m\u001b[1;33m\u001b[0m\u001b[1;33m\u001b[0m\u001b[0m\n\u001b[1;32m---> 59\u001b[1;33m     tensors = pywrap_tfe.TFE_Py_Execute(ctx._handle, device_name, op_name,\n\u001b[0m\u001b[0;32m     60\u001b[0m                                         inputs, attrs, num_outputs)\n\u001b[0;32m     61\u001b[0m   \u001b[1;32mexcept\u001b[0m \u001b[0mcore\u001b[0m\u001b[1;33m.\u001b[0m\u001b[0m_NotOkStatusException\u001b[0m \u001b[1;32mas\u001b[0m \u001b[0me\u001b[0m\u001b[1;33m:\u001b[0m\u001b[1;33m\u001b[0m\u001b[1;33m\u001b[0m\u001b[0m\n",
      "\u001b[1;31mKeyboardInterrupt\u001b[0m: "
     ]
    }
   ],
   "source": [
    "rn_model, history = model_MLANN(train_X, train_y, val_X, val_y, 'rn_model')"
   ]
  },
  {
   "cell_type": "code",
   "execution_count": 1407,
   "metadata": {},
   "outputs": [
    {
     "name": "stdout",
     "output_type": "stream",
     "text": [
      "40/40 [==============================] - 0s 1ms/step - loss: 0.0021 - root_mean_squared_error: 0.0460\n"
     ]
    },
    {
     "data": {
      "text/plain": [
       "[0.0021196205634623766, 0.046039335429668427]"
      ]
     },
     "execution_count": 1407,
     "metadata": {},
     "output_type": "execute_result"
    }
   ],
   "source": [
    "rn_model.evaluate(val_X, val_y)"
   ]
  },
  {
   "cell_type": "code",
   "execution_count": 1408,
   "metadata": {},
   "outputs": [],
   "source": [
    "rn_best_model = tf.keras.models.load_model(f\"model_experiments_2/rn_model\")"
   ]
  },
  {
   "cell_type": "code",
   "execution_count": 1409,
   "metadata": {},
   "outputs": [
    {
     "name": "stdout",
     "output_type": "stream",
     "text": [
      "40/40 [==============================] - 0s 2ms/step - loss: 0.0019 - root_mean_squared_error: 0.0440\n"
     ]
    },
    {
     "data": {
      "text/plain": [
       "[0.0019387061474844813, 0.04403074085712433]"
      ]
     },
     "execution_count": 1409,
     "metadata": {},
     "output_type": "execute_result"
    }
   ],
   "source": [
    "rn_best_model.evaluate(val_X, val_y)"
   ]
  },
  {
   "cell_type": "code",
   "execution_count": 1410,
   "metadata": {},
   "outputs": [
    {
     "data": {
      "text/html": [
       "<div>\n",
       "<style scoped>\n",
       "    .dataframe tbody tr th:only-of-type {\n",
       "        vertical-align: middle;\n",
       "    }\n",
       "\n",
       "    .dataframe tbody tr th {\n",
       "        vertical-align: top;\n",
       "    }\n",
       "\n",
       "    .dataframe thead th {\n",
       "        text-align: right;\n",
       "    }\n",
       "</style>\n",
       "<table border=\"1\" class=\"dataframe\">\n",
       "  <thead>\n",
       "    <tr style=\"text-align: right;\">\n",
       "      <th></th>\n",
       "      <th>loss</th>\n",
       "      <th>root_mean_squared_error</th>\n",
       "      <th>val_loss</th>\n",
       "      <th>val_root_mean_squared_error</th>\n",
       "    </tr>\n",
       "  </thead>\n",
       "  <tbody>\n",
       "    <tr>\n",
       "      <th>0</th>\n",
       "      <td>0.049993</td>\n",
       "      <td>0.223590</td>\n",
       "      <td>0.023012</td>\n",
       "      <td>0.151698</td>\n",
       "    </tr>\n",
       "    <tr>\n",
       "      <th>1</th>\n",
       "      <td>0.015006</td>\n",
       "      <td>0.122499</td>\n",
       "      <td>0.010371</td>\n",
       "      <td>0.101837</td>\n",
       "    </tr>\n",
       "    <tr>\n",
       "      <th>2</th>\n",
       "      <td>0.009947</td>\n",
       "      <td>0.099735</td>\n",
       "      <td>0.009026</td>\n",
       "      <td>0.095003</td>\n",
       "    </tr>\n",
       "    <tr>\n",
       "      <th>3</th>\n",
       "      <td>0.009310</td>\n",
       "      <td>0.096488</td>\n",
       "      <td>0.008763</td>\n",
       "      <td>0.093608</td>\n",
       "    </tr>\n",
       "    <tr>\n",
       "      <th>4</th>\n",
       "      <td>0.008885</td>\n",
       "      <td>0.094260</td>\n",
       "      <td>0.008317</td>\n",
       "      <td>0.091199</td>\n",
       "    </tr>\n",
       "    <tr>\n",
       "      <th>...</th>\n",
       "      <td>...</td>\n",
       "      <td>...</td>\n",
       "      <td>...</td>\n",
       "      <td>...</td>\n",
       "    </tr>\n",
       "    <tr>\n",
       "      <th>145</th>\n",
       "      <td>0.002205</td>\n",
       "      <td>0.046961</td>\n",
       "      <td>0.002285</td>\n",
       "      <td>0.047807</td>\n",
       "    </tr>\n",
       "    <tr>\n",
       "      <th>146</th>\n",
       "      <td>0.002187</td>\n",
       "      <td>0.046770</td>\n",
       "      <td>0.002410</td>\n",
       "      <td>0.049092</td>\n",
       "    </tr>\n",
       "    <tr>\n",
       "      <th>147</th>\n",
       "      <td>0.002217</td>\n",
       "      <td>0.047086</td>\n",
       "      <td>0.002342</td>\n",
       "      <td>0.048391</td>\n",
       "    </tr>\n",
       "    <tr>\n",
       "      <th>148</th>\n",
       "      <td>0.002227</td>\n",
       "      <td>0.047196</td>\n",
       "      <td>0.002316</td>\n",
       "      <td>0.048127</td>\n",
       "    </tr>\n",
       "    <tr>\n",
       "      <th>149</th>\n",
       "      <td>0.002221</td>\n",
       "      <td>0.047125</td>\n",
       "      <td>0.002417</td>\n",
       "      <td>0.049160</td>\n",
       "    </tr>\n",
       "  </tbody>\n",
       "</table>\n",
       "<p>150 rows × 4 columns</p>\n",
       "</div>"
      ],
      "text/plain": [
       "         loss  root_mean_squared_error  val_loss  val_root_mean_squared_error\n",
       "0    0.049993                 0.223590  0.023012                     0.151698\n",
       "1    0.015006                 0.122499  0.010371                     0.101837\n",
       "2    0.009947                 0.099735  0.009026                     0.095003\n",
       "3    0.009310                 0.096488  0.008763                     0.093608\n",
       "4    0.008885                 0.094260  0.008317                     0.091199\n",
       "..        ...                      ...       ...                          ...\n",
       "145  0.002205                 0.046961  0.002285                     0.047807\n",
       "146  0.002187                 0.046770  0.002410                     0.049092\n",
       "147  0.002217                 0.047086  0.002342                     0.048391\n",
       "148  0.002227                 0.047196  0.002316                     0.048127\n",
       "149  0.002221                 0.047125  0.002417                     0.049160\n",
       "\n",
       "[150 rows x 4 columns]"
      ]
     },
     "execution_count": 1410,
     "metadata": {},
     "output_type": "execute_result"
    }
   ],
   "source": [
    "history_rn = pd.DataFrame(history.history)\n",
    "history_rn"
   ]
  },
  {
   "cell_type": "code",
   "execution_count": 1411,
   "metadata": {},
   "outputs": [
    {
     "data": {
      "image/png": "[encoded data removed]",
      "text/plain": [
       "<Figure size 432x288 with 1 Axes>"
      ]
     },
     "metadata": {
      "needs_background": "light"
     },
     "output_type": "display_data"
    }
   ],
   "source": [
    "plt.plot(history_rn.index, history_rn['loss'])\n",
    "plt.plot(history_rn.index, history_rn['val_loss'])\n",
    "plt.xlabel('epochs')\n",
    "plt.ylabel('loss')\n",
    "plt.legend(['loss', 'val_loss'])\n",
    "plt.show();"
   ]
  },
  {
   "cell_type": "code",
   "execution_count": 1417,
   "metadata": {},
   "outputs": [],
   "source": [
    "test_rn = rn_best_model.predict(test_df_prep_1)"
   ]
  },
  {
   "cell_type": "code",
   "execution_count": 1418,
   "metadata": {},
   "outputs": [],
   "source": [
    "test_rn_norm = st_output.inverse_transform(test_rn)"
   ]
  },
  {
   "cell_type": "code",
   "execution_count": 1419,
   "metadata": {},
   "outputs": [
    {
     "data": {
      "text/plain": [
       "array([[12.],\n",
       "       [10.],\n",
       "       [20.],\n",
       "       ...,\n",
       "       [80.],\n",
       "       [61.],\n",
       "       [42.]], dtype=float32)"
      ]
     },
     "execution_count": 1419,
     "metadata": {},
     "output_type": "execute_result"
    }
   ],
   "source": [
    "test2 = np.round(np.expm1(test_rn_norm))\n",
    "test2"
   ]
  },
  {
   "cell_type": "code",
   "execution_count": 1420,
   "metadata": {},
   "outputs": [],
   "source": [
    "prueba2 = pd.DataFrame(test2, columns = ['pred'])"
   ]
  },
  {
   "cell_type": "code",
   "execution_count": 1421,
   "metadata": {},
   "outputs": [
    {
     "data": {
      "text/html": [
       "<div>\n",
       "<style scoped>\n",
       "    .dataframe tbody tr th:only-of-type {\n",
       "        vertical-align: middle;\n",
       "    }\n",
       "\n",
       "    .dataframe tbody tr th {\n",
       "        vertical-align: top;\n",
       "    }\n",
       "\n",
       "    .dataframe thead th {\n",
       "        text-align: right;\n",
       "    }\n",
       "</style>\n",
       "<table border=\"1\" class=\"dataframe\">\n",
       "  <thead>\n",
       "    <tr style=\"text-align: right;\">\n",
       "      <th></th>\n",
       "      <th>pred</th>\n",
       "    </tr>\n",
       "  </thead>\n",
       "  <tbody>\n",
       "    <tr>\n",
       "      <th>0</th>\n",
       "      <td>12.0</td>\n",
       "    </tr>\n",
       "    <tr>\n",
       "      <th>1</th>\n",
       "      <td>10.0</td>\n",
       "    </tr>\n",
       "    <tr>\n",
       "      <th>2</th>\n",
       "      <td>20.0</td>\n",
       "    </tr>\n",
       "    <tr>\n",
       "      <th>3</th>\n",
       "      <td>51.0</td>\n",
       "    </tr>\n",
       "    <tr>\n",
       "      <th>4</th>\n",
       "      <td>127.0</td>\n",
       "    </tr>\n",
       "    <tr>\n",
       "      <th>...</th>\n",
       "      <td>...</td>\n",
       "    </tr>\n",
       "    <tr>\n",
       "      <th>5375</th>\n",
       "      <td>147.0</td>\n",
       "    </tr>\n",
       "    <tr>\n",
       "      <th>5376</th>\n",
       "      <td>116.0</td>\n",
       "    </tr>\n",
       "    <tr>\n",
       "      <th>5377</th>\n",
       "      <td>80.0</td>\n",
       "    </tr>\n",
       "    <tr>\n",
       "      <th>5378</th>\n",
       "      <td>61.0</td>\n",
       "    </tr>\n",
       "    <tr>\n",
       "      <th>5379</th>\n",
       "      <td>42.0</td>\n",
       "    </tr>\n",
       "  </tbody>\n",
       "</table>\n",
       "<p>5380 rows × 1 columns</p>\n",
       "</div>"
      ],
      "text/plain": [
       "       pred\n",
       "0      12.0\n",
       "1      10.0\n",
       "2      20.0\n",
       "3      51.0\n",
       "4     127.0\n",
       "...     ...\n",
       "5375  147.0\n",
       "5376  116.0\n",
       "5377   80.0\n",
       "5378   61.0\n",
       "5379   42.0\n",
       "\n",
       "[5380 rows x 1 columns]"
      ]
     },
     "execution_count": 1421,
     "metadata": {},
     "output_type": "execute_result"
    }
   ],
   "source": [
    "prueba2"
   ]
  },
  {
   "cell_type": "code",
   "execution_count": 1423,
   "metadata": {},
   "outputs": [],
   "source": [
    "prueba2.to_csv('Sandtw.csv', header=True, index=False)"
   ]
  },
  {
   "cell_type": "code",
   "execution_count": 1173,
   "metadata": {},
   "outputs": [
    {
     "data": {
      "text/plain": [
       "<AxesSubplot:ylabel='Density'>"
      ]
     },
     "execution_count": 1173,
     "metadata": {},
     "output_type": "execute_result"
    },
    {
     "data": {
      "image/png": "[encoded data removed]",
      "text/plain": [
       "<Figure size 432x288 with 1 Axes>"
      ]
     },
     "metadata": {
      "needs_background": "light"
     },
     "output_type": "display_data"
    }
   ],
   "source": [
    "sns.distplot(test)"
   ]
  },
  {
   "cell_type": "code",
   "execution_count": 1422,
   "metadata": {},
   "outputs": [
    {
     "data": {
      "text/plain": [
       "<AxesSubplot:ylabel='Density'>"
      ]
     },
     "execution_count": 1422,
     "metadata": {},
     "output_type": "execute_result"
    },
    {
     "data": {
      "image/png": "[encoded data removed]",
      "text/plain": [
       "<Figure size 432x288 with 1 Axes>"
      ]
     },
     "metadata": {
      "needs_background": "light"
     },
     "output_type": "display_data"
    }
   ],
   "source": [
    "sns.distplot(test2)"
   ]
  },
  {
   "cell_type": "code",
   "execution_count": null,
   "metadata": {},
   "outputs": [],
   "source": []
  },
  {
   "cell_type": "markdown",
   "metadata": {
    "tags": []
   },
   "source": [
    "## 7. Pruebas\n",
    "<div id='id7'/>"
   ]
  },
  {
   "cell_type": "code",
   "execution_count": 1913,
   "metadata": {},
   "outputs": [],
   "source": [
    "test_prep_1 = test_df.drop(['instant', 'dteday'], axis = 1)"
   ]
  },
  {
   "cell_type": "code",
   "execution_count": 1914,
   "metadata": {},
   "outputs": [
    {
     "data": {
      "text/html": [
       "<div>\n",
       "<style scoped>\n",
       "    .dataframe tbody tr th:only-of-type {\n",
       "        vertical-align: middle;\n",
       "    }\n",
       "\n",
       "    .dataframe tbody tr th {\n",
       "        vertical-align: top;\n",
       "    }\n",
       "\n",
       "    .dataframe thead th {\n",
       "        text-align: right;\n",
       "    }\n",
       "</style>\n",
       "<table border=\"1\" class=\"dataframe\">\n",
       "  <thead>\n",
       "    <tr style=\"text-align: right;\">\n",
       "      <th></th>\n",
       "      <th>season</th>\n",
       "      <th>yr</th>\n",
       "      <th>mnth</th>\n",
       "      <th>hr</th>\n",
       "      <th>holiday</th>\n",
       "      <th>weekday</th>\n",
       "      <th>workingday</th>\n",
       "      <th>weathersit</th>\n",
       "      <th>temp</th>\n",
       "      <th>atemp</th>\n",
       "      <th>hum</th>\n",
       "      <th>windspeed</th>\n",
       "    </tr>\n",
       "  </thead>\n",
       "  <tbody>\n",
       "    <tr>\n",
       "      <th>0</th>\n",
       "      <td>2</td>\n",
       "      <td>1</td>\n",
       "      <td>5</td>\n",
       "      <td>4</td>\n",
       "      <td>0</td>\n",
       "      <td>0</td>\n",
       "      <td>0</td>\n",
       "      <td>1</td>\n",
       "      <td>0.52</td>\n",
       "      <td>0.5000</td>\n",
       "      <td>0.68</td>\n",
       "      <td>0.0896</td>\n",
       "    </tr>\n",
       "    <tr>\n",
       "      <th>1</th>\n",
       "      <td>2</td>\n",
       "      <td>1</td>\n",
       "      <td>5</td>\n",
       "      <td>5</td>\n",
       "      <td>0</td>\n",
       "      <td>0</td>\n",
       "      <td>0</td>\n",
       "      <td>1</td>\n",
       "      <td>0.50</td>\n",
       "      <td>0.4848</td>\n",
       "      <td>0.72</td>\n",
       "      <td>0.1045</td>\n",
       "    </tr>\n",
       "    <tr>\n",
       "      <th>2</th>\n",
       "      <td>2</td>\n",
       "      <td>1</td>\n",
       "      <td>5</td>\n",
       "      <td>6</td>\n",
       "      <td>0</td>\n",
       "      <td>0</td>\n",
       "      <td>0</td>\n",
       "      <td>1</td>\n",
       "      <td>0.50</td>\n",
       "      <td>0.4848</td>\n",
       "      <td>0.63</td>\n",
       "      <td>0.1343</td>\n",
       "    </tr>\n",
       "    <tr>\n",
       "      <th>3</th>\n",
       "      <td>2</td>\n",
       "      <td>1</td>\n",
       "      <td>5</td>\n",
       "      <td>7</td>\n",
       "      <td>0</td>\n",
       "      <td>0</td>\n",
       "      <td>0</td>\n",
       "      <td>1</td>\n",
       "      <td>0.52</td>\n",
       "      <td>0.5000</td>\n",
       "      <td>0.68</td>\n",
       "      <td>0.1940</td>\n",
       "    </tr>\n",
       "    <tr>\n",
       "      <th>4</th>\n",
       "      <td>2</td>\n",
       "      <td>1</td>\n",
       "      <td>5</td>\n",
       "      <td>8</td>\n",
       "      <td>0</td>\n",
       "      <td>0</td>\n",
       "      <td>0</td>\n",
       "      <td>1</td>\n",
       "      <td>0.56</td>\n",
       "      <td>0.5303</td>\n",
       "      <td>0.56</td>\n",
       "      <td>0.1642</td>\n",
       "    </tr>\n",
       "  </tbody>\n",
       "</table>\n",
       "</div>"
      ],
      "text/plain": [
       "   season  yr  mnth  hr  holiday  weekday  workingday  weathersit  temp  \\\n",
       "0       2   1     5   4        0        0           0           1  0.52   \n",
       "1       2   1     5   5        0        0           0           1  0.50   \n",
       "2       2   1     5   6        0        0           0           1  0.50   \n",
       "3       2   1     5   7        0        0           0           1  0.52   \n",
       "4       2   1     5   8        0        0           0           1  0.56   \n",
       "\n",
       "    atemp   hum  windspeed  \n",
       "0  0.5000  0.68     0.0896  \n",
       "1  0.4848  0.72     0.1045  \n",
       "2  0.4848  0.63     0.1343  \n",
       "3  0.5000  0.68     0.1940  \n",
       "4  0.5303  0.56     0.1642  "
      ]
     },
     "execution_count": 1914,
     "metadata": {},
     "output_type": "execute_result"
    }
   ],
   "source": [
    "test_prep_1.head()"
   ]
  },
  {
   "cell_type": "markdown",
   "metadata": {
    "tags": []
   },
   "source": [
    "### Preprocesamiento test [Método de selección 1](#idtrainfs1)\n",
    "<div id='idpruebafs1'/>"
   ]
  },
  {
   "cell_type": "code",
   "execution_count": 1915,
   "metadata": {},
   "outputs": [],
   "source": [
    "test_prep_fs_1 = test_prep_1.drop(['temp','workingday','mnth'],axis = 1)"
   ]
  },
  {
   "cell_type": "code",
   "execution_count": 1916,
   "metadata": {},
   "outputs": [
    {
     "data": {
      "text/html": [
       "<div>\n",
       "<style scoped>\n",
       "    .dataframe tbody tr th:only-of-type {\n",
       "        vertical-align: middle;\n",
       "    }\n",
       "\n",
       "    .dataframe tbody tr th {\n",
       "        vertical-align: top;\n",
       "    }\n",
       "\n",
       "    .dataframe thead th {\n",
       "        text-align: right;\n",
       "    }\n",
       "</style>\n",
       "<table border=\"1\" class=\"dataframe\">\n",
       "  <thead>\n",
       "    <tr style=\"text-align: right;\">\n",
       "      <th></th>\n",
       "      <th>season</th>\n",
       "      <th>yr</th>\n",
       "      <th>hr</th>\n",
       "      <th>holiday</th>\n",
       "      <th>weekday</th>\n",
       "      <th>weathersit</th>\n",
       "      <th>atemp</th>\n",
       "      <th>hum</th>\n",
       "      <th>windspeed</th>\n",
       "    </tr>\n",
       "  </thead>\n",
       "  <tbody>\n",
       "    <tr>\n",
       "      <th>0</th>\n",
       "      <td>2</td>\n",
       "      <td>1</td>\n",
       "      <td>4</td>\n",
       "      <td>0</td>\n",
       "      <td>0</td>\n",
       "      <td>1</td>\n",
       "      <td>0.5000</td>\n",
       "      <td>0.68</td>\n",
       "      <td>0.0896</td>\n",
       "    </tr>\n",
       "    <tr>\n",
       "      <th>1</th>\n",
       "      <td>2</td>\n",
       "      <td>1</td>\n",
       "      <td>5</td>\n",
       "      <td>0</td>\n",
       "      <td>0</td>\n",
       "      <td>1</td>\n",
       "      <td>0.4848</td>\n",
       "      <td>0.72</td>\n",
       "      <td>0.1045</td>\n",
       "    </tr>\n",
       "    <tr>\n",
       "      <th>2</th>\n",
       "      <td>2</td>\n",
       "      <td>1</td>\n",
       "      <td>6</td>\n",
       "      <td>0</td>\n",
       "      <td>0</td>\n",
       "      <td>1</td>\n",
       "      <td>0.4848</td>\n",
       "      <td>0.63</td>\n",
       "      <td>0.1343</td>\n",
       "    </tr>\n",
       "    <tr>\n",
       "      <th>3</th>\n",
       "      <td>2</td>\n",
       "      <td>1</td>\n",
       "      <td>7</td>\n",
       "      <td>0</td>\n",
       "      <td>0</td>\n",
       "      <td>1</td>\n",
       "      <td>0.5000</td>\n",
       "      <td>0.68</td>\n",
       "      <td>0.1940</td>\n",
       "    </tr>\n",
       "    <tr>\n",
       "      <th>4</th>\n",
       "      <td>2</td>\n",
       "      <td>1</td>\n",
       "      <td>8</td>\n",
       "      <td>0</td>\n",
       "      <td>0</td>\n",
       "      <td>1</td>\n",
       "      <td>0.5303</td>\n",
       "      <td>0.56</td>\n",
       "      <td>0.1642</td>\n",
       "    </tr>\n",
       "  </tbody>\n",
       "</table>\n",
       "</div>"
      ],
      "text/plain": [
       "   season  yr  hr  holiday  weekday  weathersit   atemp   hum  windspeed\n",
       "0       2   1   4        0        0           1  0.5000  0.68     0.0896\n",
       "1       2   1   5        0        0           1  0.4848  0.72     0.1045\n",
       "2       2   1   6        0        0           1  0.4848  0.63     0.1343\n",
       "3       2   1   7        0        0           1  0.5000  0.68     0.1940\n",
       "4       2   1   8        0        0           1  0.5303  0.56     0.1642"
      ]
     },
     "execution_count": 1916,
     "metadata": {},
     "output_type": "execute_result"
    }
   ],
   "source": [
    "test_prep_fs_1.head()"
   ]
  },
  {
   "cell_type": "code",
   "execution_count": 1918,
   "metadata": {},
   "outputs": [],
   "source": [
    "test_rf_1 = grid.predict(test_prep_fs_1_2)"
   ]
  },
  {
   "cell_type": "code",
   "execution_count": 1917,
   "metadata": {},
   "outputs": [],
   "source": [
    "test_rf_1 = rf.predict(test_prep_fs_1_2)"
   ]
  },
  {
   "cell_type": "code",
   "execution_count": 1919,
   "metadata": {},
   "outputs": [
    {
     "data": {
      "text/plain": [
       "array([[ 23.],\n",
       "       [ 21.],\n",
       "       [ 29.],\n",
       "       ...,\n",
       "       [100.],\n",
       "       [101.],\n",
       "       [ 56.]])"
      ]
     },
     "execution_count": 1919,
     "metadata": {},
     "output_type": "execute_result"
    }
   ],
   "source": [
    "test_rf_1 = np.round(test_rf_1.reshape(-1,1))\n",
    "test_rf_1"
   ]
  },
  {
   "cell_type": "code",
   "execution_count": 1920,
   "metadata": {},
   "outputs": [],
   "source": [
    "prueba_rf_1 = pd.DataFrame(test_rf_1, columns = ['pred'])"
   ]
  },
  {
   "cell_type": "code",
   "execution_count": 1921,
   "metadata": {},
   "outputs": [
    {
     "data": {
      "text/html": [
       "<div>\n",
       "<style scoped>\n",
       "    .dataframe tbody tr th:only-of-type {\n",
       "        vertical-align: middle;\n",
       "    }\n",
       "\n",
       "    .dataframe tbody tr th {\n",
       "        vertical-align: top;\n",
       "    }\n",
       "\n",
       "    .dataframe thead th {\n",
       "        text-align: right;\n",
       "    }\n",
       "</style>\n",
       "<table border=\"1\" class=\"dataframe\">\n",
       "  <thead>\n",
       "    <tr style=\"text-align: right;\">\n",
       "      <th></th>\n",
       "      <th>pred</th>\n",
       "    </tr>\n",
       "  </thead>\n",
       "  <tbody>\n",
       "    <tr>\n",
       "      <th>0</th>\n",
       "      <td>23.0</td>\n",
       "    </tr>\n",
       "    <tr>\n",
       "      <th>1</th>\n",
       "      <td>21.0</td>\n",
       "    </tr>\n",
       "    <tr>\n",
       "      <th>2</th>\n",
       "      <td>29.0</td>\n",
       "    </tr>\n",
       "    <tr>\n",
       "      <th>3</th>\n",
       "      <td>154.0</td>\n",
       "    </tr>\n",
       "    <tr>\n",
       "      <th>4</th>\n",
       "      <td>255.0</td>\n",
       "    </tr>\n",
       "    <tr>\n",
       "      <th>...</th>\n",
       "      <td>...</td>\n",
       "    </tr>\n",
       "    <tr>\n",
       "      <th>5375</th>\n",
       "      <td>188.0</td>\n",
       "    </tr>\n",
       "    <tr>\n",
       "      <th>5376</th>\n",
       "      <td>141.0</td>\n",
       "    </tr>\n",
       "    <tr>\n",
       "      <th>5377</th>\n",
       "      <td>100.0</td>\n",
       "    </tr>\n",
       "    <tr>\n",
       "      <th>5378</th>\n",
       "      <td>101.0</td>\n",
       "    </tr>\n",
       "    <tr>\n",
       "      <th>5379</th>\n",
       "      <td>56.0</td>\n",
       "    </tr>\n",
       "  </tbody>\n",
       "</table>\n",
       "<p>5380 rows × 1 columns</p>\n",
       "</div>"
      ],
      "text/plain": [
       "       pred\n",
       "0      23.0\n",
       "1      21.0\n",
       "2      29.0\n",
       "3     154.0\n",
       "4     255.0\n",
       "...     ...\n",
       "5375  188.0\n",
       "5376  141.0\n",
       "5377  100.0\n",
       "5378  101.0\n",
       "5379   56.0\n",
       "\n",
       "[5380 rows x 1 columns]"
      ]
     },
     "execution_count": 1921,
     "metadata": {},
     "output_type": "execute_result"
    }
   ],
   "source": [
    "prueba_rf_1"
   ]
  },
  {
   "cell_type": "code",
   "execution_count": 1922,
   "metadata": {},
   "outputs": [],
   "source": [
    "prueba_rf_1.to_csv('Day 3/Sandtw.csv', header=True, index=False)"
   ]
  },
  {
   "cell_type": "markdown",
   "metadata": {},
   "source": [
    "### Preprocesamiento test [Método de selección 2](#idtrainfs2)\n",
    "<div id='idpruebafs2'/>"
   ]
  },
  {
   "cell_type": "code",
   "execution_count": null,
   "metadata": {},
   "outputs": [],
   "source": [
    "test_prep_fs_2 = test_prep_1.drop(['windspeed','temp','season','hum'],axis = 1)"
   ]
  },
  {
   "cell_type": "code",
   "execution_count": null,
   "metadata": {},
   "outputs": [],
   "source": [
    "test_prep_fs_2.head()"
   ]
  }
 ],
 "metadata": {
  "kernelspec": {
   "display_name": "Python 3",
   "language": "python",
   "name": "python3"
  },
  "language_info": {
   "codemirror_mode": {
    "name": "ipython",
    "version": 3
   },
   "file_extension": ".py",
   "mimetype": "text/x-python",
   "name": "python",
   "nbconvert_exporter": "python",
   "pygments_lexer": "ipython3",
   "version": "3.8.8"
  }
 },
 "nbformat": 4,
 "nbformat_minor": 4
}
